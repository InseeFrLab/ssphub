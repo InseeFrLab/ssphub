{
  "cells": [
    {
      "cell_type": "markdown",
      "metadata": {},
      "source": [
        "# Prise en main de Polars\n",
        "\n",
        "`Polars` est un package `Python` permettant de manipuler les données\n",
        "tabulaires à partir de différents types de fichiers (CSV, Parquet,\n",
        "etc.). Il est une alternative directe et moderne à `Pandas`, pensée pour\n",
        "être très performante tout en offrant une syntaxe compréhensible à pour\n",
        "des *data scientists* habitués à d’autres *frameworks* de manipulation\n",
        "de données comme `dplyr`.\n",
        "\n",
        "Ce notebook offre un complément à\n",
        "l’[article](https://ssphub.netlify.app/post/polars/) publié sur le blog\n",
        "du réseau des data scientists de la statistique publique. Les exemples\n",
        "sont reproductibles dans de nombreux environnements, à condition\n",
        "d’installer les packages comme indiqué ci-dessous. Les utilisateurs du\n",
        "SSP Cloud ou de Colab pourront directement ouvrir ce notebook en\n",
        "utilisant les boutons suivants:\n",
        "\n",
        "<a href=\"https://datalab.sspcloud.fr/launcher/ide/jupyter-python?autoLaunch=false&init.personalInit=%C2%ABhttps%3A%2F%2Fraw.githubusercontent.com%2Fromaintailhurat%2Fssphub%2Fblog%2Fpolars%2Fcontent%2Fnotebooks%2Finit.sh%C2%BB&init.personalInitArgs=%C2%ABpolars-tuto%C2%BB&onyxia.friendlyName=%C2%ABTutoriel%20Polars%C2%BB\" target=\"_blank\" rel=\"noopener\"><img src=\"https://img.shields.io/badge/SSPcloud-Tester%20notebook%20sur%20SSP--cloud-informational&amp;color=yellow?logo=Python\" alt=\"Onyxia\"></a>\n",
        "<a href=\"http://colab.research.google.com/github/inseefrlab/ssphub/blob/main/content/notebooks/polars-tuto.ipynb\" target=\"_blank\" rel=\"noopener\"><img src=\"https://colab.research.google.com/assets/colab-badge.svg\" alt=\"Open In Colab\"></a>\n",
        "\n",
        "Pour faire le parallèle avec les exemples pour [découvrir le `tidyverse`\n",
        "dans\n",
        "`utilitr`](https://www.book.utilitr.org/03_fiches_thematiques/fiche_tidyverse)),\n",
        "ce *notebook* exploite la [Base Permanente des Equipements\n",
        "(BPE)](https://www.insee.fr/fr/metadonnees/source/serie/s1161)."
      ],
      "id": "e653e00d-22dc-4684-8355-448ae6f025b0"
    },
    {
      "cell_type": "markdown",
      "metadata": {},
      "source": [
        "<div class=\"alert alert-danger\" role=\"alert\" style=\"color: rgba(0,0,0,.8); background-color: white; margin-top: 1em; margin-bottom: 1em; margin:1.5625emauto; padding:0 .6rem .8rem!important;overflow:hidden; page-break-inside:avoid; border-radius:.25rem; box-shadow:0 .2rem .5rem rgba(0,0,0,.05),0 0 .05rem rgba(0,0,0,.1); transition:color .25s,background-color .25s,border-color .25s ; border-right: 1px solid #dee2e6 ; border-top: 1px solid #dee2e6 ; border-bottom: 1px solid #dee2e6 ; border-left: .2rem solid #ff0039;\">\n",
        "<h3 class=\"alert-heading\"><i class=\"fa fa-exclamation-triangle\"></i> Warning</h3>\n",
        "\n",
        "Outre `Polars`, ce notebook propose des compléments qui utilisent les\n",
        "packages [`s3fs`](https://s3fs.readthedocs.io/en/latest/) et\n",
        "[`Pynsee`](https://github.com/InseeFrLab/pynsee) pour, respectivement,\n",
        "interagir avec un espace de stockage distant de type `S3` et récupérer\n",
        "les données d’illustration sur le site\n",
        "[insee.fr](https://www.insee.fr/fr/accueil). `Pynsee` est nécessaire en\n",
        "début de *notebook* pour faciliter la récupération de la source de\n",
        "données utilisée. `s3fs` n’est nécessaire que pour faire tourner les\n",
        "exemples présents dans les encadrés proposant des détails\n",
        "supplémentaires ou alternatifs. La dernière partie utilise également le\n",
        "package [`DuckDB`](https://duckdb.org/docs/api/python/overview.html)\n",
        "pour illustrer la complémentarité avec une approche utilisant des\n",
        "requêtes SQL pour la manipulation de données.\n",
        "\n",
        "</div>"
      ],
      "id": "8e343f8d-b763-4abc-8c3e-7468673e8e2b"
    },
    {
      "cell_type": "markdown",
      "metadata": {},
      "source": [
        "Pour pouvoir installer les packages utilisés par ce tutoriel, il est\n",
        "nécessaire d’exécuter la cellule suivante:"
      ],
      "id": "41ee5040-0369-4470-82b7-b145e53ff186"
    },
    {
      "cell_type": "code",
      "execution_count": 1,
      "metadata": {},
      "outputs": [],
      "source": [
        "!pip install polars pynsee[full] s3fs duckdb"
      ],
      "id": "13ec0804-ad33-4496-813a-0831c91477f0"
    },
    {
      "cell_type": "markdown",
      "metadata": {},
      "source": [
        "Nous aurons besoin d’importer les packages suivants dans ce *notebook*:"
      ],
      "id": "fe328ad2-9361-49f3-99ae-a4af28cd6bba"
    },
    {
      "cell_type": "code",
      "execution_count": 2,
      "metadata": {},
      "outputs": [],
      "source": [
        "import os\n",
        "import polars as pl\n",
        "import s3fs\n",
        "from pynsee.download import download_file"
      ],
      "id": "18de3aea-432e-48fe-8282-31f781aa7390"
    },
    {
      "cell_type": "markdown",
      "metadata": {},
      "source": [
        "# Lecture de données\n",
        "\n",
        "A partir d’un csv, il est possible de créer un `DataFrame` `Polars` de\n",
        "plusieurs manières :\n",
        "\n",
        "1.  Charger les données via `Pandas` puis les transformer en objet\n",
        "    `Polars`\n",
        "2.  Charger les données directement avec `Polars` via une fonction\n",
        "    `read_csv` qui fonctionne, en apparence, de la même manière que\n",
        "    celle de `Pandas`\n",
        "\n",
        "Ces deux approches sont présentées dans les prochaines parties.\n",
        "\n",
        "## A partir d’un objet `Pandas`\n",
        "\n",
        "Le *package* `Pynsee` fonctionne en deux temps pour créer un `DataFrame`\n",
        "`Pandas` à partir des données disponibles sur le site\n",
        "[insee.fr](https://www.insee.fr/fr/accueil) :\n",
        "\n",
        "1.  Récupération des données depuis le site\n",
        "    [insee.fr](https://www.insee.fr/fr/accueil) à partir des paramètres\n",
        "    de la fonction `download_file` (source, année…)\n",
        "2.  Import sous forme de `DataFrame` `Pandas` avec un typage pré-défini\n",
        "    dans le *package*, adapté à la source\n",
        "\n",
        "Pour récupérer des données via `Pynsee`, la fonction de référence est\n",
        "`download_file`:"
      ],
      "id": "9c4bb674-e2ac-4d1c-9bbd-b8249ea7d307"
    },
    {
      "cell_type": "code",
      "execution_count": 3,
      "metadata": {},
      "outputs": [],
      "source": [
        "pandas_df_bpe = download_file(\"BPE_ENS\", update = True)"
      ],
      "id": "be71da10-ddc8-44b2-9a38-269d103dcb2a"
    },
    {
      "cell_type": "markdown",
      "metadata": {},
      "source": [
        "`Pynsee` renvoie un `DataFrame` `Pandas` correspondant à la source\n",
        "désiré :"
      ],
      "id": "e8984356-5b10-4d90-94db-cf2abef14fe2"
    },
    {
      "cell_type": "code",
      "execution_count": 4,
      "metadata": {},
      "outputs": [
        {
          "output_type": "display_data",
          "metadata": {},
          "data": {
            "text/plain": [
              "pandas.core.frame.DataFrame"
            ]
          }
        }
      ],
      "source": [
        "pandas_df_bpe.__class__"
      ],
      "id": "3766dc6b-fe69-4943-8599-58e7565dfd57"
    },
    {
      "cell_type": "markdown",
      "metadata": {},
      "source": [
        "<div class=\"alert alert-danger\" role=\"alert\" style=\"color: rgba(0,0,0,.8); background-color: white; margin-top: 1em; margin-bottom: 1em; margin:1.5625emauto; padding:0 .6rem .8rem!important;overflow:hidden; page-break-inside:avoid; border-radius:.25rem; box-shadow:0 .2rem .5rem rgba(0,0,0,.05),0 0 .05rem rgba(0,0,0,.1); transition:color .25s,background-color .25s,border-color .25s ; border-right: 1px solid #dee2e6 ; border-top: 1px solid #dee2e6 ; border-bottom: 1px solid #dee2e6 ; border-left: .2rem solid #ff0039;\">\n",
        "<h3 class=\"alert-heading\"><i class=\"fa fa-exclamation-triangle\"></i> Warning</h3>\n",
        "\n",
        "Ces deux étapes sont là pour éviter le téléchargement manuel du CSV.\n",
        "Elles pourraient être remplacées par un `pd.read_csv` vers un URL bien\n",
        "choisi. Cependant le typage des données pourrait ne pas être optimal.\n",
        "\n",
        "</div>"
      ],
      "id": "e471fefe-11ed-41bc-9227-0004ea2d8d57"
    },
    {
      "cell_type": "markdown",
      "metadata": {},
      "source": [
        "La conversion d’un objet `Pandas` en `Polars` se fait via la méthode\n",
        "`from_pandas`:"
      ],
      "id": "1a5d3dd6-a272-4826-89cd-e69d907d1c87"
    },
    {
      "cell_type": "code",
      "execution_count": 5,
      "metadata": {},
      "outputs": [],
      "source": [
        "df = pl.from_pandas(pandas_df_bpe)"
      ],
      "id": "8bef20c8-2728-486a-b8f2-b084f91a8781"
    },
    {
      "cell_type": "markdown",
      "metadata": {},
      "source": [
        "Les `DataFrame` `Polars` apparaissent de manière différente des\n",
        "`DataFrame` `Pandas` dans la console ou dans le *display* de `Jupyter`:\n",
        "\n",
        "-   `pd.DataFrame`:"
      ],
      "id": "79bccfc5-bc32-4206-9b3a-b8ce5b827d6c"
    },
    {
      "cell_type": "code",
      "execution_count": 6,
      "metadata": {},
      "outputs": [
        {
          "output_type": "display_data",
          "metadata": {},
          "data": {
            "text/html": [
              "<div>\n",
              "<style scoped>\n",
              "    .dataframe tbody tr th:only-of-type {\n",
              "        vertical-align: middle;\n",
              "    }\n",
              "\n",
              "    .dataframe tbody tr th {\n",
              "        vertical-align: top;\n",
              "    }\n",
              "\n",
              "    .dataframe thead th {\n",
              "        text-align: right;\n",
              "    }\n",
              "</style>\n",
              "<table border=\"1\" class=\"dataframe\">\n",
              "  <thead>\n",
              "    <tr style=\"text-align: right;\">\n",
              "      <th></th>\n",
              "      <th>AAV2020</th>\n",
              "      <th>AN</th>\n",
              "      <th>BV2012</th>\n",
              "      <th>DEP</th>\n",
              "      <th>DEPCOM</th>\n",
              "      <th>DOM</th>\n",
              "      <th>EPCI</th>\n",
              "      <th>DCIRIS</th>\n",
              "      <th>REG</th>\n",
              "      <th>SDOM</th>\n",
              "      <th>TYPEQU</th>\n",
              "      <th>UU2020</th>\n",
              "      <th>NB_EQUIP</th>\n",
              "    </tr>\n",
              "  </thead>\n",
              "  <tbody>\n",
              "    <tr>\n",
              "      <th>0</th>\n",
              "      <td>524</td>\n",
              "      <td>2021</td>\n",
              "      <td>01093</td>\n",
              "      <td>01</td>\n",
              "      <td>01001</td>\n",
              "      <td>A</td>\n",
              "      <td>200069193</td>\n",
              "      <td>010010000</td>\n",
              "      <td>84</td>\n",
              "      <td>A1</td>\n",
              "      <td>A129</td>\n",
              "      <td>CSZ</td>\n",
              "      <td>1</td>\n",
              "    </tr>\n",
              "    <tr>\n",
              "      <th>1</th>\n",
              "      <td>524</td>\n",
              "      <td>2021</td>\n",
              "      <td>01093</td>\n",
              "      <td>01</td>\n",
              "      <td>01001</td>\n",
              "      <td>A</td>\n",
              "      <td>200069193</td>\n",
              "      <td>010010000</td>\n",
              "      <td>84</td>\n",
              "      <td>A4</td>\n",
              "      <td>A401</td>\n",
              "      <td>CSZ</td>\n",
              "      <td>2</td>\n",
              "    </tr>\n",
              "  </tbody>\n",
              "</table>\n",
              "</div>"
            ]
          }
        }
      ],
      "source": [
        "pandas_df_bpe.head(2)"
      ],
      "id": "918a95cd-ef0c-4684-9e11-cb98bfba48a0"
    },
    {
      "cell_type": "markdown",
      "metadata": {},
      "source": [
        "-   `pl.DataFrame`:"
      ],
      "id": "104fef1c-8a97-4270-9e12-1a14f8124ca1"
    },
    {
      "cell_type": "code",
      "execution_count": 7,
      "metadata": {},
      "outputs": [
        {
          "output_type": "display_data",
          "metadata": {},
          "data": {
            "text/html": [
              "<div><style>\n",
              ".dataframe > thead > tr > th,\n",
              ".dataframe > tbody > tr > td {\n",
              "  text-align: right;\n",
              "}\n",
              "</style>\n",
              "<small>shape: (2, 13)</small><table border=\"1\" class=\"dataframe\"><thead><tr><th>AAV2020</th><th>AN</th><th>BV2012</th><th>DEP</th><th>DEPCOM</th><th>DOM</th><th>EPCI</th><th>DCIRIS</th><th>REG</th><th>SDOM</th><th>TYPEQU</th><th>UU2020</th><th>NB_EQUIP</th></tr><tr><td>str</td><td>str</td><td>str</td><td>str</td><td>str</td><td>str</td><td>str</td><td>str</td><td>str</td><td>str</td><td>str</td><td>str</td><td>str</td></tr></thead><tbody><tr><td>&quot;524&quot;</td><td>&quot;2021&quot;</td><td>&quot;01093&quot;</td><td>&quot;01&quot;</td><td>&quot;01001&quot;</td><td>&quot;A&quot;</td><td>&quot;200069193&quot;</td><td>&quot;010010000&quot;</td><td>&quot;84&quot;</td><td>&quot;A1&quot;</td><td>&quot;A129&quot;</td><td>&quot;CSZ&quot;</td><td>&quot;1&quot;</td></tr><tr><td>&quot;524&quot;</td><td>&quot;2021&quot;</td><td>&quot;01093&quot;</td><td>&quot;01&quot;</td><td>&quot;01001&quot;</td><td>&quot;A&quot;</td><td>&quot;200069193&quot;</td><td>&quot;010010000&quot;</td><td>&quot;84&quot;</td><td>&quot;A4&quot;</td><td>&quot;A401&quot;</td><td>&quot;CSZ&quot;</td><td>&quot;2&quot;</td></tr></tbody></table></div>"
            ]
          }
        }
      ],
      "source": [
        "df.head(2)"
      ],
      "id": "9560685e-b81e-48f5-acb8-554a4b6ac834"
    },
    {
      "cell_type": "markdown",
      "metadata": {},
      "source": [
        "On va écrire au format\n",
        "[Parquet](https://pythonds.linogaliana.fr/reads3/) ce `DataFrame` pour\n",
        "ensuite illustrer la lecture à partir de ce format, plus performant."
      ],
      "id": "38edc7bf-efaf-4834-a97e-07196b7473cb"
    },
    {
      "cell_type": "code",
      "execution_count": 8,
      "metadata": {},
      "outputs": [],
      "source": [
        "df.write_parquet(\"bpe.parquet\")"
      ],
      "id": "08583941-665b-4222-aeff-aa760e6eb495"
    },
    {
      "cell_type": "markdown",
      "metadata": {},
      "source": [
        "## En lecture directe depuis un CSV\n",
        "\n",
        "Pour faciliter l’usage des données de la [Base Permanente des\n",
        "Equipements\n",
        "(BPE)](https://www.insee.fr/fr/metadonnees/source/serie/s1161), une\n",
        "copie de la version 2019 disponible sur le site de l’Insee est mise à\n",
        "disposition, prête à l’emploi. Elle est disponible depuis l’URL :\n",
        "https://minio.lab.sspcloud.fr/donnees-insee/diffusion/BPE/2019/BPE_ENS.csv"
      ],
      "id": "a1e930cd-d485-4d42-b5dd-08f61981d5e8"
    },
    {
      "cell_type": "code",
      "execution_count": 9,
      "metadata": {},
      "outputs": [],
      "source": [
        "url = \"https://minio.lab.sspcloud.fr/donnees-insee/diffusion/BPE/2019/BPE_ENS.csv\"\n",
        "df_bpe = pl.read_csv(\n",
        "    url, sep = \";\",\n",
        "    dtypes={\n",
        "        \"DEP\": pl.Categorical,\n",
        "        \"DEPCOM\": pl.Categorical\n",
        "    })"
      ],
      "id": "5abf3c84-ab3b-404c-b35d-93a806ed0b56"
    },
    {
      "cell_type": "markdown",
      "metadata": {},
      "source": [
        "L’option `dtypes` est ici nécessaire sous peine d’une erreur qu’on ne\n",
        "rencontrait pas avec `Pandas` car `Polars` est plus vigilant sur la\n",
        "nature piégeuse de certaines variables comme les numéros de départements\n",
        "français (qui sont tous numériques sauf les numéros Corse *“2A”* et\n",
        "*“2B”*) et demande à l’utilisateur de données de fixer le type de ces\n",
        "variables."
      ],
      "id": "87149af7-8409-462a-80ec-b8e99d22c7a6"
    },
    {
      "cell_type": "markdown",
      "metadata": {},
      "source": [
        "<div class=\"alert alert-info\" role=\"alert\" style=\"color: rgba(0,0,0,.8); background-color: white; margin-top: 1em; margin-bottom: 1em; margin:1.5625emauto; padding:0 .6rem .8rem!important;overflow:hidden; page-break-inside:avoid; border-radius:.25rem; box-shadow:0 .2rem .5rem rgba(0,0,0,.05),0 0 .05rem rgba(0,0,0,.1); transition:color .25s,background-color .25s,border-color .25s ; border-right: 1px solid #dee2e6 ; border-top: 1px solid #dee2e6 ; border-bottom: 1px solid #dee2e6 ; border-left:.2rem solid #007bff80;\">\n",
        "<h3 class=\"alert-heading\"><i class=\"fa fa-comment\"></i> Note</h3>\n",
        "\n",
        "Pour les utilisateurs du [SSP Cloud](https://www.sspcloud.fr/), il\n",
        "existe une méthode plus universelle pour récupérer des données\n",
        "disponibles depuis le système de stockage. La librairie `S3FS` permet de\n",
        "traiter le système de stockage S3 comme un *filesystem* (FS) local. Il\n",
        "est donc possible de directement lire depuis un CSV en passant par\n",
        "l’espace de stockage de la plateforme:\n",
        "\n",
        "``` python\n",
        "S3_ENDPOINT_URL = \"https://\" + os.environ[\"AWS_S3_ENDPOINT\"]\n",
        "fs = s3fs.S3FileSystem(client_kwargs={'endpoint_url': S3_ENDPOINT_URL})\n",
        "BUCKET = \"donnees-insee/diffusion/BPE/2019\"\n",
        "\n",
        "with fs.open(f\"{BUCKET}/BPE_ENS.csv\") as bpe_csv:\n",
        "    df_bpe = pl.read_csv(\n",
        "        bpe_csv, sep = \";\",\n",
        "        dtypes={\n",
        "            \"DEP\": pl.Categorical,\n",
        "            \"DEPCOM\": pl.Categorical\n",
        "            })\n",
        "    print(df_bpe.head())\n",
        "```\n",
        "\n",
        "    shape: (5, 7)\n",
        "    ┌─────┬─────┬────────┬────────┬──────┬────────┬──────────┐\n",
        "    │ REG ┆ DEP ┆ DEPCOM ┆ DCIRIS ┆ AN   ┆ TYPEQU ┆ NB_EQUIP │\n",
        "    │ --- ┆ --- ┆ ---    ┆ ---    ┆ ---  ┆ ---    ┆ ---      │\n",
        "    │ i64 ┆ cat ┆ cat    ┆ str    ┆ i64  ┆ str    ┆ i64      │\n",
        "    ╞═════╪═════╪════════╪════════╪══════╪════════╪══════════╡\n",
        "    │ 84  ┆ 01  ┆ 01001  ┆ 01001  ┆ 2019 ┆ A401   ┆ 2        │\n",
        "    │ 84  ┆ 01  ┆ 01001  ┆ 01001  ┆ 2019 ┆ A404   ┆ 4        │\n",
        "    │ 84  ┆ 01  ┆ 01001  ┆ 01001  ┆ 2019 ┆ A405   ┆ 2        │\n",
        "    │ 84  ┆ 01  ┆ 01001  ┆ 01001  ┆ 2019 ┆ A504   ┆ 1        │\n",
        "    │ 84  ┆ 01  ┆ 01001  ┆ 01001  ┆ 2019 ┆ A507   ┆ 1        │\n",
        "    └─────┴─────┴────────┴────────┴──────┴────────┴──────────┘\n",
        "\n",
        "</div>"
      ],
      "id": "ebaa3d53-0e48-4220-9925-8dbc1f30f721"
    },
    {
      "cell_type": "markdown",
      "metadata": {},
      "source": [
        "# Comment utiliser Polars ?\n",
        "\n",
        "Dans la suite de ce tutoriel, on va privilégier l’import depuis un\n",
        "fichier `Parquet`, plus performant et plus fiable grâce au typage des\n",
        "colonnes."
      ],
      "id": "aacc7e12-54a6-4ae1-b781-f2190083ab87"
    },
    {
      "cell_type": "code",
      "execution_count": 11,
      "metadata": {},
      "outputs": [],
      "source": [
        "df_bpe = pl.read_parquet(\"bpe.parquet\")"
      ],
      "id": "70b3fa57-ed12-4659-b8c7-4d1c202153a8"
    },
    {
      "cell_type": "markdown",
      "metadata": {},
      "source": [
        "A l’instar d’autres outils modernes d’exploitation des données, `Polars`\n",
        "expose un modèle de traitement basé sur des fonctions de haut niveau,\n",
        "comme `select`, `filter` ou `groupby`, qui empruntent au langage SQL une\n",
        "logique expressive du *“quoi ?”* plutôt que du *“comment ?”*.\n",
        "\n",
        "La différence avec un package comme `Pandas` ou `dplyr` (`R`) est que\n",
        "`Polars` repose explicitement sur le principe de l’exécution retardée\n",
        "(*lazy evaluation*) qui consiste à optimiser le plan d’exécution fourni\n",
        "par l’utilisateur de données pour gagner en performance.\n",
        "\n",
        "Dans l’exemple qui suit, on commence par déclarer une exécution retardée\n",
        "(via `lazy()`) qui va permettre au moteur sous-jacent d’optimiser le\n",
        "traitement complet. Puis on exprime à l’aide des fonctions de haut\n",
        "niveau ce que l’on veut faire :\n",
        "\n",
        "1.  Filtrer le jeu de données pour ne garder les lignes pour lesquelles\n",
        "    la colonne `TYPEQU` vaut `B316` (les stations-services)\n",
        "2.  On regroupe au niveau département\n",
        "3.  On compte le nombre d’occurrences pour chaque département via `agg`\n",
        "4.  Le dernier appel - `collect()` - indique que le traitement peut être\n",
        "    lancé (et donc optimisé et parallelisé par `Polars`)."
      ],
      "id": "8a1f13b8-faab-4762-99bb-7469e2e7fae1"
    },
    {
      "cell_type": "code",
      "execution_count": 12,
      "metadata": {},
      "outputs": [
        {
          "output_type": "display_data",
          "metadata": {},
          "data": {
            "text/html": [
              "<div><style>\n",
              ".dataframe > thead > tr > th,\n",
              ".dataframe > tbody > tr > td {\n",
              "  text-align: right;\n",
              "}\n",
              "</style>\n",
              "<small>shape: (5, 2)</small><table border=\"1\" class=\"dataframe\"><thead><tr><th>DEP</th><th>NB_STATION_SERVICE</th></tr><tr><td>str</td><td>u32</td></tr></thead><tbody><tr><td>&quot;49&quot;</td><td>83</td></tr><tr><td>&quot;72&quot;</td><td>80</td></tr><tr><td>&quot;32&quot;</td><td>37</td></tr><tr><td>&quot;90&quot;</td><td>13</td></tr><tr><td>&quot;66&quot;</td><td>53</td></tr></tbody></table></div>"
            ]
          }
        }
      ],
      "source": [
        "df_stations_service = df_bpe.lazy().filter( # 1.\n",
        "    pl.col(\"TYPEQU\") == \"B316\"\n",
        ").groupby( # 2.\n",
        "    \"DEP\"\n",
        ").agg( # 3.\n",
        "    pl.count().alias(\"NB_STATION_SERVICE\")\n",
        ").collect() # 4.\n",
        "\n",
        "df_stations_service.head(5)"
      ],
      "id": "c13111b9-9dd7-482d-97c6-e3466fd63e87"
    },
    {
      "cell_type": "markdown",
      "metadata": {},
      "source": [
        "Du point de vue du code, la complexité induite par l’approche\n",
        "d’évaluation retardée est donc légère (un `lazy` en début de plan et un\n",
        "`collect` en fin de plan). Cependant, du point de vue de la performance,\n",
        "cela va amener énormément de gain car cela permettra à `Polars`\n",
        "d’optimiser l’ordre des opérations lorsque cela est possible pour gagner\n",
        "en performance. Par exemple, si une étape comme `filter` arrive\n",
        "tardivement, `Polars` peut être tenté de la faire intervenir plus tôt\n",
        "que l’étape à laquelle elle a été déclarée si c’est possible puisque\n",
        "traiter un *dataframe* allégé peut faire gagner beaucoup de temps.\n",
        "\n",
        "## Lazy or not lazy ?\n",
        "\n",
        "Les exemples qui suivent n’utilisent pas systématiquement la fonction\n",
        "`lazy()` avant les opérations sur le *dataframe* pour montrer\n",
        "l’alternative qui s’offre à l’utilisateur de `Polars`.\n",
        "\n",
        "Cependant, l’usage de cette fonction est recommandée en général et en\n",
        "particulier pour des traiements sur des tables volumineuses : en effet,\n",
        "le mode *lazy* permet au moteur sous-jacent d’optimiser les traitements\n",
        "et donc de gagner en rapidité (par exemple en parallélisant les\n",
        "calculs).\n",
        "\n",
        "## Les expressions\n",
        "\n",
        "Les\n",
        "[**expressions**](https://pola-rs.github.io/polars-book/user-guide/dsl/expressions.html)\n",
        "sont au coeur des transformations de données en `Polars`. A partir de\n",
        "l’exemple ci-dessous, on peut comprendre la nature d’une expression :\n",
        "\n",
        "    pl.col(\"A\").sort().head(2)\n",
        "\n",
        "-   `pl` est l’alias pour le module `Polars` ;\n",
        "-   `col(\"A\")` pointe vers la colonne *“A”* ;\n",
        "-   `sort()` est une fonction de tri à appliquer sur la colonne ;\n",
        "-   l’opération `head` va permettre de matérialiser l’expression, ici\n",
        "    pour sélectionner les deux premières lignes\n",
        "\n",
        "Ici, nous avons utilisé `head` pour matérialiser l’expression. Le reste\n",
        "de l’expression (les transformations antérieures) sera exécuté\n",
        "lorsqu’une action comme `head` est à mettre en oeuvre.\n",
        "\n",
        "Les actions qui déclenchent des opérations sont les suivantes:\n",
        "\n",
        "-   l’aggrégation (`df.groupby(..).agg(..)`)\n",
        "-   l’affichage de valeurs (`df.head(...)`)\n",
        "-   l’appel explicite à une exécution (`df.collect()`)\n",
        "\n",
        "Alors que les transformations suivantes ne génèrent pas d’exécution\n",
        "immédiate :\n",
        "\n",
        "-   la sélection d’observations (`df.filter(..)`)\n",
        "-   la création de nouvelles variables (`df.with_columns(..)`) ou la\n",
        "    sélection de colonnes (`df.select(...)`)\n",
        "\n",
        "Au contraire, leur exécution est retardée à une exécution ultérieure.\n",
        "\n",
        "# Sélection de données\n",
        "\n",
        "Deux types de sélections sont possibles :\n",
        "\n",
        "1.  une **sélection de variables** (en colonne), avec `select`\n",
        "2.  une **sélection d’observations** (en ligne), avec `filter`\n",
        "\n",
        "La combinaison des deux se faisant en chaînant l’appel à ces deux\n",
        "fonctions.\n",
        "\n",
        "## Sélection de variables\n",
        "\n",
        "Commençons par sélectionner des variables en utilisant leurs noms :"
      ],
      "id": "131af328-f562-4660-b36d-d65afdc3f003"
    },
    {
      "cell_type": "code",
      "execution_count": 13,
      "metadata": {},
      "outputs": [
        {
          "output_type": "display_data",
          "metadata": {},
          "data": {
            "text/html": [
              "<div><style>\n",
              ".dataframe > thead > tr > th,\n",
              ".dataframe > tbody > tr > td {\n",
              "  text-align: right;\n",
              "}\n",
              "</style>\n",
              "<small>shape: (5, 3)</small><table border=\"1\" class=\"dataframe\"><thead><tr><th>DEPCOM</th><th>TYPEQU</th><th>NB_EQUIP</th></tr><tr><td>str</td><td>str</td><td>str</td></tr></thead><tbody><tr><td>&quot;01001&quot;</td><td>&quot;A129&quot;</td><td>&quot;1&quot;</td></tr><tr><td>&quot;01001&quot;</td><td>&quot;A401&quot;</td><td>&quot;2&quot;</td></tr><tr><td>&quot;01001&quot;</td><td>&quot;A402&quot;</td><td>&quot;1&quot;</td></tr><tr><td>&quot;01001&quot;</td><td>&quot;A404&quot;</td><td>&quot;2&quot;</td></tr><tr><td>&quot;01001&quot;</td><td>&quot;A405&quot;</td><td>&quot;2&quot;</td></tr></tbody></table></div>"
            ]
          }
        }
      ],
      "source": [
        "df_bpe.select(\n",
        "    [\"DEPCOM\", \"TYPEQU\", \"NB_EQUIP\"]\n",
        ").head(5)"
      ],
      "id": "ebc064f9-a66d-4098-a043-2e9915bfa290"
    },
    {
      "cell_type": "markdown",
      "metadata": {},
      "source": [
        "Bien que cette méthode ne soit pas conseillée, il est bon de noter qu’il\n",
        "est également possible de sélectionner via les positions des colonnes,\n",
        "comme le permet `Pandas` :"
      ],
      "id": "7ecd323c-bac2-451e-adff-7c3829b55590"
    },
    {
      "cell_type": "code",
      "execution_count": 14,
      "metadata": {},
      "outputs": [
        {
          "output_type": "display_data",
          "metadata": {},
          "data": {
            "text/html": [
              "<div><style>\n",
              ".dataframe > thead > tr > th,\n",
              ".dataframe > tbody > tr > td {\n",
              "  text-align: right;\n",
              "}\n",
              "</style>\n",
              "<small>shape: (5, 4)</small><table border=\"1\" class=\"dataframe\"><thead><tr><th>AN</th><th>BV2012</th><th>DEP</th><th>DEPCOM</th></tr><tr><td>str</td><td>str</td><td>str</td><td>str</td></tr></thead><tbody><tr><td>&quot;2021&quot;</td><td>&quot;01093&quot;</td><td>&quot;01&quot;</td><td>&quot;01001&quot;</td></tr><tr><td>&quot;2021&quot;</td><td>&quot;01093&quot;</td><td>&quot;01&quot;</td><td>&quot;01001&quot;</td></tr><tr><td>&quot;2021&quot;</td><td>&quot;01093&quot;</td><td>&quot;01&quot;</td><td>&quot;01001&quot;</td></tr><tr><td>&quot;2021&quot;</td><td>&quot;01093&quot;</td><td>&quot;01&quot;</td><td>&quot;01001&quot;</td></tr><tr><td>&quot;2021&quot;</td><td>&quot;01093&quot;</td><td>&quot;01&quot;</td><td>&quot;01001&quot;</td></tr></tbody></table></div>"
            ]
          }
        }
      ],
      "source": [
        "df_bpe[:, 1:5].head(5)"
      ],
      "id": "0164a678-9471-467a-bfb4-b3cf6e7b4c40"
    },
    {
      "cell_type": "markdown",
      "metadata": {},
      "source": [
        "On peut également s’appuyer sur des motifs de sélection des noms de\n",
        "colonnes mobilisant des expressions régulières (ici `^DEP.*$` signifiant\n",
        "*“débute par DEP”*):"
      ],
      "id": "b38bc8be-ffdf-4c4c-a429-68b5aae1720a"
    },
    {
      "cell_type": "code",
      "execution_count": 15,
      "metadata": {},
      "outputs": [
        {
          "output_type": "display_data",
          "metadata": {},
          "data": {
            "text/html": [
              "<div><style>\n",
              ".dataframe > thead > tr > th,\n",
              ".dataframe > tbody > tr > td {\n",
              "  text-align: right;\n",
              "}\n",
              "</style>\n",
              "<small>shape: (5, 2)</small><table border=\"1\" class=\"dataframe\"><thead><tr><th>DEP</th><th>DEPCOM</th></tr><tr><td>str</td><td>str</td></tr></thead><tbody><tr><td>&quot;01&quot;</td><td>&quot;01001&quot;</td></tr><tr><td>&quot;01&quot;</td><td>&quot;01001&quot;</td></tr><tr><td>&quot;01&quot;</td><td>&quot;01001&quot;</td></tr><tr><td>&quot;01&quot;</td><td>&quot;01001&quot;</td></tr><tr><td>&quot;01&quot;</td><td>&quot;01001&quot;</td></tr></tbody></table></div>"
            ]
          }
        }
      ],
      "source": [
        "df_bpe.select(\n",
        "    pl.col(\"^DEP.*$\")\n",
        ").head(5)"
      ],
      "id": "2697d79f-0217-4006-8376-bf4766c13832"
    },
    {
      "cell_type": "markdown",
      "metadata": {},
      "source": [
        "La fonction `select` acceptant des `list` Python, on peut construire des\n",
        "sélecteurs assez puissants :"
      ],
      "id": "25209bb7-b3ee-44ee-b417-e3a2aa3e6298"
    },
    {
      "cell_type": "code",
      "execution_count": 16,
      "metadata": {},
      "outputs": [
        {
          "output_type": "display_data",
          "metadata": {},
          "data": {
            "text/html": [
              "<div><style>\n",
              ".dataframe > thead > tr > th,\n",
              ".dataframe > tbody > tr > td {\n",
              "  text-align: right;\n",
              "}\n",
              "</style>\n",
              "<small>shape: (5, 2)</small><table border=\"1\" class=\"dataframe\"><thead><tr><th>DEP</th><th>DEPCOM</th></tr><tr><td>str</td><td>str</td></tr></thead><tbody><tr><td>&quot;01&quot;</td><td>&quot;01001&quot;</td></tr><tr><td>&quot;01&quot;</td><td>&quot;01001&quot;</td></tr><tr><td>&quot;01&quot;</td><td>&quot;01001&quot;</td></tr><tr><td>&quot;01&quot;</td><td>&quot;01001&quot;</td></tr><tr><td>&quot;01&quot;</td><td>&quot;01001&quot;</td></tr></tbody></table></div>"
            ]
          }
        }
      ],
      "source": [
        "dep_cols = [cols for cols in df_bpe.columns if cols.startswith(\"DEP\")] \n",
        "\n",
        "df_bpe.select(dep_cols).head(5)"
      ],
      "id": "6f7566b6-6ba7-4957-8d0c-c0ce2093f3d4"
    },
    {
      "cell_type": "markdown",
      "metadata": {},
      "source": [
        "## Sélection d’observations\n",
        "\n",
        "La sélection d’observations (de lignes) se fera grâce à la fonction\n",
        "`filter`."
      ],
      "id": "4c0c0789-949a-4f6c-93de-e1d1d58635a2"
    },
    {
      "cell_type": "code",
      "execution_count": 17,
      "metadata": {},
      "outputs": [
        {
          "output_type": "display_data",
          "metadata": {},
          "data": {
            "text/html": [
              "<div><style>\n",
              ".dataframe > thead > tr > th,\n",
              ".dataframe > tbody > tr > td {\n",
              "  text-align: right;\n",
              "}\n",
              "</style>\n",
              "<small>shape: (5, 13)</small><table border=\"1\" class=\"dataframe\"><thead><tr><th>AAV2020</th><th>AN</th><th>BV2012</th><th>DEP</th><th>DEPCOM</th><th>DOM</th><th>EPCI</th><th>DCIRIS</th><th>REG</th><th>SDOM</th><th>TYPEQU</th><th>UU2020</th><th>NB_EQUIP</th></tr><tr><td>str</td><td>str</td><td>str</td><td>str</td><td>str</td><td>str</td><td>str</td><td>str</td><td>str</td><td>str</td><td>str</td><td>str</td><td>str</td></tr></thead><tbody><tr><td>&quot;001&quot;</td><td>&quot;2021&quot;</td><td>&quot;75056&quot;</td><td>&quot;75&quot;</td><td>&quot;75101&quot;</td><td>&quot;B&quot;</td><td>&quot;200054781&quot;</td><td>&quot;751010101&quot;</td><td>&quot;11&quot;</td><td>&quot;B3&quot;</td><td>&quot;B304&quot;</td><td>&quot;00851&quot;</td><td>&quot;2&quot;</td></tr><tr><td>&quot;001&quot;</td><td>&quot;2021&quot;</td><td>&quot;75056&quot;</td><td>&quot;75&quot;</td><td>&quot;75101&quot;</td><td>&quot;B&quot;</td><td>&quot;200054781&quot;</td><td>&quot;751010201&quot;</td><td>&quot;11&quot;</td><td>&quot;B3&quot;</td><td>&quot;B304&quot;</td><td>&quot;00851&quot;</td><td>&quot;17&quot;</td></tr><tr><td>&quot;001&quot;</td><td>&quot;2021&quot;</td><td>&quot;75056&quot;</td><td>&quot;75&quot;</td><td>&quot;75101&quot;</td><td>&quot;B&quot;</td><td>&quot;200054781&quot;</td><td>&quot;751010202&quot;</td><td>&quot;11&quot;</td><td>&quot;B3&quot;</td><td>&quot;B304&quot;</td><td>&quot;00851&quot;</td><td>&quot;3&quot;</td></tr><tr><td>&quot;001&quot;</td><td>&quot;2021&quot;</td><td>&quot;75056&quot;</td><td>&quot;75&quot;</td><td>&quot;75101&quot;</td><td>&quot;B&quot;</td><td>&quot;200054781&quot;</td><td>&quot;751010203&quot;</td><td>&quot;11&quot;</td><td>&quot;B3&quot;</td><td>&quot;B304&quot;</td><td>&quot;00851&quot;</td><td>&quot;6&quot;</td></tr><tr><td>&quot;001&quot;</td><td>&quot;2021&quot;</td><td>&quot;75056&quot;</td><td>&quot;75&quot;</td><td>&quot;75101&quot;</td><td>&quot;B&quot;</td><td>&quot;200054781&quot;</td><td>&quot;751010204&quot;</td><td>&quot;11&quot;</td><td>&quot;B3&quot;</td><td>&quot;B304&quot;</td><td>&quot;00851&quot;</td><td>&quot;7&quot;</td></tr></tbody></table></div>"
            ]
          }
        }
      ],
      "source": [
        "df_bpe.filter(\n",
        "    (pl.col(\"DEPCOM\") == \"75101\") &\n",
        "    (pl.col(\"TYPEQU\") == \"B304\")\n",
        ").head(5)"
      ],
      "id": "ca850e0d-4411-4054-a6c7-7c1397272fc6"
    },
    {
      "cell_type": "markdown",
      "metadata": {},
      "source": [
        "De nombreux opérateurs sont disponibles pour faciliter cette sélection\n",
        "d’observations. Ici, deux exemples :\n",
        "\n",
        "-   `is_in` qui permet de filtrer sur un ensemble de valeurs ;\n",
        "-   `is_null` pour trouver les données manquantes de la variable\n",
        "    *“EPCI”*.\n",
        "\n",
        "Par exemple, pour sélectionner les départements 75 et 92:"
      ],
      "id": "1bce2f67-606a-4c05-8a30-b256da3fc5f5"
    },
    {
      "cell_type": "code",
      "execution_count": 18,
      "metadata": {},
      "outputs": [
        {
          "output_type": "display_data",
          "metadata": {},
          "data": {
            "text/html": [
              "<div><style>\n",
              ".dataframe > thead > tr > th,\n",
              ".dataframe > tbody > tr > td {\n",
              "  text-align: right;\n",
              "}\n",
              "</style>\n",
              "<small>shape: (5, 13)</small><table border=\"1\" class=\"dataframe\"><thead><tr><th>AAV2020</th><th>AN</th><th>BV2012</th><th>DEP</th><th>DEPCOM</th><th>DOM</th><th>EPCI</th><th>DCIRIS</th><th>REG</th><th>SDOM</th><th>TYPEQU</th><th>UU2020</th><th>NB_EQUIP</th></tr><tr><td>str</td><td>str</td><td>str</td><td>str</td><td>str</td><td>str</td><td>str</td><td>str</td><td>str</td><td>str</td><td>str</td><td>str</td><td>str</td></tr></thead><tbody><tr><td>&quot;001&quot;</td><td>&quot;2021&quot;</td><td>&quot;75056&quot;</td><td>&quot;75&quot;</td><td>&quot;75101&quot;</td><td>&quot;A&quot;</td><td>&quot;200054781&quot;</td><td>&quot;751010201&quot;</td><td>&quot;11&quot;</td><td>&quot;A1&quot;</td><td>&quot;A101&quot;</td><td>&quot;00851&quot;</td><td>&quot;1&quot;</td></tr><tr><td>&quot;001&quot;</td><td>&quot;2021&quot;</td><td>&quot;75056&quot;</td><td>&quot;75&quot;</td><td>&quot;75101&quot;</td><td>&quot;A&quot;</td><td>&quot;200054781&quot;</td><td>&quot;751010301&quot;</td><td>&quot;11&quot;</td><td>&quot;A1&quot;</td><td>&quot;A101&quot;</td><td>&quot;00851&quot;</td><td>&quot;1&quot;</td></tr><tr><td>&quot;001&quot;</td><td>&quot;2021&quot;</td><td>&quot;75056&quot;</td><td>&quot;75&quot;</td><td>&quot;75101&quot;</td><td>&quot;A&quot;</td><td>&quot;200054781&quot;</td><td>&quot;751010402&quot;</td><td>&quot;11&quot;</td><td>&quot;A1&quot;</td><td>&quot;A101&quot;</td><td>&quot;00851&quot;</td><td>&quot;1&quot;</td></tr><tr><td>&quot;001&quot;</td><td>&quot;2021&quot;</td><td>&quot;75056&quot;</td><td>&quot;75&quot;</td><td>&quot;75101&quot;</td><td>&quot;A&quot;</td><td>&quot;200054781&quot;</td><td>&quot;751010102&quot;</td><td>&quot;11&quot;</td><td>&quot;A1&quot;</td><td>&quot;A105&quot;</td><td>&quot;00851&quot;</td><td>&quot;1&quot;</td></tr><tr><td>&quot;001&quot;</td><td>&quot;2021&quot;</td><td>&quot;75056&quot;</td><td>&quot;75&quot;</td><td>&quot;75101&quot;</td><td>&quot;A&quot;</td><td>&quot;200054781&quot;</td><td>&quot;751010402&quot;</td><td>&quot;11&quot;</td><td>&quot;A1&quot;</td><td>&quot;A120&quot;</td><td>&quot;00851&quot;</td><td>&quot;1&quot;</td></tr></tbody></table></div>"
            ]
          }
        }
      ],
      "source": [
        "# Départements 75 ou 92\n",
        "df_bpe.filter(\n",
        "    pl.col(\"DEP\").is_in([\"75\", \"92\"])\n",
        ").head(5)"
      ],
      "id": "91e40d91-e90f-4d4c-b8b2-4ba02276cfb3"
    },
    {
      "cell_type": "markdown",
      "metadata": {},
      "source": [
        "Pour sélectionner les observations où la variable EPCI a une valeur\n",
        "manquante:"
      ],
      "id": "bc4c98d5-bf77-48d1-b67c-f1070aec1683"
    },
    {
      "cell_type": "code",
      "execution_count": 19,
      "metadata": {},
      "outputs": [
        {
          "output_type": "display_data",
          "metadata": {},
          "data": {
            "text/html": [
              "<div><style>\n",
              ".dataframe > thead > tr > th,\n",
              ".dataframe > tbody > tr > td {\n",
              "  text-align: right;\n",
              "}\n",
              "</style>\n",
              "<small>shape: (0, 13)</small><table border=\"1\" class=\"dataframe\"><thead><tr><th>AAV2020</th><th>AN</th><th>BV2012</th><th>DEP</th><th>DEPCOM</th><th>DOM</th><th>EPCI</th><th>DCIRIS</th><th>REG</th><th>SDOM</th><th>TYPEQU</th><th>UU2020</th><th>NB_EQUIP</th></tr><tr><td>str</td><td>str</td><td>str</td><td>str</td><td>str</td><td>str</td><td>str</td><td>str</td><td>str</td><td>str</td><td>str</td><td>str</td><td>str</td></tr></thead><tbody></tbody></table></div>"
            ]
          }
        }
      ],
      "source": [
        "# Valeurs manquantes pour la variable EPCI\n",
        "df_bpe.filter(\n",
        "    pl.col(\"EPCI\").is_null()\n",
        ")"
      ],
      "id": "fc47a4dc-4df7-4259-9042-a758ff8fd532"
    },
    {
      "cell_type": "markdown",
      "metadata": {},
      "source": [
        "A l’inverse, si on désire ne sélectionner que les observations où la\n",
        "colonne *“EPCI”* n’est pas manquante :"
      ],
      "id": "49a0511b-ff8e-46a9-a7ef-488d0cfff4a1"
    },
    {
      "cell_type": "code",
      "execution_count": 20,
      "metadata": {},
      "outputs": [
        {
          "output_type": "display_data",
          "metadata": {},
          "data": {
            "text/html": [
              "<div><style>\n",
              ".dataframe > thead > tr > th,\n",
              ".dataframe > tbody > tr > td {\n",
              "  text-align: right;\n",
              "}\n",
              "</style>\n",
              "<small>shape: (1056914, 13)</small><table border=\"1\" class=\"dataframe\"><thead><tr><th>AAV2020</th><th>AN</th><th>BV2012</th><th>DEP</th><th>DEPCOM</th><th>DOM</th><th>EPCI</th><th>DCIRIS</th><th>REG</th><th>SDOM</th><th>TYPEQU</th><th>UU2020</th><th>NB_EQUIP</th></tr><tr><td>str</td><td>str</td><td>str</td><td>str</td><td>str</td><td>str</td><td>str</td><td>str</td><td>str</td><td>str</td><td>str</td><td>str</td><td>str</td></tr></thead><tbody><tr><td>&quot;524&quot;</td><td>&quot;2021&quot;</td><td>&quot;01093&quot;</td><td>&quot;01&quot;</td><td>&quot;01001&quot;</td><td>&quot;A&quot;</td><td>&quot;200069193&quot;</td><td>&quot;010010000&quot;</td><td>&quot;84&quot;</td><td>&quot;A1&quot;</td><td>&quot;A129&quot;</td><td>&quot;CSZ&quot;</td><td>&quot;1&quot;</td></tr><tr><td>&quot;524&quot;</td><td>&quot;2021&quot;</td><td>&quot;01093&quot;</td><td>&quot;01&quot;</td><td>&quot;01001&quot;</td><td>&quot;A&quot;</td><td>&quot;200069193&quot;</td><td>&quot;010010000&quot;</td><td>&quot;84&quot;</td><td>&quot;A4&quot;</td><td>&quot;A401&quot;</td><td>&quot;CSZ&quot;</td><td>&quot;2&quot;</td></tr><tr><td>&quot;524&quot;</td><td>&quot;2021&quot;</td><td>&quot;01093&quot;</td><td>&quot;01&quot;</td><td>&quot;01001&quot;</td><td>&quot;A&quot;</td><td>&quot;200069193&quot;</td><td>&quot;010010000&quot;</td><td>&quot;84&quot;</td><td>&quot;A4&quot;</td><td>&quot;A402&quot;</td><td>&quot;CSZ&quot;</td><td>&quot;1&quot;</td></tr><tr><td>&quot;524&quot;</td><td>&quot;2021&quot;</td><td>&quot;01093&quot;</td><td>&quot;01&quot;</td><td>&quot;01001&quot;</td><td>&quot;A&quot;</td><td>&quot;200069193&quot;</td><td>&quot;010010000&quot;</td><td>&quot;84&quot;</td><td>&quot;A4&quot;</td><td>&quot;A404&quot;</td><td>&quot;CSZ&quot;</td><td>&quot;2&quot;</td></tr><tr><td>&quot;524&quot;</td><td>&quot;2021&quot;</td><td>&quot;01093&quot;</td><td>&quot;01&quot;</td><td>&quot;01001&quot;</td><td>&quot;A&quot;</td><td>&quot;200069193&quot;</td><td>&quot;010010000&quot;</td><td>&quot;84&quot;</td><td>&quot;A4&quot;</td><td>&quot;A405&quot;</td><td>&quot;CSZ&quot;</td><td>&quot;2&quot;</td></tr><tr><td>&quot;524&quot;</td><td>&quot;2021&quot;</td><td>&quot;01093&quot;</td><td>&quot;01&quot;</td><td>&quot;01001&quot;</td><td>&quot;A&quot;</td><td>&quot;200069193&quot;</td><td>&quot;010010000&quot;</td><td>&quot;84&quot;</td><td>&quot;A5&quot;</td><td>&quot;A504&quot;</td><td>&quot;CSZ&quot;</td><td>&quot;1&quot;</td></tr><tr><td>&quot;524&quot;</td><td>&quot;2021&quot;</td><td>&quot;01093&quot;</td><td>&quot;01&quot;</td><td>&quot;01001&quot;</td><td>&quot;A&quot;</td><td>&quot;200069193&quot;</td><td>&quot;010010000&quot;</td><td>&quot;84&quot;</td><td>&quot;A5&quot;</td><td>&quot;A505&quot;</td><td>&quot;CSZ&quot;</td><td>&quot;1&quot;</td></tr><tr><td>&quot;524&quot;</td><td>&quot;2021&quot;</td><td>&quot;01093&quot;</td><td>&quot;01&quot;</td><td>&quot;01001&quot;</td><td>&quot;A&quot;</td><td>&quot;200069193&quot;</td><td>&quot;010010000&quot;</td><td>&quot;84&quot;</td><td>&quot;A5&quot;</td><td>&quot;A507&quot;</td><td>&quot;CSZ&quot;</td><td>&quot;2&quot;</td></tr><tr><td>&quot;524&quot;</td><td>&quot;2021&quot;</td><td>&quot;01093&quot;</td><td>&quot;01&quot;</td><td>&quot;01001&quot;</td><td>&quot;B&quot;</td><td>&quot;200069193&quot;</td><td>&quot;010010000&quot;</td><td>&quot;84&quot;</td><td>&quot;B2&quot;</td><td>&quot;B203&quot;</td><td>&quot;CSZ&quot;</td><td>&quot;1&quot;</td></tr><tr><td>&quot;524&quot;</td><td>&quot;2021&quot;</td><td>&quot;01093&quot;</td><td>&quot;01&quot;</td><td>&quot;01001&quot;</td><td>&quot;C&quot;</td><td>&quot;200069193&quot;</td><td>&quot;010010000&quot;</td><td>&quot;84&quot;</td><td>&quot;C1&quot;</td><td>&quot;C104&quot;</td><td>&quot;CSZ&quot;</td><td>&quot;1&quot;</td></tr><tr><td>&quot;524&quot;</td><td>&quot;2021&quot;</td><td>&quot;01093&quot;</td><td>&quot;01&quot;</td><td>&quot;01001&quot;</td><td>&quot;D&quot;</td><td>&quot;200069193&quot;</td><td>&quot;010010000&quot;</td><td>&quot;84&quot;</td><td>&quot;D2&quot;</td><td>&quot;D233&quot;</td><td>&quot;CSZ&quot;</td><td>&quot;1&quot;</td></tr><tr><td>&quot;524&quot;</td><td>&quot;2021&quot;</td><td>&quot;01093&quot;</td><td>&quot;01&quot;</td><td>&quot;01001&quot;</td><td>&quot;F&quot;</td><td>&quot;200069193&quot;</td><td>&quot;010010000&quot;</td><td>&quot;84&quot;</td><td>&quot;F1&quot;</td><td>&quot;F102&quot;</td><td>&quot;CSZ&quot;</td><td>&quot;1&quot;</td></tr><tr><td>&hellip;</td><td>&hellip;</td><td>&hellip;</td><td>&hellip;</td><td>&hellip;</td><td>&hellip;</td><td>&hellip;</td><td>&hellip;</td><td>&hellip;</td><td>&hellip;</td><td>&hellip;</td><td>&hellip;</td><td>&hellip;</td></tr><tr><td>&quot;9F1&quot;</td><td>&quot;2021&quot;</td><td>&quot;CSZ&quot;</td><td>&quot;976&quot;</td><td>&quot;97617&quot;</td><td>&quot;D&quot;</td><td>&quot;200059871&quot;</td><td>&quot;97617_IND&quot;</td><td>&quot;06&quot;</td><td>&quot;D6&quot;</td><td>&quot;D604&quot;</td><td>&quot;9F304&quot;</td><td>&quot;1&quot;</td></tr><tr><td>&quot;9F1&quot;</td><td>&quot;2021&quot;</td><td>&quot;CSZ&quot;</td><td>&quot;976&quot;</td><td>&quot;97617&quot;</td><td>&quot;E&quot;</td><td>&quot;200059871&quot;</td><td>&quot;97617_IND&quot;</td><td>&quot;06&quot;</td><td>&quot;E1&quot;</td><td>&quot;E101&quot;</td><td>&quot;9F304&quot;</td><td>&quot;8&quot;</td></tr><tr><td>&quot;9F1&quot;</td><td>&quot;2021&quot;</td><td>&quot;CSZ&quot;</td><td>&quot;976&quot;</td><td>&quot;97617&quot;</td><td>&quot;F&quot;</td><td>&quot;200059871&quot;</td><td>&quot;97617_IND&quot;</td><td>&quot;06&quot;</td><td>&quot;F1&quot;</td><td>&quot;F102&quot;</td><td>&quot;9F304&quot;</td><td>&quot;2&quot;</td></tr><tr><td>&quot;9F1&quot;</td><td>&quot;2021&quot;</td><td>&quot;CSZ&quot;</td><td>&quot;976&quot;</td><td>&quot;97617&quot;</td><td>&quot;F&quot;</td><td>&quot;200059871&quot;</td><td>&quot;97617_IND&quot;</td><td>&quot;06&quot;</td><td>&quot;F1&quot;</td><td>&quot;F103&quot;</td><td>&quot;9F304&quot;</td><td>&quot;1&quot;</td></tr><tr><td>&quot;9F1&quot;</td><td>&quot;2021&quot;</td><td>&quot;CSZ&quot;</td><td>&quot;976&quot;</td><td>&quot;97617&quot;</td><td>&quot;F&quot;</td><td>&quot;200059871&quot;</td><td>&quot;97617_IND&quot;</td><td>&quot;06&quot;</td><td>&quot;F1&quot;</td><td>&quot;F108&quot;</td><td>&quot;9F304&quot;</td><td>&quot;1&quot;</td></tr><tr><td>&quot;9F1&quot;</td><td>&quot;2021&quot;</td><td>&quot;CSZ&quot;</td><td>&quot;976&quot;</td><td>&quot;97617&quot;</td><td>&quot;F&quot;</td><td>&quot;200059871&quot;</td><td>&quot;97617_IND&quot;</td><td>&quot;06&quot;</td><td>&quot;F1&quot;</td><td>&quot;F111&quot;</td><td>&quot;9F304&quot;</td><td>&quot;4&quot;</td></tr><tr><td>&quot;9F1&quot;</td><td>&quot;2021&quot;</td><td>&quot;CSZ&quot;</td><td>&quot;976&quot;</td><td>&quot;97617&quot;</td><td>&quot;F&quot;</td><td>&quot;200059871&quot;</td><td>&quot;97617_IND&quot;</td><td>&quot;06&quot;</td><td>&quot;F1&quot;</td><td>&quot;F113&quot;</td><td>&quot;9F304&quot;</td><td>&quot;4&quot;</td></tr><tr><td>&quot;9F1&quot;</td><td>&quot;2021&quot;</td><td>&quot;CSZ&quot;</td><td>&quot;976&quot;</td><td>&quot;97617&quot;</td><td>&quot;F&quot;</td><td>&quot;200059871&quot;</td><td>&quot;97617_IND&quot;</td><td>&quot;06&quot;</td><td>&quot;F1&quot;</td><td>&quot;F114&quot;</td><td>&quot;9F304&quot;</td><td>&quot;1&quot;</td></tr><tr><td>&quot;9F1&quot;</td><td>&quot;2021&quot;</td><td>&quot;CSZ&quot;</td><td>&quot;976&quot;</td><td>&quot;97617&quot;</td><td>&quot;F&quot;</td><td>&quot;200059871&quot;</td><td>&quot;97617_IND&quot;</td><td>&quot;06&quot;</td><td>&quot;F1&quot;</td><td>&quot;F120&quot;</td><td>&quot;9F304&quot;</td><td>&quot;1&quot;</td></tr><tr><td>&quot;9F1&quot;</td><td>&quot;2021&quot;</td><td>&quot;CSZ&quot;</td><td>&quot;976&quot;</td><td>&quot;97617&quot;</td><td>&quot;F&quot;</td><td>&quot;200059871&quot;</td><td>&quot;97617_IND&quot;</td><td>&quot;06&quot;</td><td>&quot;F1&quot;</td><td>&quot;F121&quot;</td><td>&quot;9F304&quot;</td><td>&quot;3&quot;</td></tr><tr><td>&quot;9F1&quot;</td><td>&quot;2021&quot;</td><td>&quot;CSZ&quot;</td><td>&quot;976&quot;</td><td>&quot;97617&quot;</td><td>&quot;F&quot;</td><td>&quot;200059871&quot;</td><td>&quot;97617_IND&quot;</td><td>&quot;06&quot;</td><td>&quot;F3&quot;</td><td>&quot;F307&quot;</td><td>&quot;9F304&quot;</td><td>&quot;1&quot;</td></tr><tr><td>&quot;9F1&quot;</td><td>&quot;2021&quot;</td><td>&quot;CSZ&quot;</td><td>&quot;976&quot;</td><td>&quot;97617&quot;</td><td>&quot;G&quot;</td><td>&quot;200059871&quot;</td><td>&quot;97617_IND&quot;</td><td>&quot;06&quot;</td><td>&quot;G1&quot;</td><td>&quot;G104&quot;</td><td>&quot;9F304&quot;</td><td>&quot;1&quot;</td></tr></tbody></table></div>"
            ]
          }
        }
      ],
      "source": [
        "df_bpe.filter(\n",
        "    pl.col(\"EPCI\").is_not_null()\n",
        ")"
      ],
      "id": "b6dd323e-0ead-4117-bfb9-39e5d39b8d12"
    },
    {
      "cell_type": "markdown",
      "metadata": {},
      "source": [
        "Comme avec `Pandas`, il existe énormément de méthodes pratiques pour la\n",
        "manipulation de données\n",
        "\n",
        "## Renommage de variables\n",
        "\n",
        "La fonction `rename` permet de lister les colonnes à renommer via un\n",
        "dictionnaire Python :"
      ],
      "id": "6a96debf-1560-4545-bae4-c18e031469df"
    },
    {
      "cell_type": "code",
      "execution_count": 21,
      "metadata": {
        "tags": []
      },
      "outputs": [
        {
          "output_type": "display_data",
          "metadata": {},
          "data": {
            "text/html": [
              "<div><style>\n",
              ".dataframe > thead > tr > th,\n",
              ".dataframe > tbody > tr > td {\n",
              "  text-align: right;\n",
              "}\n",
              "</style>\n",
              "<small>shape: (5, 13)</small><table border=\"1\" class=\"dataframe\"><thead><tr><th>AAV2020</th><th>AN</th><th>BV2012</th><th>DEP</th><th>code_commune</th><th>DOM</th><th>EPCI</th><th>DCIRIS</th><th>REG</th><th>SDOM</th><th>TYPEQU</th><th>UU2020</th><th>NB_EQUIP</th></tr><tr><td>str</td><td>str</td><td>str</td><td>str</td><td>str</td><td>str</td><td>str</td><td>str</td><td>str</td><td>str</td><td>str</td><td>str</td><td>str</td></tr></thead><tbody><tr><td>&quot;524&quot;</td><td>&quot;2021&quot;</td><td>&quot;01093&quot;</td><td>&quot;01&quot;</td><td>&quot;01001&quot;</td><td>&quot;A&quot;</td><td>&quot;200069193&quot;</td><td>&quot;010010000&quot;</td><td>&quot;84&quot;</td><td>&quot;A1&quot;</td><td>&quot;A129&quot;</td><td>&quot;CSZ&quot;</td><td>&quot;1&quot;</td></tr><tr><td>&quot;524&quot;</td><td>&quot;2021&quot;</td><td>&quot;01093&quot;</td><td>&quot;01&quot;</td><td>&quot;01001&quot;</td><td>&quot;A&quot;</td><td>&quot;200069193&quot;</td><td>&quot;010010000&quot;</td><td>&quot;84&quot;</td><td>&quot;A4&quot;</td><td>&quot;A401&quot;</td><td>&quot;CSZ&quot;</td><td>&quot;2&quot;</td></tr><tr><td>&quot;524&quot;</td><td>&quot;2021&quot;</td><td>&quot;01093&quot;</td><td>&quot;01&quot;</td><td>&quot;01001&quot;</td><td>&quot;A&quot;</td><td>&quot;200069193&quot;</td><td>&quot;010010000&quot;</td><td>&quot;84&quot;</td><td>&quot;A4&quot;</td><td>&quot;A402&quot;</td><td>&quot;CSZ&quot;</td><td>&quot;1&quot;</td></tr><tr><td>&quot;524&quot;</td><td>&quot;2021&quot;</td><td>&quot;01093&quot;</td><td>&quot;01&quot;</td><td>&quot;01001&quot;</td><td>&quot;A&quot;</td><td>&quot;200069193&quot;</td><td>&quot;010010000&quot;</td><td>&quot;84&quot;</td><td>&quot;A4&quot;</td><td>&quot;A404&quot;</td><td>&quot;CSZ&quot;</td><td>&quot;2&quot;</td></tr><tr><td>&quot;524&quot;</td><td>&quot;2021&quot;</td><td>&quot;01093&quot;</td><td>&quot;01&quot;</td><td>&quot;01001&quot;</td><td>&quot;A&quot;</td><td>&quot;200069193&quot;</td><td>&quot;010010000&quot;</td><td>&quot;84&quot;</td><td>&quot;A4&quot;</td><td>&quot;A405&quot;</td><td>&quot;CSZ&quot;</td><td>&quot;2&quot;</td></tr></tbody></table></div>"
            ]
          }
        }
      ],
      "source": [
        "df_bpe.rename({\n",
        "    \"DEPCOM\" : \"code_commune\"\n",
        "}).head(5)"
      ],
      "id": "e102d9fc-4148-4df0-8fa6-ae6ab722b356"
    },
    {
      "cell_type": "markdown",
      "metadata": {},
      "source": [
        "<div class=\"alert alert-info\" role=\"alert\" style=\"color: rgba(0,0,0,.8); background-color: white; margin-top: 1em; margin-bottom: 1em; margin:1.5625emauto; padding:0 .6rem .8rem!important;overflow:hidden; page-break-inside:avoid; border-radius:.25rem; box-shadow:0 .2rem .5rem rgba(0,0,0,.05),0 0 .05rem rgba(0,0,0,.1); transition:color .25s,background-color .25s,border-color .25s ; border-right: 1px solid #dee2e6 ; border-top: 1px solid #dee2e6 ; border-bottom: 1px solid #dee2e6 ; border-left:.2rem solid #007bff80;\">\n",
        "<h3 class=\"alert-heading\"><i class=\"fa fa-comment\"></i> Note</h3>\n",
        "\n",
        "Petit piège, la logique est l’inverse de celle de `dplyr` : le\n",
        "dictionnaire est sous la forme\n",
        "`{\"ancienne_colonne\": \"nouvelle_colonne\"}`\n",
        "\n",
        "</div>"
      ],
      "id": "4526773a-e37d-4bbe-ad7a-ba9f57bd8dfd"
    },
    {
      "cell_type": "markdown",
      "metadata": {},
      "source": [
        "Comme vu plus haut, construire des expressions de renommage plus\n",
        "complexes pourra se faire en pur `Python` :"
      ],
      "id": "d60372c8-7dcf-4a36-8301-a8f1039a0841"
    },
    {
      "cell_type": "code",
      "execution_count": 22,
      "metadata": {},
      "outputs": [
        {
          "output_type": "display_data",
          "metadata": {},
          "data": {
            "text/html": [
              "<div><style>\n",
              ".dataframe > thead > tr > th,\n",
              ".dataframe > tbody > tr > td {\n",
              "  text-align: right;\n",
              "}\n",
              "</style>\n",
              "<small>shape: (5, 13)</small><table border=\"1\" class=\"dataframe\"><thead><tr><th>aav2020</th><th>an</th><th>bv2012</th><th>dep</th><th>depcom</th><th>dom</th><th>epci</th><th>dciris</th><th>reg</th><th>sdom</th><th>typequ</th><th>uu2020</th><th>nb_equip</th></tr><tr><td>str</td><td>str</td><td>str</td><td>str</td><td>str</td><td>str</td><td>str</td><td>str</td><td>str</td><td>str</td><td>str</td><td>str</td><td>str</td></tr></thead><tbody><tr><td>&quot;524&quot;</td><td>&quot;2021&quot;</td><td>&quot;01093&quot;</td><td>&quot;01&quot;</td><td>&quot;01001&quot;</td><td>&quot;A&quot;</td><td>&quot;200069193&quot;</td><td>&quot;010010000&quot;</td><td>&quot;84&quot;</td><td>&quot;A1&quot;</td><td>&quot;A129&quot;</td><td>&quot;CSZ&quot;</td><td>&quot;1&quot;</td></tr><tr><td>&quot;524&quot;</td><td>&quot;2021&quot;</td><td>&quot;01093&quot;</td><td>&quot;01&quot;</td><td>&quot;01001&quot;</td><td>&quot;A&quot;</td><td>&quot;200069193&quot;</td><td>&quot;010010000&quot;</td><td>&quot;84&quot;</td><td>&quot;A4&quot;</td><td>&quot;A401&quot;</td><td>&quot;CSZ&quot;</td><td>&quot;2&quot;</td></tr><tr><td>&quot;524&quot;</td><td>&quot;2021&quot;</td><td>&quot;01093&quot;</td><td>&quot;01&quot;</td><td>&quot;01001&quot;</td><td>&quot;A&quot;</td><td>&quot;200069193&quot;</td><td>&quot;010010000&quot;</td><td>&quot;84&quot;</td><td>&quot;A4&quot;</td><td>&quot;A402&quot;</td><td>&quot;CSZ&quot;</td><td>&quot;1&quot;</td></tr><tr><td>&quot;524&quot;</td><td>&quot;2021&quot;</td><td>&quot;01093&quot;</td><td>&quot;01&quot;</td><td>&quot;01001&quot;</td><td>&quot;A&quot;</td><td>&quot;200069193&quot;</td><td>&quot;010010000&quot;</td><td>&quot;84&quot;</td><td>&quot;A4&quot;</td><td>&quot;A404&quot;</td><td>&quot;CSZ&quot;</td><td>&quot;2&quot;</td></tr><tr><td>&quot;524&quot;</td><td>&quot;2021&quot;</td><td>&quot;01093&quot;</td><td>&quot;01&quot;</td><td>&quot;01001&quot;</td><td>&quot;A&quot;</td><td>&quot;200069193&quot;</td><td>&quot;010010000&quot;</td><td>&quot;84&quot;</td><td>&quot;A4&quot;</td><td>&quot;A405&quot;</td><td>&quot;CSZ&quot;</td><td>&quot;2&quot;</td></tr></tbody></table></div>"
            ]
          }
        }
      ],
      "source": [
        "cols_minuscules = {cols: cols.lower() for cols in df_bpe.columns}\n",
        "\n",
        "df_bpe.rename(cols_minuscules).head(5)"
      ],
      "id": "7963e459-f7af-4be4-9366-77ee3a1ea9f0"
    },
    {
      "cell_type": "markdown",
      "metadata": {},
      "source": [
        "## Trier une table\n",
        "\n",
        "La fonction `sort` permet de trier la table sur une ou plusieurs\n",
        "variables."
      ],
      "id": "0a104239-cd67-494a-af63-2d6d2323d715"
    },
    {
      "cell_type": "code",
      "execution_count": 23,
      "metadata": {},
      "outputs": [
        {
          "output_type": "display_data",
          "metadata": {},
          "data": {
            "text/html": [
              "<div><style>\n",
              ".dataframe > thead > tr > th,\n",
              ".dataframe > tbody > tr > td {\n",
              "  text-align: right;\n",
              "}\n",
              "</style>\n",
              "<small>shape: (5, 13)</small><table border=\"1\" class=\"dataframe\"><thead><tr><th>AAV2020</th><th>AN</th><th>BV2012</th><th>DEP</th><th>DEPCOM</th><th>DOM</th><th>EPCI</th><th>DCIRIS</th><th>REG</th><th>SDOM</th><th>TYPEQU</th><th>UU2020</th><th>NB_EQUIP</th></tr><tr><td>str</td><td>str</td><td>str</td><td>str</td><td>str</td><td>str</td><td>str</td><td>str</td><td>str</td><td>str</td><td>str</td><td>str</td><td>str</td></tr></thead><tbody><tr><td>&quot;524&quot;</td><td>&quot;2021&quot;</td><td>&quot;01093&quot;</td><td>&quot;01&quot;</td><td>&quot;01001&quot;</td><td>&quot;A&quot;</td><td>&quot;200069193&quot;</td><td>&quot;010010000&quot;</td><td>&quot;84&quot;</td><td>&quot;A1&quot;</td><td>&quot;A129&quot;</td><td>&quot;CSZ&quot;</td><td>&quot;1&quot;</td></tr><tr><td>&quot;524&quot;</td><td>&quot;2021&quot;</td><td>&quot;01093&quot;</td><td>&quot;01&quot;</td><td>&quot;01001&quot;</td><td>&quot;A&quot;</td><td>&quot;200069193&quot;</td><td>&quot;010010000&quot;</td><td>&quot;84&quot;</td><td>&quot;A4&quot;</td><td>&quot;A401&quot;</td><td>&quot;CSZ&quot;</td><td>&quot;2&quot;</td></tr><tr><td>&quot;524&quot;</td><td>&quot;2021&quot;</td><td>&quot;01093&quot;</td><td>&quot;01&quot;</td><td>&quot;01001&quot;</td><td>&quot;A&quot;</td><td>&quot;200069193&quot;</td><td>&quot;010010000&quot;</td><td>&quot;84&quot;</td><td>&quot;A4&quot;</td><td>&quot;A402&quot;</td><td>&quot;CSZ&quot;</td><td>&quot;1&quot;</td></tr><tr><td>&quot;524&quot;</td><td>&quot;2021&quot;</td><td>&quot;01093&quot;</td><td>&quot;01&quot;</td><td>&quot;01001&quot;</td><td>&quot;A&quot;</td><td>&quot;200069193&quot;</td><td>&quot;010010000&quot;</td><td>&quot;84&quot;</td><td>&quot;A4&quot;</td><td>&quot;A404&quot;</td><td>&quot;CSZ&quot;</td><td>&quot;2&quot;</td></tr><tr><td>&quot;524&quot;</td><td>&quot;2021&quot;</td><td>&quot;01093&quot;</td><td>&quot;01&quot;</td><td>&quot;01001&quot;</td><td>&quot;A&quot;</td><td>&quot;200069193&quot;</td><td>&quot;010010000&quot;</td><td>&quot;84&quot;</td><td>&quot;A4&quot;</td><td>&quot;A405&quot;</td><td>&quot;CSZ&quot;</td><td>&quot;2&quot;</td></tr></tbody></table></div>"
            ]
          }
        }
      ],
      "source": [
        "df_bpe.lazy()\\\n",
        "    .sort(\"DEPCOM\", \"TYPEQU\")\\\n",
        "    .head(5).collect()"
      ],
      "id": "6738fe35-26cf-46a1-964a-a7984d632ae3"
    },
    {
      "cell_type": "markdown",
      "metadata": {},
      "source": [
        "L’ordre de tri - croissant par défaut - peut-être précisé pour chaque\n",
        "variable."
      ],
      "id": "c4b92b15-eb2b-42d5-a971-bffc4be7c91c"
    },
    {
      "cell_type": "code",
      "execution_count": 24,
      "metadata": {},
      "outputs": [
        {
          "output_type": "display_data",
          "metadata": {},
          "data": {
            "text/html": [
              "<div><style>\n",
              ".dataframe > thead > tr > th,\n",
              ".dataframe > tbody > tr > td {\n",
              "  text-align: right;\n",
              "}\n",
              "</style>\n",
              "<small>shape: (5, 13)</small><table border=\"1\" class=\"dataframe\"><thead><tr><th>AAV2020</th><th>AN</th><th>BV2012</th><th>DEP</th><th>DEPCOM</th><th>DOM</th><th>EPCI</th><th>DCIRIS</th><th>REG</th><th>SDOM</th><th>TYPEQU</th><th>UU2020</th><th>NB_EQUIP</th></tr><tr><td>str</td><td>str</td><td>str</td><td>str</td><td>str</td><td>str</td><td>str</td><td>str</td><td>str</td><td>str</td><td>str</td><td>str</td><td>str</td></tr></thead><tbody><tr><td>&quot;9F1&quot;</td><td>&quot;2021&quot;</td><td>&quot;CSZ&quot;</td><td>&quot;976&quot;</td><td>&quot;97617&quot;</td><td>&quot;A&quot;</td><td>&quot;200059871&quot;</td><td>&quot;97617_IND&quot;</td><td>&quot;06&quot;</td><td>&quot;A1&quot;</td><td>&quot;A128&quot;</td><td>&quot;9F304&quot;</td><td>&quot;1&quot;</td></tr><tr><td>&quot;9F1&quot;</td><td>&quot;2021&quot;</td><td>&quot;CSZ&quot;</td><td>&quot;976&quot;</td><td>&quot;97617&quot;</td><td>&quot;A&quot;</td><td>&quot;200059871&quot;</td><td>&quot;97617_IND&quot;</td><td>&quot;06&quot;</td><td>&quot;A1&quot;</td><td>&quot;A129&quot;</td><td>&quot;9F304&quot;</td><td>&quot;1&quot;</td></tr><tr><td>&quot;9F1&quot;</td><td>&quot;2021&quot;</td><td>&quot;CSZ&quot;</td><td>&quot;976&quot;</td><td>&quot;97617&quot;</td><td>&quot;A&quot;</td><td>&quot;200059871&quot;</td><td>&quot;97617_IND&quot;</td><td>&quot;06&quot;</td><td>&quot;A2&quot;</td><td>&quot;A203&quot;</td><td>&quot;9F304&quot;</td><td>&quot;1&quot;</td></tr><tr><td>&quot;9F1&quot;</td><td>&quot;2021&quot;</td><td>&quot;CSZ&quot;</td><td>&quot;976&quot;</td><td>&quot;97617&quot;</td><td>&quot;A&quot;</td><td>&quot;200059871&quot;</td><td>&quot;97617_IND&quot;</td><td>&quot;06&quot;</td><td>&quot;A2&quot;</td><td>&quot;A205&quot;</td><td>&quot;9F304&quot;</td><td>&quot;1&quot;</td></tr><tr><td>&quot;9F1&quot;</td><td>&quot;2021&quot;</td><td>&quot;CSZ&quot;</td><td>&quot;976&quot;</td><td>&quot;97617&quot;</td><td>&quot;A&quot;</td><td>&quot;200059871&quot;</td><td>&quot;97617_IND&quot;</td><td>&quot;06&quot;</td><td>&quot;A2&quot;</td><td>&quot;A206&quot;</td><td>&quot;9F304&quot;</td><td>&quot;1&quot;</td></tr></tbody></table></div>"
            ]
          }
        }
      ],
      "source": [
        "df_bpe.lazy()\\\n",
        "    .sort(\"DEPCOM\", \"TYPEQU\", descending=[True, False])\\\n",
        "    .head(5).collect()"
      ],
      "id": "f1b90e7a-1af4-4bdf-8673-1e66ec86feb9"
    },
    {
      "cell_type": "markdown",
      "metadata": {},
      "source": [
        "## Création de nouvelles variables\n",
        "\n",
        "La création de nouvelles variables se fera via `with_columns`. Dans\n",
        "l’exemple qui suit :\n",
        "\n",
        "-   on convertit en entier numérique la variable `NB_EQUIP`\n",
        "-   on calcule la somme cumulée (avec `cumsum`)\n",
        "-   on nomme la nouvelle colonne `NB_EQUIP_SUM`"
      ],
      "id": "56501b03-3423-4de5-a373-ae1e05410de5"
    },
    {
      "cell_type": "code",
      "execution_count": 25,
      "metadata": {},
      "outputs": [
        {
          "output_type": "display_data",
          "metadata": {},
          "data": {
            "text/html": [
              "<div><style>\n",
              ".dataframe > thead > tr > th,\n",
              ".dataframe > tbody > tr > td {\n",
              "  text-align: right;\n",
              "}\n",
              "</style>\n",
              "<small>shape: (5, 15)</small><table border=\"1\" class=\"dataframe\"><thead><tr><th>AAV2020</th><th>AN</th><th>BV2012</th><th>DEP</th><th>DEPCOM</th><th>DOM</th><th>EPCI</th><th>DCIRIS</th><th>REG</th><th>SDOM</th><th>TYPEQU</th><th>UU2020</th><th>NB_EQUIP</th><th>NB_EQUIP_SUM</th><th>NB_EQUIP_3PLUS</th></tr><tr><td>str</td><td>str</td><td>str</td><td>str</td><td>str</td><td>str</td><td>str</td><td>str</td><td>str</td><td>str</td><td>str</td><td>str</td><td>i64</td><td>i64</td><td>bool</td></tr></thead><tbody><tr><td>&quot;524&quot;</td><td>&quot;2021&quot;</td><td>&quot;01093&quot;</td><td>&quot;01&quot;</td><td>&quot;01001&quot;</td><td>&quot;A&quot;</td><td>&quot;200069193&quot;</td><td>&quot;010010000&quot;</td><td>&quot;84&quot;</td><td>&quot;A1&quot;</td><td>&quot;A129&quot;</td><td>&quot;CSZ&quot;</td><td>1</td><td>1</td><td>false</td></tr><tr><td>&quot;524&quot;</td><td>&quot;2021&quot;</td><td>&quot;01093&quot;</td><td>&quot;01&quot;</td><td>&quot;01001&quot;</td><td>&quot;A&quot;</td><td>&quot;200069193&quot;</td><td>&quot;010010000&quot;</td><td>&quot;84&quot;</td><td>&quot;A4&quot;</td><td>&quot;A401&quot;</td><td>&quot;CSZ&quot;</td><td>2</td><td>3</td><td>false</td></tr><tr><td>&quot;524&quot;</td><td>&quot;2021&quot;</td><td>&quot;01093&quot;</td><td>&quot;01&quot;</td><td>&quot;01001&quot;</td><td>&quot;A&quot;</td><td>&quot;200069193&quot;</td><td>&quot;010010000&quot;</td><td>&quot;84&quot;</td><td>&quot;A4&quot;</td><td>&quot;A402&quot;</td><td>&quot;CSZ&quot;</td><td>1</td><td>4</td><td>false</td></tr><tr><td>&quot;524&quot;</td><td>&quot;2021&quot;</td><td>&quot;01093&quot;</td><td>&quot;01&quot;</td><td>&quot;01001&quot;</td><td>&quot;A&quot;</td><td>&quot;200069193&quot;</td><td>&quot;010010000&quot;</td><td>&quot;84&quot;</td><td>&quot;A4&quot;</td><td>&quot;A404&quot;</td><td>&quot;CSZ&quot;</td><td>2</td><td>6</td><td>false</td></tr><tr><td>&quot;524&quot;</td><td>&quot;2021&quot;</td><td>&quot;01093&quot;</td><td>&quot;01&quot;</td><td>&quot;01001&quot;</td><td>&quot;A&quot;</td><td>&quot;200069193&quot;</td><td>&quot;010010000&quot;</td><td>&quot;84&quot;</td><td>&quot;A4&quot;</td><td>&quot;A405&quot;</td><td>&quot;CSZ&quot;</td><td>2</td><td>8</td><td>false</td></tr></tbody></table></div>"
            ]
          }
        }
      ],
      "source": [
        "df_bpe.lazy()\\\n",
        "    .with_columns(pl.col('NB_EQUIP').cast(pl.Int64, strict=False))\\\n",
        "    .with_columns(\n",
        "        pl.col(\"NB_EQUIP\").cumsum().alias(\"NB_EQUIP_SUM\"),\n",
        "        pl.when(pl.col(\"NB_EQUIP\") > 3).then(True).otherwise(False).alias(\"NB_EQUIP_3PLUS\")\n",
        "    ).head(5).collect()"
      ],
      "id": "324721e8-242f-45f6-93c6-89e5edadb78a"
    },
    {
      "cell_type": "markdown",
      "metadata": {},
      "source": [
        "## Production de synthèses et d’agrégats\n",
        "\n",
        "On peut produire des statistiques synthétiques sur notre jeu de données\n",
        "avec la fonction `select`."
      ],
      "id": "2fd9c710-e76e-499f-b6b3-6998dedc1926"
    },
    {
      "cell_type": "code",
      "execution_count": 26,
      "metadata": {},
      "outputs": [
        {
          "output_type": "display_data",
          "metadata": {},
          "data": {
            "text/html": [
              "<div><style>\n",
              ".dataframe > thead > tr > th,\n",
              ".dataframe > tbody > tr > td {\n",
              "  text-align: right;\n",
              "}\n",
              "</style>\n",
              "<small>shape: (1, 1)</small><table border=\"1\" class=\"dataframe\"><thead><tr><th>NB_EQUIP_TOT</th></tr><tr><td>i64</td></tr></thead><tbody><tr><td>2399536</td></tr></tbody></table></div>"
            ]
          }
        }
      ],
      "source": [
        "df_bpe.lazy()\\\n",
        "    .with_columns(pl.col('NB_EQUIP').cast(pl.Int64, strict=False))\\\n",
        "    .select(\n",
        "        pl.col(\"NB_EQUIP\").sum().alias(\"NB_EQUIP_TOT\")\n",
        "    ).head(5).collect()"
      ],
      "id": "8e4e263a-2e03-4856-a8c3-83d6c4ebebbd"
    },
    {
      "cell_type": "markdown",
      "metadata": {},
      "source": [
        "Les fonctions `describe` et `glimpse` proposent un aperçu synthétique de\n",
        "la table:"
      ],
      "id": "0b7e3752-06ed-4c8c-b4b7-a3928c60002a"
    },
    {
      "cell_type": "code",
      "execution_count": 27,
      "metadata": {},
      "outputs": [
        {
          "output_type": "display_data",
          "metadata": {},
          "data": {
            "text/html": [
              "<div><style>\n",
              ".dataframe > thead > tr > th,\n",
              ".dataframe > tbody > tr > td {\n",
              "  text-align: right;\n",
              "}\n",
              "</style>\n",
              "<small>shape: (7, 14)</small><table border=\"1\" class=\"dataframe\"><thead><tr><th>describe</th><th>AAV2020</th><th>AN</th><th>BV2012</th><th>DEP</th><th>DEPCOM</th><th>DOM</th><th>EPCI</th><th>DCIRIS</th><th>REG</th><th>SDOM</th><th>TYPEQU</th><th>UU2020</th><th>NB_EQUIP</th></tr><tr><td>str</td><td>str</td><td>str</td><td>str</td><td>str</td><td>str</td><td>str</td><td>str</td><td>str</td><td>str</td><td>str</td><td>str</td><td>str</td><td>str</td></tr></thead><tbody><tr><td>&quot;count&quot;</td><td>&quot;1056914&quot;</td><td>&quot;1056914&quot;</td><td>&quot;1056914&quot;</td><td>&quot;1056914&quot;</td><td>&quot;1056914&quot;</td><td>&quot;1056914&quot;</td><td>&quot;1056914&quot;</td><td>&quot;1056914&quot;</td><td>&quot;1056914&quot;</td><td>&quot;1056914&quot;</td><td>&quot;1056914&quot;</td><td>&quot;1056914&quot;</td><td>&quot;1056914&quot;</td></tr><tr><td>&quot;null_count&quot;</td><td>&quot;0&quot;</td><td>&quot;0&quot;</td><td>&quot;0&quot;</td><td>&quot;0&quot;</td><td>&quot;0&quot;</td><td>&quot;0&quot;</td><td>&quot;0&quot;</td><td>&quot;0&quot;</td><td>&quot;0&quot;</td><td>&quot;0&quot;</td><td>&quot;0&quot;</td><td>&quot;0&quot;</td><td>&quot;0&quot;</td></tr><tr><td>&quot;mean&quot;</td><td>null</td><td>null</td><td>null</td><td>null</td><td>null</td><td>null</td><td>null</td><td>null</td><td>null</td><td>null</td><td>null</td><td>null</td><td>null</td></tr><tr><td>&quot;std&quot;</td><td>null</td><td>null</td><td>null</td><td>null</td><td>null</td><td>null</td><td>null</td><td>null</td><td>null</td><td>null</td><td>null</td><td>null</td><td>null</td></tr><tr><td>&quot;min&quot;</td><td>&quot;001&quot;</td><td>&quot;2021&quot;</td><td>&quot;01004&quot;</td><td>&quot;01&quot;</td><td>&quot;01001&quot;</td><td>&quot;A&quot;</td><td>&quot;200000172&quot;</td><td>&quot;010010000&quot;</td><td>&quot;01&quot;</td><td>&quot;A1&quot;</td><td>&quot;A101&quot;</td><td>&quot;00151&quot;</td><td>&quot;1&quot;</td></tr><tr><td>&quot;max&quot;</td><td>&quot;SAR&quot;</td><td>&quot;2021&quot;</td><td>&quot;CSZ&quot;</td><td>&quot;976&quot;</td><td>&quot;97617&quot;</td><td>&quot;G&quot;</td><td>&quot;CSZ&quot;</td><td>&quot;97617_IND&quot;</td><td>&quot;94&quot;</td><td>&quot;G1&quot;</td><td>&quot;G104&quot;</td><td>&quot;CSZ&quot;</td><td>&quot;99&quot;</td></tr><tr><td>&quot;median&quot;</td><td>null</td><td>null</td><td>null</td><td>null</td><td>null</td><td>null</td><td>null</td><td>null</td><td>null</td><td>null</td><td>null</td><td>null</td><td>null</td></tr></tbody></table></div>"
            ]
          }
        }
      ],
      "source": [
        "df_bpe.describe()"
      ],
      "id": "aea8f8be-dd5c-4ecf-807e-7f3070ad9eb6"
    },
    {
      "cell_type": "code",
      "execution_count": 28,
      "metadata": {},
      "outputs": [
        {
          "output_type": "stream",
          "name": "stdout",
          "text": [
            "Rows: 1056914\n",
            "Columns: 13\n",
            "$ AAV2020  <str> 524, 524, 524, 524, 524, 524, 524, 524, 524, 524\n",
            "$ AN       <str> 2021, 2021, 2021, 2021, 2021, 2021, 2021, 2021, 2021, 2021\n",
            "$ BV2012   <str> 01093, 01093, 01093, 01093, 01093, 01093, 01093, 01093, 01093, 01093\n",
            "$ DEP      <str> 01, 01, 01, 01, 01, 01, 01, 01, 01, 01\n",
            "$ DEPCOM   <str> 01001, 01001, 01001, 01001, 01001, 01001, 01001, 01001, 01001, 01001\n",
            "$ DOM      <str> A, A, A, A, A, A, A, A, B, C\n",
            "$ EPCI     <str> 200069193, 200069193, 200069193, 200069193, 200069193, 200069193, 200069193, 200069193, 200069193, 200069193\n",
            "$ DCIRIS   <str> 010010000, 010010000, 010010000, 010010000, 010010000, 010010000, 010010000, 010010000, 010010000, 010010000\n",
            "$ REG      <str> 84, 84, 84, 84, 84, 84, 84, 84, 84, 84\n",
            "$ SDOM     <str> A1, A4, A4, A4, A4, A5, A5, A5, B2, C1\n",
            "$ TYPEQU   <str> A129, A401, A402, A404, A405, A504, A505, A507, B203, C104\n",
            "$ UU2020   <str> CSZ, CSZ, CSZ, CSZ, CSZ, CSZ, CSZ, CSZ, CSZ, CSZ\n",
            "$ NB_EQUIP <str> 1, 2, 1, 2, 2, 1, 1, 2, 1, 1\n"
          ]
        }
      ],
      "source": [
        "df_bpe.glimpse()"
      ],
      "id": "0ee8ce2f-baf5-4bd7-a389-0fa97f31ad50"
    },
    {
      "cell_type": "markdown",
      "metadata": {},
      "source": [
        "Les fonctions `groupby` et `agg` sont mobilisées pour créer des\n",
        "aggrégats. Dans l’exemple ci-dessous :\n",
        "\n",
        "1.  On précise que l’on veut grouper au niveau départemental\n",
        "    (`groupby(\"DEP\")`) ;\n",
        "2.  On somme les occurences d’équipement de type boulangerie\n",
        "    (`pl.col(\"TYPEQU\") == \"B203\").sum()`) ;\n",
        "3.  On donne un nom à la colonne portant la somme\n",
        "    (`alias(\"NB_BOULANGERIES_TOT\")`)"
      ],
      "id": "53408c78-68d2-4b69-adf9-3b6e55770808"
    },
    {
      "cell_type": "code",
      "execution_count": 29,
      "metadata": {},
      "outputs": [
        {
          "output_type": "display_data",
          "metadata": {},
          "data": {
            "text/html": [
              "<div><style>\n",
              ".dataframe > thead > tr > th,\n",
              ".dataframe > tbody > tr > td {\n",
              "  text-align: right;\n",
              "}\n",
              "</style>\n",
              "<small>shape: (5, 2)</small><table border=\"1\" class=\"dataframe\"><thead><tr><th>DEP</th><th>NB_BOULANGERIES_TOT</th></tr><tr><td>str</td><td>u32</td></tr></thead><tbody><tr><td>&quot;75&quot;</td><td>731</td></tr><tr><td>&quot;59&quot;</td><td>731</td></tr><tr><td>&quot;13&quot;</td><td>576</td></tr><tr><td>&quot;69&quot;</td><td>507</td></tr><tr><td>&quot;62&quot;</td><td>440</td></tr></tbody></table></div>"
            ]
          }
        }
      ],
      "source": [
        "df_bpe.lazy().groupby(\"DEP\").agg(\n",
        "    (pl.col(\"TYPEQU\") == \"B203\").sum().alias(\"NB_BOULANGERIES_TOT\")\n",
        ").sort(\"NB_BOULANGERIES_TOT\", descending=True).head(5).collect()"
      ],
      "id": "bd862015-2cc5-4d8a-9862-e5624e010cf1"
    },
    {
      "cell_type": "markdown",
      "metadata": {},
      "source": [
        "# Explorer le plan d’exécution\n",
        "\n",
        "Il peut être utile pour comprendre les opérations effectuées par\n",
        "`Polars` de jeter un oeil au plan d’exécution.\n",
        "\n",
        "Pour cela, il suffit pour cela de ne pas effectuer d’action comme\n",
        "`collect` ou `head`."
      ],
      "id": "07bda42b-ecb1-431f-a946-4ba49fccbf22"
    },
    {
      "cell_type": "code",
      "execution_count": 30,
      "metadata": {},
      "outputs": [
        {
          "output_type": "display_data",
          "metadata": {},
          "data": {
            "text/html": [
              "<i>naive plan: (run <b>LazyFrame.explain(optimized=True)</b> to see the optimized plan)</i>\n",
              "    <p></p>\n",
              "    <div> SELECT [col(\"NB_EQUIP\").sum().alias(\"NB_EQUIP_TOT\")] FROM<p></p>   WITH_COLUMNS:<p></p>   [col(\"NB_EQUIP\").cast(Int64)]<p></p>    DF [\"AAV2020\", \"AN\", \"BV2012\", \"DEP\"]; PROJECT */13 COLUMNS; SELECTION: \"None\"</div>"
            ]
          }
        }
      ],
      "source": [
        "df_bpe.lazy()\\\n",
        "    .with_columns(pl.col('NB_EQUIP').cast(pl.Int64, strict=False))\\\n",
        "    .select(\n",
        "        pl.col(\"NB_EQUIP\").sum().alias(\"NB_EQUIP_TOT\")\n",
        "    )"
      ],
      "id": "ee1c3c5d-8e27-4978-9dd3-cf561527df19"
    },
    {
      "cell_type": "markdown",
      "metadata": {},
      "source": [
        "<div class=\"alert alert-info\" role=\"alert\" style=\"color: rgba(0,0,0,.8); background-color: white; margin-top: 1em; margin-bottom: 1em; margin:1.5625emauto; padding:0 .6rem .8rem!important;overflow:hidden; page-break-inside:avoid; border-radius:.25rem; box-shadow:0 .2rem .5rem rgba(0,0,0,.05),0 0 .05rem rgba(0,0,0,.1); transition:color .25s,background-color .25s,border-color .25s ; border-right: 1px solid #dee2e6 ; border-top: 1px solid #dee2e6 ; border-bottom: 1px solid #dee2e6 ; border-left:.2rem solid #007bff80;\">\n",
        "<h3 class=\"alert-heading\"><i class=\"fa fa-comment\"></i> Note</h3>\n",
        "\n",
        "L’opération d’affichage du plan est ici instantanée puisqu’aucune action\n",
        "n’a été effectuée, seulement des transformations dont l’activation est\n",
        "retardée en attente d’une action n’ayant pas lieu.\n",
        "\n",
        "</div>"
      ],
      "id": "6c27b0f7-a965-472e-87da-d0a835318efe"
    },
    {
      "cell_type": "markdown",
      "metadata": {},
      "source": [
        "# Une interconnexion avec `DuckDB` pour faire des requêtes SQL\n",
        "\n",
        "`Polars` s’appuie sur [`Apache Arrow`](https://arrow.apache.org/), un\n",
        "écosystème pour lire des données (CSV ou Parquet) de manière très\n",
        "efficace et les stocker dans des objets peu volumineux pour gagner en\n",
        "performance. C’est également le cas d’une autre librairie intéressante\n",
        "pour le traitement de données: [`DuckDB`](https://duckdb.org/).\n",
        "\n",
        "Plutôt que concurrentes, ces deux librairies sont très complémentaires.\n",
        "Il est possible d’effectuer des requêtes SQL depuis un `DataFrame`\n",
        "`Polars` via `DuckDB` ou d’utiliser `DuckDB` pour lire les données et\n",
        "convertir celles-ci en `DataFrame Polars` à l’issue des requêtes. Ces\n",
        "deux approches sont intéressantes pour les personnes familières avec le\n",
        "langage SQL.\n",
        "\n",
        "Pour illustrer le premier cas, reprenons un exemple précédent qui\n",
        "illustrait la sélection d’observations en se restreignant au choix de\n",
        "deux départements:"
      ],
      "id": "564cc188-bce6-4e2f-bae5-f033381b16bf"
    },
    {
      "cell_type": "code",
      "execution_count": 31,
      "metadata": {},
      "outputs": [
        {
          "output_type": "display_data",
          "metadata": {},
          "data": {
            "text/html": [
              "<div><style>\n",
              ".dataframe > thead > tr > th,\n",
              ".dataframe > tbody > tr > td {\n",
              "  text-align: right;\n",
              "}\n",
              "</style>\n",
              "<small>shape: (5, 13)</small><table border=\"1\" class=\"dataframe\"><thead><tr><th>AAV2020</th><th>AN</th><th>BV2012</th><th>DEP</th><th>DEPCOM</th><th>DOM</th><th>EPCI</th><th>DCIRIS</th><th>REG</th><th>SDOM</th><th>TYPEQU</th><th>UU2020</th><th>NB_EQUIP</th></tr><tr><td>str</td><td>str</td><td>str</td><td>str</td><td>str</td><td>str</td><td>str</td><td>str</td><td>str</td><td>str</td><td>str</td><td>str</td><td>str</td></tr></thead><tbody><tr><td>&quot;001&quot;</td><td>&quot;2021&quot;</td><td>&quot;75056&quot;</td><td>&quot;75&quot;</td><td>&quot;75101&quot;</td><td>&quot;A&quot;</td><td>&quot;200054781&quot;</td><td>&quot;751010201&quot;</td><td>&quot;11&quot;</td><td>&quot;A1&quot;</td><td>&quot;A101&quot;</td><td>&quot;00851&quot;</td><td>&quot;1&quot;</td></tr><tr><td>&quot;001&quot;</td><td>&quot;2021&quot;</td><td>&quot;75056&quot;</td><td>&quot;75&quot;</td><td>&quot;75101&quot;</td><td>&quot;A&quot;</td><td>&quot;200054781&quot;</td><td>&quot;751010301&quot;</td><td>&quot;11&quot;</td><td>&quot;A1&quot;</td><td>&quot;A101&quot;</td><td>&quot;00851&quot;</td><td>&quot;1&quot;</td></tr><tr><td>&quot;001&quot;</td><td>&quot;2021&quot;</td><td>&quot;75056&quot;</td><td>&quot;75&quot;</td><td>&quot;75101&quot;</td><td>&quot;A&quot;</td><td>&quot;200054781&quot;</td><td>&quot;751010402&quot;</td><td>&quot;11&quot;</td><td>&quot;A1&quot;</td><td>&quot;A101&quot;</td><td>&quot;00851&quot;</td><td>&quot;1&quot;</td></tr><tr><td>&quot;001&quot;</td><td>&quot;2021&quot;</td><td>&quot;75056&quot;</td><td>&quot;75&quot;</td><td>&quot;75101&quot;</td><td>&quot;A&quot;</td><td>&quot;200054781&quot;</td><td>&quot;751010102&quot;</td><td>&quot;11&quot;</td><td>&quot;A1&quot;</td><td>&quot;A105&quot;</td><td>&quot;00851&quot;</td><td>&quot;1&quot;</td></tr><tr><td>&quot;001&quot;</td><td>&quot;2021&quot;</td><td>&quot;75056&quot;</td><td>&quot;75&quot;</td><td>&quot;75101&quot;</td><td>&quot;A&quot;</td><td>&quot;200054781&quot;</td><td>&quot;751010402&quot;</td><td>&quot;11&quot;</td><td>&quot;A1&quot;</td><td>&quot;A120&quot;</td><td>&quot;00851&quot;</td><td>&quot;1&quot;</td></tr></tbody></table></div>"
            ]
          }
        }
      ],
      "source": [
        "df_bpe.filter(\n",
        "    pl.col(\"DEP\").is_in([\"75\", \"92\"])\n",
        ").head(5)"
      ],
      "id": "0889e112-3a25-4638-b42b-86afdfc1cd1d"
    },
    {
      "cell_type": "markdown",
      "metadata": {},
      "source": [
        "Avec `DuckDB`, pour effectuer la même opération, nommée *filtre* en SQL,\n",
        "une requête SQL s’écrira de la manière suivante:"
      ],
      "id": "fbb161d8-e6f0-4363-9fee-003561ec632e"
    },
    {
      "cell_type": "code",
      "execution_count": 32,
      "metadata": {},
      "outputs": [
        {
          "output_type": "display_data",
          "metadata": {},
          "data": {
            "text/plain": [
              "┌─────────┬─────────┬─────────┬─────────┬─────────┬───┬───────────┬─────────┬─────────┬─────────┬─────────┬──────────┐\n",
              "│ AAV2020 │   AN    │ BV2012  │   DEP   │ DEPCOM  │ … │  DCIRIS   │   REG   │  SDOM   │ TYPEQU  │ UU2020  │ NB_EQUIP │\n",
              "│ varchar │ varchar │ varchar │ varchar │ varchar │   │  varchar  │ varchar │ varchar │ varchar │ varchar │ varchar  │\n",
              "├─────────┼─────────┼─────────┼─────────┼─────────┼───┼───────────┼─────────┼─────────┼─────────┼─────────┼──────────┤\n",
              "│ 001     │ 2021    │ 75056   │ 75      │ 75101   │ … │ 751010201 │ 11      │ A1      │ A101    │ 00851   │ 1        │\n",
              "│ 001     │ 2021    │ 75056   │ 75      │ 75101   │ … │ 751010301 │ 11      │ A1      │ A101    │ 00851   │ 1        │\n",
              "│ 001     │ 2021    │ 75056   │ 75      │ 75101   │ … │ 751010402 │ 11      │ A1      │ A101    │ 00851   │ 1        │\n",
              "│ 001     │ 2021    │ 75056   │ 75      │ 75101   │ … │ 751010102 │ 11      │ A1      │ A105    │ 00851   │ 1        │\n",
              "│ 001     │ 2021    │ 75056   │ 75      │ 75101   │ … │ 751010402 │ 11      │ A1      │ A120    │ 00851   │ 1        │\n",
              "│ 001     │ 2021    │ 75056   │ 75      │ 75101   │ … │ 751010101 │ 11      │ A2      │ A203    │ 00851   │ 1        │\n",
              "│ 001     │ 2021    │ 75056   │ 75      │ 75101   │ … │ 751010102 │ 11      │ A2      │ A203    │ 00851   │ 1        │\n",
              "│ 001     │ 2021    │ 75056   │ 75      │ 75101   │ … │ 751010201 │ 11      │ A2      │ A203    │ 00851   │ 3        │\n",
              "│ 001     │ 2021    │ 75056   │ 75      │ 75101   │ … │ 751010202 │ 11      │ A2      │ A203    │ 00851   │ 3        │\n",
              "│ 001     │ 2021    │ 75056   │ 75      │ 75101   │ … │ 751010203 │ 11      │ A2      │ A203    │ 00851   │ 3        │\n",
              "│  ·      │  ·      │   ·     │ ·       │   ·     │ · │     ·     │ ·       │ ·       │  ·      │   ·     │ ·        │\n",
              "│  ·      │  ·      │   ·     │ ·       │   ·     │ · │     ·     │ ·       │ ·       │  ·      │   ·     │ ·        │\n",
              "│  ·      │  ·      │   ·     │ ·       │   ·     │ · │     ·     │ ·       │ ·       │  ·      │   ·     │ ·        │\n",
              "│ 001     │ 2021    │ 75056   │ 75      │ 75111   │ … │ 751114101 │ 11      │ A5      │ A501    │ 00851   │ 4        │\n",
              "│ 001     │ 2021    │ 75056   │ 75      │ 75111   │ … │ 751114102 │ 11      │ A5      │ A501    │ 00851   │ 2        │\n",
              "│ 001     │ 2021    │ 75056   │ 75      │ 75111   │ … │ 751114103 │ 11      │ A5      │ A501    │ 00851   │ 4        │\n",
              "│ 001     │ 2021    │ 75056   │ 75      │ 75111   │ … │ 751114104 │ 11      │ A5      │ A501    │ 00851   │ 2        │\n",
              "│ 001     │ 2021    │ 75056   │ 75      │ 75111   │ … │ 751114105 │ 11      │ A5      │ A501    │ 00851   │ 7        │\n",
              "│ 001     │ 2021    │ 75056   │ 75      │ 75111   │ … │ 751114106 │ 11      │ A5      │ A501    │ 00851   │ 9        │\n",
              "│ 001     │ 2021    │ 75056   │ 75      │ 75111   │ … │ 751114107 │ 11      │ A5      │ A501    │ 00851   │ 5        │\n",
              "│ 001     │ 2021    │ 75056   │ 75      │ 75111   │ … │ 751114108 │ 11      │ A5      │ A501    │ 00851   │ 1        │\n",
              "│ 001     │ 2021    │ 75056   │ 75      │ 75111   │ … │ 751114109 │ 11      │ A5      │ A501    │ 00851   │ 6        │\n",
              "│ 001     │ 2021    │ 75056   │ 75      │ 75111   │ … │ 751114110 │ 11      │ A5      │ A501    │ 00851   │ 2        │\n",
              "├─────────┴─────────┴─────────┴─────────┴─────────┴───┴───────────┴─────────┴─────────┴─────────┴─────────┴──────────┤\n",
              "│ ? rows (>9999 rows, 20 shown)                                                                13 columns (11 shown) │\n",
              "└────────────────────────────────────────────────────────────────────────────────────────────────────────────────────┘"
            ]
          }
        }
      ],
      "source": [
        "import duckdb \n",
        "\n",
        "df_duckdb = duckdb.sql('SELECT * FROM df_bpe WHERE DEP in (75, 92)')\n",
        "df_duckdb"
      ],
      "id": "08ef695f-0df6-496d-a1c6-8d75438e518d"
    },
    {
      "cell_type": "markdown",
      "metadata": {},
      "source": [
        "<div class=\"alert alert-info\" role=\"alert\" style=\"color: rgba(0,0,0,.8); background-color: white; margin-top: 1em; margin-bottom: 1em; margin:1.5625emauto; padding:0 .6rem .8rem!important;overflow:hidden; page-break-inside:avoid; border-radius:.25rem; box-shadow:0 .2rem .5rem rgba(0,0,0,.05),0 0 .05rem rgba(0,0,0,.1); transition:color .25s,background-color .25s,border-color .25s ; border-right: 1px solid #dee2e6 ; border-top: 1px solid #dee2e6 ; border-bottom: 1px solid #dee2e6 ; border-left:.2rem solid #007bff80;\">\n",
        "<h3 class=\"alert-heading\"><i class=\"fa fa-comment\"></i> Note</h3>\n",
        "\n",
        "`df_duckdb` n’est plus un objet `Polars`. Si vous désirez obtenir à\n",
        "nouveau un objet `Polars`, il faudra utiliser la méthode `pl`, comme\n",
        "montré dans le prochain exemple\n",
        "\n",
        "</div>"
      ],
      "id": "960eecad-a632-4998-a766-7a80820fb074"
    },
    {
      "cell_type": "markdown",
      "metadata": {},
      "source": [
        "La seconde approche implique quant à elle d’utiliser `DuckDB` pour lire\n",
        "et traiter les données avant de transformer cela en objet `Polars` pour\n",
        "éventuellement des manipulations de données ultérieures. Cette approche\n",
        "fonctionne en deux temps:\n",
        "\n",
        "-   `DuckDB` sert à lire les données (ici au format `parquet`) et\n",
        "    effectuer le filtre\n",
        "-   Le résultat de cette requête est transformé en `DataFrame` `Polars`\n",
        "    avec la méthode `pl`:"
      ],
      "id": "e44e01cf-df9b-429f-afba-64f2bc10eda0"
    },
    {
      "cell_type": "code",
      "execution_count": 33,
      "metadata": {},
      "outputs": [
        {
          "output_type": "display_data",
          "metadata": {},
          "data": {
            "text/html": [
              "<div><style>\n",
              ".dataframe > thead > tr > th,\n",
              ".dataframe > tbody > tr > td {\n",
              "  text-align: right;\n",
              "}\n",
              "</style>\n",
              "<small>shape: (53280, 13)</small><table border=\"1\" class=\"dataframe\"><thead><tr><th>AAV2020</th><th>AN</th><th>BV2012</th><th>DEP</th><th>DEPCOM</th><th>DOM</th><th>EPCI</th><th>DCIRIS</th><th>REG</th><th>SDOM</th><th>TYPEQU</th><th>UU2020</th><th>NB_EQUIP</th></tr><tr><td>str</td><td>str</td><td>str</td><td>str</td><td>str</td><td>str</td><td>str</td><td>str</td><td>str</td><td>str</td><td>str</td><td>str</td><td>str</td></tr></thead><tbody><tr><td>&quot;001&quot;</td><td>&quot;2021&quot;</td><td>&quot;75056&quot;</td><td>&quot;75&quot;</td><td>&quot;75101&quot;</td><td>&quot;A&quot;</td><td>&quot;200054781&quot;</td><td>&quot;751010201&quot;</td><td>&quot;11&quot;</td><td>&quot;A1&quot;</td><td>&quot;A101&quot;</td><td>&quot;00851&quot;</td><td>&quot;1&quot;</td></tr><tr><td>&quot;001&quot;</td><td>&quot;2021&quot;</td><td>&quot;75056&quot;</td><td>&quot;75&quot;</td><td>&quot;75101&quot;</td><td>&quot;A&quot;</td><td>&quot;200054781&quot;</td><td>&quot;751010301&quot;</td><td>&quot;11&quot;</td><td>&quot;A1&quot;</td><td>&quot;A101&quot;</td><td>&quot;00851&quot;</td><td>&quot;1&quot;</td></tr><tr><td>&quot;001&quot;</td><td>&quot;2021&quot;</td><td>&quot;75056&quot;</td><td>&quot;75&quot;</td><td>&quot;75101&quot;</td><td>&quot;A&quot;</td><td>&quot;200054781&quot;</td><td>&quot;751010402&quot;</td><td>&quot;11&quot;</td><td>&quot;A1&quot;</td><td>&quot;A101&quot;</td><td>&quot;00851&quot;</td><td>&quot;1&quot;</td></tr><tr><td>&quot;001&quot;</td><td>&quot;2021&quot;</td><td>&quot;75056&quot;</td><td>&quot;75&quot;</td><td>&quot;75101&quot;</td><td>&quot;A&quot;</td><td>&quot;200054781&quot;</td><td>&quot;751010102&quot;</td><td>&quot;11&quot;</td><td>&quot;A1&quot;</td><td>&quot;A105&quot;</td><td>&quot;00851&quot;</td><td>&quot;1&quot;</td></tr><tr><td>&quot;001&quot;</td><td>&quot;2021&quot;</td><td>&quot;75056&quot;</td><td>&quot;75&quot;</td><td>&quot;75101&quot;</td><td>&quot;A&quot;</td><td>&quot;200054781&quot;</td><td>&quot;751010402&quot;</td><td>&quot;11&quot;</td><td>&quot;A1&quot;</td><td>&quot;A120&quot;</td><td>&quot;00851&quot;</td><td>&quot;1&quot;</td></tr><tr><td>&quot;001&quot;</td><td>&quot;2021&quot;</td><td>&quot;75056&quot;</td><td>&quot;75&quot;</td><td>&quot;75101&quot;</td><td>&quot;A&quot;</td><td>&quot;200054781&quot;</td><td>&quot;751010101&quot;</td><td>&quot;11&quot;</td><td>&quot;A2&quot;</td><td>&quot;A203&quot;</td><td>&quot;00851&quot;</td><td>&quot;1&quot;</td></tr><tr><td>&quot;001&quot;</td><td>&quot;2021&quot;</td><td>&quot;75056&quot;</td><td>&quot;75&quot;</td><td>&quot;75101&quot;</td><td>&quot;A&quot;</td><td>&quot;200054781&quot;</td><td>&quot;751010102&quot;</td><td>&quot;11&quot;</td><td>&quot;A2&quot;</td><td>&quot;A203&quot;</td><td>&quot;00851&quot;</td><td>&quot;1&quot;</td></tr><tr><td>&quot;001&quot;</td><td>&quot;2021&quot;</td><td>&quot;75056&quot;</td><td>&quot;75&quot;</td><td>&quot;75101&quot;</td><td>&quot;A&quot;</td><td>&quot;200054781&quot;</td><td>&quot;751010201&quot;</td><td>&quot;11&quot;</td><td>&quot;A2&quot;</td><td>&quot;A203&quot;</td><td>&quot;00851&quot;</td><td>&quot;3&quot;</td></tr><tr><td>&quot;001&quot;</td><td>&quot;2021&quot;</td><td>&quot;75056&quot;</td><td>&quot;75&quot;</td><td>&quot;75101&quot;</td><td>&quot;A&quot;</td><td>&quot;200054781&quot;</td><td>&quot;751010202&quot;</td><td>&quot;11&quot;</td><td>&quot;A2&quot;</td><td>&quot;A203&quot;</td><td>&quot;00851&quot;</td><td>&quot;3&quot;</td></tr><tr><td>&quot;001&quot;</td><td>&quot;2021&quot;</td><td>&quot;75056&quot;</td><td>&quot;75&quot;</td><td>&quot;75101&quot;</td><td>&quot;A&quot;</td><td>&quot;200054781&quot;</td><td>&quot;751010203&quot;</td><td>&quot;11&quot;</td><td>&quot;A2&quot;</td><td>&quot;A203&quot;</td><td>&quot;00851&quot;</td><td>&quot;3&quot;</td></tr><tr><td>&quot;001&quot;</td><td>&quot;2021&quot;</td><td>&quot;75056&quot;</td><td>&quot;75&quot;</td><td>&quot;75101&quot;</td><td>&quot;A&quot;</td><td>&quot;200054781&quot;</td><td>&quot;751010204&quot;</td><td>&quot;11&quot;</td><td>&quot;A2&quot;</td><td>&quot;A203&quot;</td><td>&quot;00851&quot;</td><td>&quot;2&quot;</td></tr><tr><td>&quot;001&quot;</td><td>&quot;2021&quot;</td><td>&quot;75056&quot;</td><td>&quot;75&quot;</td><td>&quot;75101&quot;</td><td>&quot;A&quot;</td><td>&quot;200054781&quot;</td><td>&quot;751010206&quot;</td><td>&quot;11&quot;</td><td>&quot;A2&quot;</td><td>&quot;A203&quot;</td><td>&quot;00851&quot;</td><td>&quot;8&quot;</td></tr><tr><td>&hellip;</td><td>&hellip;</td><td>&hellip;</td><td>&hellip;</td><td>&hellip;</td><td>&hellip;</td><td>&hellip;</td><td>&hellip;</td><td>&hellip;</td><td>&hellip;</td><td>&hellip;</td><td>&hellip;</td><td>&hellip;</td></tr><tr><td>&quot;001&quot;</td><td>&quot;2021&quot;</td><td>&quot;75056&quot;</td><td>&quot;92&quot;</td><td>&quot;92078&quot;</td><td>&quot;F&quot;</td><td>&quot;200054781&quot;</td><td>&quot;920780102&quot;</td><td>&quot;11&quot;</td><td>&quot;F1&quot;</td><td>&quot;F121&quot;</td><td>&quot;00851&quot;</td><td>&quot;3&quot;</td></tr><tr><td>&quot;001&quot;</td><td>&quot;2021&quot;</td><td>&quot;75056&quot;</td><td>&quot;92&quot;</td><td>&quot;92078&quot;</td><td>&quot;F&quot;</td><td>&quot;200054781&quot;</td><td>&quot;920780107&quot;</td><td>&quot;11&quot;</td><td>&quot;F1&quot;</td><td>&quot;F121&quot;</td><td>&quot;00851&quot;</td><td>&quot;2&quot;</td></tr><tr><td>&quot;001&quot;</td><td>&quot;2021&quot;</td><td>&quot;75056&quot;</td><td>&quot;92&quot;</td><td>&quot;92078&quot;</td><td>&quot;F&quot;</td><td>&quot;200054781&quot;</td><td>&quot;920780103&quot;</td><td>&quot;11&quot;</td><td>&quot;F2&quot;</td><td>&quot;F202&quot;</td><td>&quot;00851&quot;</td><td>&quot;1&quot;</td></tr><tr><td>&quot;001&quot;</td><td>&quot;2021&quot;</td><td>&quot;75056&quot;</td><td>&quot;92&quot;</td><td>&quot;92078&quot;</td><td>&quot;F&quot;</td><td>&quot;200054781&quot;</td><td>&quot;920780106&quot;</td><td>&quot;11&quot;</td><td>&quot;F3&quot;</td><td>&quot;F303&quot;</td><td>&quot;00851&quot;</td><td>&quot;1&quot;</td></tr><tr><td>&quot;001&quot;</td><td>&quot;2021&quot;</td><td>&quot;75056&quot;</td><td>&quot;92&quot;</td><td>&quot;92078&quot;</td><td>&quot;F&quot;</td><td>&quot;200054781&quot;</td><td>&quot;920780109&quot;</td><td>&quot;11&quot;</td><td>&quot;F3&quot;</td><td>&quot;F303&quot;</td><td>&quot;00851&quot;</td><td>&quot;1&quot;</td></tr><tr><td>&quot;001&quot;</td><td>&quot;2021&quot;</td><td>&quot;75056&quot;</td><td>&quot;92&quot;</td><td>&quot;92078&quot;</td><td>&quot;F&quot;</td><td>&quot;200054781&quot;</td><td>&quot;920780110&quot;</td><td>&quot;11&quot;</td><td>&quot;F3&quot;</td><td>&quot;F307&quot;</td><td>&quot;00851&quot;</td><td>&quot;1&quot;</td></tr><tr><td>&quot;001&quot;</td><td>&quot;2021&quot;</td><td>&quot;75056&quot;</td><td>&quot;92&quot;</td><td>&quot;92078&quot;</td><td>&quot;F&quot;</td><td>&quot;200054781&quot;</td><td>&quot;920780110&quot;</td><td>&quot;11&quot;</td><td>&quot;F3&quot;</td><td>&quot;F312&quot;</td><td>&quot;00851&quot;</td><td>&quot;1&quot;</td></tr><tr><td>&quot;001&quot;</td><td>&quot;2021&quot;</td><td>&quot;75056&quot;</td><td>&quot;92&quot;</td><td>&quot;92078&quot;</td><td>&quot;F&quot;</td><td>&quot;200054781&quot;</td><td>&quot;920780109&quot;</td><td>&quot;11&quot;</td><td>&quot;F3&quot;</td><td>&quot;F314&quot;</td><td>&quot;00851&quot;</td><td>&quot;1&quot;</td></tr><tr><td>&quot;001&quot;</td><td>&quot;2021&quot;</td><td>&quot;75056&quot;</td><td>&quot;92&quot;</td><td>&quot;92078&quot;</td><td>&quot;G&quot;</td><td>&quot;200054781&quot;</td><td>&quot;920780107&quot;</td><td>&quot;11&quot;</td><td>&quot;G1&quot;</td><td>&quot;G101&quot;</td><td>&quot;00851&quot;</td><td>&quot;2&quot;</td></tr><tr><td>&quot;001&quot;</td><td>&quot;2021&quot;</td><td>&quot;75056&quot;</td><td>&quot;92&quot;</td><td>&quot;92078&quot;</td><td>&quot;G&quot;</td><td>&quot;200054781&quot;</td><td>&quot;920780103&quot;</td><td>&quot;11&quot;</td><td>&quot;G1&quot;</td><td>&quot;G102&quot;</td><td>&quot;00851&quot;</td><td>&quot;1&quot;</td></tr><tr><td>&quot;001&quot;</td><td>&quot;2021&quot;</td><td>&quot;75056&quot;</td><td>&quot;92&quot;</td><td>&quot;92078&quot;</td><td>&quot;G&quot;</td><td>&quot;200054781&quot;</td><td>&quot;920780102&quot;</td><td>&quot;11&quot;</td><td>&quot;G1&quot;</td><td>&quot;G104&quot;</td><td>&quot;00851&quot;</td><td>&quot;1&quot;</td></tr><tr><td>&quot;001&quot;</td><td>&quot;2021&quot;</td><td>&quot;75056&quot;</td><td>&quot;75&quot;</td><td>&quot;93045&quot;</td><td>&quot;A&quot;</td><td>&quot;200054781&quot;</td><td>&quot;930450108&quot;</td><td>&quot;11&quot;</td><td>&quot;A3&quot;</td><td>&quot;A303&quot;</td><td>&quot;00851&quot;</td><td>&quot;1&quot;</td></tr></tbody></table></div>"
            ]
          }
        }
      ],
      "source": [
        "duckdb.sql('SELECT * FROM read_parquet(\"bpe.parquet\") WHERE DEP in (75, 92)').pl()"
      ],
      "id": "981111d3-fa97-44fe-abbc-7ba3afdade54"
    },
    {
      "cell_type": "markdown",
      "metadata": {},
      "source": [
        "Cette approche est intéressante pour effectuer les opérations de\n",
        "sélection d’observations ou de variables le plus tôt possible afin de ne\n",
        "pas avoir en mémoire des données inutilisées."
      ],
      "id": "11c82d10-9b6e-4190-9339-725123e7a918"
    }
  ],
  "nbformat": 4,
  "nbformat_minor": 5,
  "metadata": {
    "kernelspec": {
      "name": "python3",
      "display_name": "Python 3 (ipykernel)",
      "language": "python"
    },
    "language_info": {
      "name": "python",
      "codemirror_mode": {
        "name": "ipython",
        "version": "3"
      },
      "file_extension": ".py",
      "mimetype": "text/x-python",
      "nbconvert_exporter": "python",
      "pygments_lexer": "ipython3",
      "version": "3.10.9"
    }
  }
}