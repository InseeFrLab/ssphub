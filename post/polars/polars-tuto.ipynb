{
  "cells": [
    {
      "cell_type": "markdown",
      "id": "5f0f384d-6dd7-4525-ac0c-4e192e14e896",
      "metadata": {},
      "source": [
        "# Prise en main de Polars\n",
        "\n",
        "`Polars` est un package `Python` permettant de manipuler les données\n",
        "tabulaires à partir de différents types de fichiers (CSV, Parquet,\n",
        "etc.). Il est une alternative directe et moderne à `Pandas`, pensée pour\n",
        "être très performante tout en offrant une syntaxe compréhensible à pour\n",
        "des *data scientists* habitués à d’autres *frameworks* de manipulation\n",
        "de données comme `dplyr`.\n",
        "\n",
        "Ce notebook offre un complément à\n",
        "l’[article](https://ssphub.netlify.app/post/polars/) publié sur le blog\n",
        "du réseau des data scientists de la statistique publique. Les exemples\n",
        "sont reproductibles dans de nombreux environnements, à condition\n",
        "d’installer les packages comme indiqué ci-dessous. Les utilisateurs du\n",
        "SSP Cloud ou de Colab pourront directement ouvrir ce notebook en\n",
        "utilisant les boutons suivants:\n",
        "\n",
        "<a href=\"https://datalab.sspcloud.fr/launcher/ide/jupyter-python?autoLaunch=false&init.personalInit=%C2%ABhttps%3A%2F%2Fraw.githubusercontent.com%2Fromaintailhurat%2Fssphub%2Fblog%2Fpolars%2Fcontent%2Fnotebooks%2Finit.sh%C2%BB&init.personalInitArgs=%C2%ABpolars-tuto%C2%BB&onyxia.friendlyName=%C2%ABTutoriel%20Polars%C2%BB\" target=\"_blank\" rel=\"noopener\"><img src=\"https://img.shields.io/badge/SSPcloud-Tester%20notebook%20sur%20SSP--cloud-informational&amp;color=yellow?logo=Python\" alt=\"Onyxia\"></a>\n",
        "<a href=\"http://colab.research.google.com/github/inseefrlab/ssphub/blob/main/content/notebooks/polars-tuto.ipynb\" target=\"_blank\" rel=\"noopener\"><img src=\"https://colab.research.google.com/assets/colab-badge.svg\" alt=\"Open In Colab\"></a>\n",
        "\n",
        "Pour faire le parallèle avec les exemples pour [découvrir le `tidyverse`\n",
        "dans\n",
        "`utilitr`](https://www.book.utilitr.org/03_fiches_thematiques/fiche_tidyverse)),\n",
        "ce *notebook* exploite la [Base Permanente des Equipements\n",
        "(BPE)](https://www.insee.fr/fr/metadonnees/source/serie/s1161)."
      ]
    },
    {
      "cell_type": "markdown",
      "id": "aecba529-b842-4372-ab5e-86b7b37490bc",
      "metadata": {},
      "source": [
        "<div class=\"alert alert-danger\" role=\"alert\" style=\"color: rgba(0,0,0,.8); background-color: white; margin-top: 1em; margin-bottom: 1em; margin:1.5625emauto; padding:0 .6rem .8rem!important;overflow:hidden; page-break-inside:avoid; border-radius:.25rem; box-shadow:0 .2rem .5rem rgba(0,0,0,.05),0 0 .05rem rgba(0,0,0,.1); transition:color .25s,background-color .25s,border-color .25s ; border-right: 1px solid #dee2e6 ; border-top: 1px solid #dee2e6 ; border-bottom: 1px solid #dee2e6 ; border-left: .2rem solid #ff0039;\">\n",
        "<h3 class=\"alert-heading\"><i class=\"fa fa-exclamation-triangle\"></i> Warning</h3>\n",
        "\n",
        "Outre `Polars`, ce notebook propose des compléments qui utilisent les\n",
        "packages [`s3fs`](https://s3fs.readthedocs.io/en/latest/) et\n",
        "[`Pynsee`](https://github.com/InseeFrLab/pynsee) pour, respectivement,\n",
        "interagir avec un espace de stockage distant de type `S3` et récupérer\n",
        "les données d’illustration sur le site\n",
        "[insee.fr](https://www.insee.fr/fr/accueil). `Pynsee` est nécessaire en\n",
        "début de *notebook* pour faciliter la récupération de la source de\n",
        "données utilisée. `s3fs` n’est nécessaire que pour faire tourner les\n",
        "exemples présents dans les encadrés proposant des détails\n",
        "supplémentaires ou alternatifs. La dernière partie utilise également le\n",
        "package [`DuckDB`](https://duckdb.org/docs/api/python/overview.html)\n",
        "pour illustrer la complémentarité avec une approche utilisant des\n",
        "requêtes SQL pour la manipulation de données.\n",
        "\n",
        "</div>"
      ]
    },
    {
      "cell_type": "markdown",
      "id": "c58f0db9-a7aa-40ae-b4cc-c4336e73dd84",
      "metadata": {},
      "source": [
        "Pour pouvoir installer les packages utilisés par ce tutoriel, il est\n",
        "nécessaire d’exécuter la cellule suivante:"
      ]
    },
    {
      "cell_type": "code",
      "execution_count": 1,
      "id": "a502d937",
      "metadata": {},
      "outputs": [
        {
          "name": "stdout",
          "output_type": "stream",
          "text": [
            "Requirement already satisfied: polars in /opt/mamba/lib/python3.11/site-packages (0.20.17)\n",
            "Requirement already satisfied: s3fs in /opt/mamba/lib/python3.11/site-packages (2024.3.1)\n",
            "Requirement already satisfied: duckdb in /opt/mamba/lib/python3.11/site-packages (0.10.1)\n",
            "Requirement already satisfied: pynsee[full] in /opt/mamba/lib/python3.11/site-packages (0.1.7)\n",
            "Requirement already satisfied: pandas>=0.24.2 in /opt/mamba/lib/python3.11/site-packages (from pynsee[full]) (2.2.1)\n",
            "Requirement already satisfied: tqdm>=4.56.0 in /opt/mamba/lib/python3.11/site-packages (from pynsee[full]) (4.66.2)\n",
            "Requirement already satisfied: requests>=2.23 in /opt/mamba/lib/python3.11/site-packages (from pynsee[full]) (2.31.0)\n",
            "Requirement already satisfied: appdirs>=1.4.4 in /opt/mamba/lib/python3.11/site-packages (from pynsee[full]) (1.4.4)\n",
            "Requirement already satisfied: unidecode>=1.1.0 in /opt/mamba/lib/python3.11/site-packages (from pynsee[full]) (1.3.8)\n",
            "Requirement already satisfied: shapely>=1.8.0 in /opt/mamba/lib/python3.11/site-packages (from pynsee[full]) (2.0.3)\n",
            "Requirement already satisfied: urllib3 in /opt/mamba/lib/python3.11/site-packages (from pynsee[full]) (1.26.18)\n",
            "Requirement already satisfied: openpyxl<=3.1.0 in /opt/mamba/lib/python3.11/site-packages (from pynsee[full]) (3.1.0)\n",
            "Requirement already satisfied: xlrd>=2.0.1 in /opt/mamba/lib/python3.11/site-packages (from pynsee[full]) (2.0.1)\n",
            "Requirement already satisfied: aiobotocore<3.0.0,>=2.5.4 in /opt/mamba/lib/python3.11/site-packages (from s3fs) (2.12.1)\n",
            "Requirement already satisfied: fsspec==2024.3.1 in /opt/mamba/lib/python3.11/site-packages (from s3fs) (2024.3.1)\n",
            "Requirement already satisfied: aiohttp!=4.0.0a0,!=4.0.0a1 in /opt/mamba/lib/python3.11/site-packages (from s3fs) (3.9.3)\n",
            "Requirement already satisfied: botocore<1.34.52,>=1.34.41 in /opt/mamba/lib/python3.11/site-packages (from aiobotocore<3.0.0,>=2.5.4->s3fs) (1.34.51)\n",
            "Requirement already satisfied: wrapt<2.0.0,>=1.10.10 in /opt/mamba/lib/python3.11/site-packages (from aiobotocore<3.0.0,>=2.5.4->s3fs) (1.16.0)\n",
            "Requirement already satisfied: aioitertools<1.0.0,>=0.5.1 in /opt/mamba/lib/python3.11/site-packages (from aiobotocore<3.0.0,>=2.5.4->s3fs) (0.11.0)\n",
            "Requirement already satisfied: aiosignal>=1.1.2 in /opt/mamba/lib/python3.11/site-packages (from aiohttp!=4.0.0a0,!=4.0.0a1->s3fs) (1.3.1)\n",
            "Requirement already satisfied: attrs>=17.3.0 in /opt/mamba/lib/python3.11/site-packages (from aiohttp!=4.0.0a0,!=4.0.0a1->s3fs) (23.2.0)\n",
            "Requirement already satisfied: frozenlist>=1.1.1 in /opt/mamba/lib/python3.11/site-packages (from aiohttp!=4.0.0a0,!=4.0.0a1->s3fs) (1.4.1)\n",
            "Requirement already satisfied: multidict<7.0,>=4.5 in /opt/mamba/lib/python3.11/site-packages (from aiohttp!=4.0.0a0,!=4.0.0a1->s3fs) (6.0.5)\n",
            "Requirement already satisfied: yarl<2.0,>=1.0 in /opt/mamba/lib/python3.11/site-packages (from aiohttp!=4.0.0a0,!=4.0.0a1->s3fs) (1.9.4)\n",
            "Requirement already satisfied: et-xmlfile in /opt/mamba/lib/python3.11/site-packages (from openpyxl<=3.1.0->pynsee[full]) (1.1.0)\n",
            "Requirement already satisfied: numpy<2,>=1.23.2 in /opt/mamba/lib/python3.11/site-packages (from pandas>=0.24.2->pynsee[full]) (1.26.4)\n",
            "Requirement already satisfied: python-dateutil>=2.8.2 in /opt/mamba/lib/python3.11/site-packages (from pandas>=0.24.2->pynsee[full]) (2.9.0)\n",
            "Requirement already satisfied: pytz>=2020.1 in /opt/mamba/lib/python3.11/site-packages (from pandas>=0.24.2->pynsee[full]) (2024.1)\n",
            "Requirement already satisfied: tzdata>=2022.7 in /opt/mamba/lib/python3.11/site-packages (from pandas>=0.24.2->pynsee[full]) (2024.1)\n",
            "Requirement already satisfied: charset-normalizer<4,>=2 in /opt/mamba/lib/python3.11/site-packages (from requests>=2.23->pynsee[full]) (3.3.2)\n",
            "Requirement already satisfied: idna<4,>=2.5 in /opt/mamba/lib/python3.11/site-packages (from requests>=2.23->pynsee[full]) (3.6)\n",
            "Requirement already satisfied: certifi>=2017.4.17 in /opt/mamba/lib/python3.11/site-packages (from requests>=2.23->pynsee[full]) (2024.2.2)\n",
            "Requirement already satisfied: jmespath<2.0.0,>=0.7.1 in /opt/mamba/lib/python3.11/site-packages (from botocore<1.34.52,>=1.34.41->aiobotocore<3.0.0,>=2.5.4->s3fs) (1.0.1)\n",
            "Requirement already satisfied: six>=1.5 in /opt/mamba/lib/python3.11/site-packages (from python-dateutil>=2.8.2->pandas>=0.24.2->pynsee[full]) (1.16.0)\n"
          ]
        }
      ],
      "source": [
        "!pip install polars pynsee[full] s3fs duckdb"
      ]
    },
    {
      "cell_type": "markdown",
      "id": "eb816a52-d832-487e-a9bb-0306a4412736",
      "metadata": {},
      "source": [
        "Nous aurons besoin d’importer les packages suivants dans ce *notebook*:"
      ]
    },
    {
      "cell_type": "code",
      "execution_count": 2,
      "id": "b5724bcf",
      "metadata": {},
      "outputs": [],
      "source": [
        "import os\n",
        "import polars as pl\n",
        "import s3fs\n",
        "from pynsee.download import download_file"
      ]
    },
    {
      "cell_type": "markdown",
      "id": "71d2f426-7931-4b14-be71-a93d124362e6",
      "metadata": {},
      "source": [
        "# Lecture de données\n",
        "\n",
        "A partir d’un csv, il est possible de créer un `DataFrame` `Polars` de\n",
        "plusieurs manières :\n",
        "\n",
        "1.  Charger les données via `Pandas` puis les transformer en objet\n",
        "    `Polars`\n",
        "2.  Charger les données directement avec `Polars` via une fonction\n",
        "    `read_csv` qui fonctionne, en apparence, de la même manière que\n",
        "    celle de `Pandas`\n",
        "\n",
        "Ces deux approches sont présentées dans les prochaines parties.\n",
        "\n",
        "## A partir d’un objet `Pandas`\n",
        "\n",
        "Le *package* `Pynsee` fonctionne en deux temps pour créer un `DataFrame`\n",
        "`Pandas` à partir des données disponibles sur le site\n",
        "[insee.fr](https://www.insee.fr/fr/accueil) :\n",
        "\n",
        "1.  Récupération des données depuis le site\n",
        "    [insee.fr](https://www.insee.fr/fr/accueil) à partir des paramètres\n",
        "    de la fonction `download_file` (source, année…)\n",
        "2.  Import sous forme de `DataFrame` `Pandas` avec un typage pré-défini\n",
        "    dans le *package*, adapté à la source\n",
        "\n",
        "Pour récupérer des données via `Pynsee`, la fonction de référence est\n",
        "`download_file`:"
      ]
    },
    {
      "cell_type": "code",
      "execution_count": 3,
      "id": "532ca923",
      "metadata": {},
      "outputs": [
        {
          "name": "stderr",
          "output_type": "stream",
          "text": [
            "Downloading:  98%|█████████▊| 5.76M/5.88M [00:01<00:00, 4.81MiB/s]\n",
            "/opt/mamba/lib/python3.11/site-packages/pynsee/download/_download_store_file.py:68: UserWarning: File in insee.fr modified or corrupted during download\n",
            "  warnings.warn(\"File in insee.fr modified or corrupted during download\")\n",
            "Extracting: 100%|██████████| 74.6M/74.6M [00:00<00:00, 110MB/s] \n"
          ]
        }
      ],
      "source": [
        "pandas_df_bpe = download_file(\"BPE_ENS\", update = True)"
      ]
    },
    {
      "cell_type": "markdown",
      "id": "03720560-effe-4a8b-89d2-05286ecb7a60",
      "metadata": {},
      "source": [
        "`Pynsee` renvoie un `DataFrame` `Pandas` correspondant à la source\n",
        "désiré :"
      ]
    },
    {
      "cell_type": "code",
      "execution_count": 4,
      "id": "f50bd98a",
      "metadata": {},
      "outputs": [
        {
          "data": {
            "text/plain": [
              "pandas.core.frame.DataFrame"
            ]
          },
          "execution_count": 4,
          "metadata": {},
          "output_type": "execute_result"
        }
      ],
      "source": [
        "pandas_df_bpe.__class__"
      ]
    },
    {
      "cell_type": "markdown",
      "id": "871ba342-305b-48dc-9bde-8a2232feebd7",
      "metadata": {},
      "source": [
        "<div class=\"alert alert-danger\" role=\"alert\" style=\"color: rgba(0,0,0,.8); background-color: white; margin-top: 1em; margin-bottom: 1em; margin:1.5625emauto; padding:0 .6rem .8rem!important;overflow:hidden; page-break-inside:avoid; border-radius:.25rem; box-shadow:0 .2rem .5rem rgba(0,0,0,.05),0 0 .05rem rgba(0,0,0,.1); transition:color .25s,background-color .25s,border-color .25s ; border-right: 1px solid #dee2e6 ; border-top: 1px solid #dee2e6 ; border-bottom: 1px solid #dee2e6 ; border-left: .2rem solid #ff0039;\">\n",
        "<h3 class=\"alert-heading\"><i class=\"fa fa-exclamation-triangle\"></i> Warning</h3>\n",
        "\n",
        "Ces deux étapes sont là pour éviter le téléchargement manuel du CSV.\n",
        "Elles pourraient être remplacées par un `pd.read_csv` vers un URL bien\n",
        "choisi. Cependant le typage des données pourrait ne pas être optimal.\n",
        "\n",
        "</div>"
      ]
    },
    {
      "cell_type": "markdown",
      "id": "40f9f82b-d2cc-47ff-b273-5ed5200e6ac4",
      "metadata": {},
      "source": [
        "La conversion d’un objet `Pandas` en `Polars` se fait via la méthode\n",
        "`from_pandas`:"
      ]
    },
    {
      "cell_type": "code",
      "execution_count": 5,
      "id": "4cc28ea4",
      "metadata": {},
      "outputs": [],
      "source": [
        "df = pl.from_pandas(pandas_df_bpe)"
      ]
    },
    {
      "cell_type": "markdown",
      "id": "b811771b-ee03-440c-a66d-8317bd6b7a87",
      "metadata": {},
      "source": [
        "Les `DataFrame` `Polars` apparaissent de manière différente des\n",
        "`DataFrame` `Pandas` dans la console ou dans le *display* de `Jupyter`:\n",
        "\n",
        "-   `pd.DataFrame`:"
      ]
    },
    {
      "cell_type": "code",
      "execution_count": 6,
      "id": "c7319056",
      "metadata": {},
      "outputs": [
        {
          "data": {
            "text/html": [
              "<div>\n",
              "<style scoped>\n",
              "    .dataframe tbody tr th:only-of-type {\n",
              "        vertical-align: middle;\n",
              "    }\n",
              "\n",
              "    .dataframe tbody tr th {\n",
              "        vertical-align: top;\n",
              "    }\n",
              "\n",
              "    .dataframe thead th {\n",
              "        text-align: right;\n",
              "    }\n",
              "</style>\n",
              "<table border=\"1\" class=\"dataframe\">\n",
              "  <thead>\n",
              "    <tr style=\"text-align: right;\">\n",
              "      <th></th>\n",
              "      <th>AAV2020</th>\n",
              "      <th>AN</th>\n",
              "      <th>BV2012</th>\n",
              "      <th>DEP</th>\n",
              "      <th>DEPCOM</th>\n",
              "      <th>DOM</th>\n",
              "      <th>EPCI</th>\n",
              "      <th>DCIRIS</th>\n",
              "      <th>REG</th>\n",
              "      <th>SDOM</th>\n",
              "      <th>TYPEQU</th>\n",
              "      <th>UU2020</th>\n",
              "      <th>NB_EQUIP</th>\n",
              "    </tr>\n",
              "  </thead>\n",
              "  <tbody>\n",
              "    <tr>\n",
              "      <th>0</th>\n",
              "      <td>524</td>\n",
              "      <td>2021</td>\n",
              "      <td>01093</td>\n",
              "      <td>01</td>\n",
              "      <td>01001</td>\n",
              "      <td>A</td>\n",
              "      <td>200069193</td>\n",
              "      <td>010010000</td>\n",
              "      <td>84</td>\n",
              "      <td>A1</td>\n",
              "      <td>A129</td>\n",
              "      <td>CSZ</td>\n",
              "      <td>1</td>\n",
              "    </tr>\n",
              "    <tr>\n",
              "      <th>1</th>\n",
              "      <td>524</td>\n",
              "      <td>2021</td>\n",
              "      <td>01093</td>\n",
              "      <td>01</td>\n",
              "      <td>01001</td>\n",
              "      <td>A</td>\n",
              "      <td>200069193</td>\n",
              "      <td>010010000</td>\n",
              "      <td>84</td>\n",
              "      <td>A4</td>\n",
              "      <td>A401</td>\n",
              "      <td>CSZ</td>\n",
              "      <td>2</td>\n",
              "    </tr>\n",
              "  </tbody>\n",
              "</table>\n",
              "</div>"
            ],
            "text/plain": [
              "  AAV2020    AN BV2012 DEP DEPCOM DOM       EPCI     DCIRIS REG SDOM TYPEQU  \\\n",
              "0     524  2021  01093  01  01001   A  200069193  010010000  84   A1   A129   \n",
              "1     524  2021  01093  01  01001   A  200069193  010010000  84   A4   A401   \n",
              "\n",
              "  UU2020 NB_EQUIP  \n",
              "0    CSZ        1  \n",
              "1    CSZ        2  "
            ]
          },
          "execution_count": 6,
          "metadata": {},
          "output_type": "execute_result"
        }
      ],
      "source": [
        "pandas_df_bpe.head(2)"
      ]
    },
    {
      "cell_type": "markdown",
      "id": "6c255e13-2b9e-4260-8aa4-57e0bf8db666",
      "metadata": {},
      "source": [
        "-   `pl.DataFrame`:"
      ]
    },
    {
      "cell_type": "code",
      "execution_count": 7,
      "id": "5a3bca26",
      "metadata": {},
      "outputs": [
        {
          "data": {
            "text/html": [
              "<div><style>\n",
              ".dataframe > thead > tr,\n",
              ".dataframe > tbody > tr {\n",
              "  text-align: right;\n",
              "  white-space: pre-wrap;\n",
              "}\n",
              "</style>\n",
              "<small>shape: (2, 13)</small><table border=\"1\" class=\"dataframe\"><thead><tr><th>AAV2020</th><th>AN</th><th>BV2012</th><th>DEP</th><th>DEPCOM</th><th>DOM</th><th>EPCI</th><th>DCIRIS</th><th>REG</th><th>SDOM</th><th>TYPEQU</th><th>UU2020</th><th>NB_EQUIP</th></tr><tr><td>str</td><td>str</td><td>str</td><td>str</td><td>str</td><td>str</td><td>str</td><td>str</td><td>str</td><td>str</td><td>str</td><td>str</td><td>str</td></tr></thead><tbody><tr><td>&quot;524&quot;</td><td>&quot;2021&quot;</td><td>&quot;01093&quot;</td><td>&quot;01&quot;</td><td>&quot;01001&quot;</td><td>&quot;A&quot;</td><td>&quot;200069193&quot;</td><td>&quot;010010000&quot;</td><td>&quot;84&quot;</td><td>&quot;A1&quot;</td><td>&quot;A129&quot;</td><td>&quot;CSZ&quot;</td><td>&quot;1&quot;</td></tr><tr><td>&quot;524&quot;</td><td>&quot;2021&quot;</td><td>&quot;01093&quot;</td><td>&quot;01&quot;</td><td>&quot;01001&quot;</td><td>&quot;A&quot;</td><td>&quot;200069193&quot;</td><td>&quot;010010000&quot;</td><td>&quot;84&quot;</td><td>&quot;A4&quot;</td><td>&quot;A401&quot;</td><td>&quot;CSZ&quot;</td><td>&quot;2&quot;</td></tr></tbody></table></div>"
            ],
            "text/plain": [
              "shape: (2, 13)\n",
              "┌─────────┬──────┬────────┬─────┬───┬──────┬────────┬────────┬──────────┐\n",
              "│ AAV2020 ┆ AN   ┆ BV2012 ┆ DEP ┆ … ┆ SDOM ┆ TYPEQU ┆ UU2020 ┆ NB_EQUIP │\n",
              "│ ---     ┆ ---  ┆ ---    ┆ --- ┆   ┆ ---  ┆ ---    ┆ ---    ┆ ---      │\n",
              "│ str     ┆ str  ┆ str    ┆ str ┆   ┆ str  ┆ str    ┆ str    ┆ str      │\n",
              "╞═════════╪══════╪════════╪═════╪═══╪══════╪════════╪════════╪══════════╡\n",
              "│ 524     ┆ 2021 ┆ 01093  ┆ 01  ┆ … ┆ A1   ┆ A129   ┆ CSZ    ┆ 1        │\n",
              "│ 524     ┆ 2021 ┆ 01093  ┆ 01  ┆ … ┆ A4   ┆ A401   ┆ CSZ    ┆ 2        │\n",
              "└─────────┴──────┴────────┴─────┴───┴──────┴────────┴────────┴──────────┘"
            ]
          },
          "execution_count": 7,
          "metadata": {},
          "output_type": "execute_result"
        }
      ],
      "source": [
        "df.head(2)"
      ]
    },
    {
      "cell_type": "markdown",
      "id": "110685a8-955d-415c-b464-a341d78b7bc6",
      "metadata": {},
      "source": [
        "On va écrire au format\n",
        "[Parquet](https://pythonds.linogaliana.fr/reads3/) ce `DataFrame` pour\n",
        "ensuite illustrer la lecture à partir de ce format, plus performant."
      ]
    },
    {
      "cell_type": "code",
      "execution_count": 8,
      "id": "ee2c5286",
      "metadata": {},
      "outputs": [],
      "source": [
        "df.write_parquet(\"bpe.parquet\")"
      ]
    },
    {
      "cell_type": "markdown",
      "id": "3d2a0bab-1399-4e62-8a92-6f91adc2a7ef",
      "metadata": {},
      "source": [
        "## En lecture directe depuis un CSV\n",
        "\n",
        "Pour faciliter l’usage des données de la [Base Permanente des\n",
        "Equipements\n",
        "(BPE)](https://www.insee.fr/fr/metadonnees/source/serie/s1161), une\n",
        "copie de la version 2019 disponible sur le site de l’Insee est mise à\n",
        "disposition, prête à l’emploi. Elle est disponible depuis l’URL :\n",
        "https://minio.lab.sspcloud.fr/donnees-insee/diffusion/BPE/2019/BPE_ENS.csv"
      ]
    },
    {
      "cell_type": "code",
      "execution_count": 9,
      "id": "099ce4ea",
      "metadata": {},
      "outputs": [],
      "source": [
        "url = \"https://minio.lab.sspcloud.fr/donnees-insee/diffusion/BPE/2019/BPE_ENS.csv\"\n",
        "df_bpe = pl.read_csv(\n",
        "    url, separator = \";\",\n",
        "    dtypes={\n",
        "        \"DEP\": pl.Categorical,\n",
        "        \"DEPCOM\": pl.Categorical\n",
        "    })"
      ]
    },
    {
      "cell_type": "markdown",
      "id": "ba7b1476-89a0-4c9d-99c4-2d6e67b9bd08",
      "metadata": {},
      "source": [
        "L’option `dtypes` est ici nécessaire sous peine d’une erreur qu’on ne\n",
        "rencontrait pas avec `Pandas` car `Polars` est plus vigilant sur la\n",
        "nature piégeuse de certaines variables comme les numéros de départements\n",
        "français (qui sont tous numériques sauf les numéros Corse *“2A”* et\n",
        "*“2B”*) et demande à l’utilisateur de données de fixer le type de ces\n",
        "variables."
      ]
    },
    {
      "cell_type": "markdown",
      "id": "bf8aa3f4-f0dd-449e-84a2-cc764981db65",
      "metadata": {},
      "source": [
        "<div class=\"alert alert-info\" role=\"alert\" style=\"color: rgba(0,0,0,.8); background-color: white; margin-top: 1em; margin-bottom: 1em; margin:1.5625emauto; padding:0 .6rem .8rem!important;overflow:hidden; page-break-inside:avoid; border-radius:.25rem; box-shadow:0 .2rem .5rem rgba(0,0,0,.05),0 0 .05rem rgba(0,0,0,.1); transition:color .25s,background-color .25s,border-color .25s ; border-right: 1px solid #dee2e6 ; border-top: 1px solid #dee2e6 ; border-bottom: 1px solid #dee2e6 ; border-left:.2rem solid #007bff80;\">\n",
        "<h3 class=\"alert-heading\"><i class=\"fa fa-comment\"></i> Note</h3>\n",
        "\n",
        "Pour les utilisateurs du [SSP Cloud](https://www.sspcloud.fr/), il\n",
        "existe une méthode plus universelle pour récupérer des données\n",
        "disponibles depuis le système de stockage. La librairie `S3FS` permet de\n",
        "traiter le système de stockage S3 comme un *filesystem* (FS) local. Il\n",
        "est donc possible de directement lire depuis un CSV en passant par\n",
        "l’espace de stockage de la plateforme:\n",
        "\n",
        "``` python\n",
        "S3_ENDPOINT_URL = \"https://\" + os.environ[\"AWS_S3_ENDPOINT\"]\n",
        "fs = s3fs.S3FileSystem(client_kwargs={'endpoint_url': S3_ENDPOINT_URL})\n",
        "BUCKET = \"donnees-insee/diffusion/BPE/2019\"\n",
        "\n",
        "with fs.open(f\"{BUCKET}/BPE_ENS.csv\") as bpe_csv:\n",
        "    df_bpe = pl.read_csv(\n",
        "        bpe_csv, separator = \";\",\n",
        "        dtypes={\n",
        "            \"DEP\": pl.Categorical,\n",
        "            \"DEPCOM\": pl.Categorical\n",
        "            })\n",
        "    print(df_bpe.head())\n",
        "```\n",
        "\n",
        "    shape: (5, 7)\n",
        "    ┌─────┬─────┬────────┬────────┬──────┬────────┬──────────┐\n",
        "    │ REG ┆ DEP ┆ DEPCOM ┆ DCIRIS ┆ AN   ┆ TYPEQU ┆ NB_EQUIP │\n",
        "    │ --- ┆ --- ┆ ---    ┆ ---    ┆ ---  ┆ ---    ┆ ---      │\n",
        "    │ i64 ┆ cat ┆ cat    ┆ str    ┆ i64  ┆ str    ┆ i64      │\n",
        "    ╞═════╪═════╪════════╪════════╪══════╪════════╪══════════╡\n",
        "    │ 84  ┆ 01  ┆ 01001  ┆ 01001  ┆ 2019 ┆ A401   ┆ 2        │\n",
        "    │ 84  ┆ 01  ┆ 01001  ┆ 01001  ┆ 2019 ┆ A404   ┆ 4        │\n",
        "    │ 84  ┆ 01  ┆ 01001  ┆ 01001  ┆ 2019 ┆ A405   ┆ 2        │\n",
        "    │ 84  ┆ 01  ┆ 01001  ┆ 01001  ┆ 2019 ┆ A504   ┆ 1        │\n",
        "    │ 84  ┆ 01  ┆ 01001  ┆ 01001  ┆ 2019 ┆ A507   ┆ 1        │\n",
        "    └─────┴─────┴────────┴────────┴──────┴────────┴──────────┘\n",
        "\n",
        "</div>"
      ]
    },
    {
      "cell_type": "markdown",
      "id": "45fbcb9d-e7d6-4b91-affa-8c69e2d76c0f",
      "metadata": {},
      "source": [
        "# Comment utiliser Polars ?\n",
        "\n",
        "Dans la suite de ce tutoriel, on va privilégier l’import depuis un\n",
        "fichier `Parquet`, plus performant et plus fiable grâce au typage des\n",
        "colonnes."
      ]
    },
    {
      "cell_type": "code",
      "execution_count": 10,
      "id": "b98d96b5",
      "metadata": {},
      "outputs": [],
      "source": [
        "df_bpe = pl.read_parquet(\"bpe.parquet\")"
      ]
    },
    {
      "cell_type": "markdown",
      "id": "393d0eca-2c04-4574-999e-4d96fcc66465",
      "metadata": {},
      "source": [
        "A l’instar d’autres outils modernes d’exploitation des données, `Polars`\n",
        "expose un modèle de traitement basé sur des fonctions de haut niveau,\n",
        "comme `select`, `filter` ou `groupby`, qui empruntent au langage SQL une\n",
        "logique expressive du *“quoi ?”* plutôt que du *“comment ?”*.\n",
        "\n",
        "La différence avec un package comme `Pandas` ou `dplyr` (`R`) est que\n",
        "`Polars` repose explicitement sur le principe de l’exécution retardée\n",
        "(*lazy evaluation*) qui consiste à optimiser le plan d’exécution fourni\n",
        "par l’utilisateur de données pour gagner en performance.\n",
        "\n",
        "Dans l’exemple qui suit, on commence par déclarer une exécution retardée\n",
        "(via `lazy()`) qui va permettre au moteur sous-jacent d’optimiser le\n",
        "traitement complet. Puis on exprime à l’aide des fonctions de haut\n",
        "niveau ce que l’on veut faire :\n",
        "\n",
        "1.  Filtrer le jeu de données pour ne garder les lignes pour lesquelles\n",
        "    la colonne `TYPEQU` vaut `B316` (les stations-services)\n",
        "2.  On regroupe au niveau département\n",
        "3.  On compte le nombre d’occurrences pour chaque département via `agg`\n",
        "4.  Le dernier appel - `collect()` - indique que le traitement peut être\n",
        "    lancé (et donc optimisé et parallelisé par `Polars`)."
      ]
    },
    {
      "cell_type": "code",
      "execution_count": 11,
      "id": "e02e402a",
      "metadata": {},
      "outputs": [
        {
          "name": "stderr",
          "output_type": "stream",
          "text": [
            "/tmp/ipykernel_83272/1940419069.py:3: DeprecationWarning: `groupby` is deprecated. It has been renamed to `group_by`.\n",
            "  ).groupby( # 2.\n",
            "/tmp/ipykernel_83272/1940419069.py:6: DeprecationWarning: `pl.count()` is deprecated. Please use `pl.len()` instead.\n",
            "  pl.count().alias(\"NB_STATION_SERVICE\")\n"
          ]
        },
        {
          "data": {
            "text/html": [
              "<div><style>\n",
              ".dataframe > thead > tr,\n",
              ".dataframe > tbody > tr {\n",
              "  text-align: right;\n",
              "  white-space: pre-wrap;\n",
              "}\n",
              "</style>\n",
              "<small>shape: (5, 2)</small><table border=\"1\" class=\"dataframe\"><thead><tr><th>DEP</th><th>NB_STATION_SERVICE</th></tr><tr><td>str</td><td>u32</td></tr></thead><tbody><tr><td>&quot;01&quot;</td><td>91</td></tr><tr><td>&quot;13&quot;</td><td>192</td></tr><tr><td>&quot;10&quot;</td><td>48</td></tr><tr><td>&quot;03&quot;</td><td>56</td></tr><tr><td>&quot;09&quot;</td><td>24</td></tr></tbody></table></div>"
            ],
            "text/plain": [
              "shape: (5, 2)\n",
              "┌─────┬────────────────────┐\n",
              "│ DEP ┆ NB_STATION_SERVICE │\n",
              "│ --- ┆ ---                │\n",
              "│ str ┆ u32                │\n",
              "╞═════╪════════════════════╡\n",
              "│ 01  ┆ 91                 │\n",
              "│ 13  ┆ 192                │\n",
              "│ 10  ┆ 48                 │\n",
              "│ 03  ┆ 56                 │\n",
              "│ 09  ┆ 24                 │\n",
              "└─────┴────────────────────┘"
            ]
          },
          "execution_count": 11,
          "metadata": {},
          "output_type": "execute_result"
        }
      ],
      "source": [
        "df_stations_service = df_bpe.lazy().filter( # 1.\n",
        "    pl.col(\"TYPEQU\") == \"B316\"\n",
        ").groupby( # 2.\n",
        "    \"DEP\"\n",
        ").agg( # 3.\n",
        "    pl.count().alias(\"NB_STATION_SERVICE\")\n",
        ").collect() # 4.\n",
        "\n",
        "df_stations_service.head(5)"
      ]
    },
    {
      "cell_type": "markdown",
      "id": "1c1327b5-f70c-4dae-8fd6-89c561d0173f",
      "metadata": {},
      "source": [
        "Du point de vue du code, la complexité induite par l’approche\n",
        "d’évaluation retardée est donc légère (un `lazy` en début de plan et un\n",
        "`collect` en fin de plan). Cependant, du point de vue de la performance,\n",
        "cela va amener énormément de gain car cela permettra à `Polars`\n",
        "d’optimiser l’ordre des opérations lorsque cela est possible pour gagner\n",
        "en performance. Par exemple, si une étape comme `filter` arrive\n",
        "tardivement, `Polars` peut être tenté de la faire intervenir plus tôt\n",
        "que l’étape à laquelle elle a été déclarée si c’est possible puisque\n",
        "traiter un *dataframe* allégé peut faire gagner beaucoup de temps.\n",
        "\n",
        "## Lazy or not lazy ?\n",
        "\n",
        "Les exemples qui suivent n’utilisent pas systématiquement la fonction\n",
        "`lazy()` avant les opérations sur le *dataframe* pour montrer\n",
        "l’alternative qui s’offre à l’utilisateur de `Polars`.\n",
        "\n",
        "Cependant, l’usage de cette fonction est recommandée en général et en\n",
        "particulier pour des traiements sur des tables volumineuses : en effet,\n",
        "le mode *lazy* permet au moteur sous-jacent d’optimiser les traitements\n",
        "et donc de gagner en rapidité (par exemple en parallélisant les\n",
        "calculs).\n",
        "\n",
        "## Les expressions\n",
        "\n",
        "Les\n",
        "[**expressions**](https://pola-rs.github.io/polars-book/user-guide/dsl/expressions.html)\n",
        "sont au coeur des transformations de données en `Polars`. A partir de\n",
        "l’exemple ci-dessous, on peut comprendre la nature d’une expression :\n",
        "\n",
        "    pl.col(\"A\").sort().head(2)\n",
        "\n",
        "-   `pl` est l’alias pour le module `Polars` ;\n",
        "-   `col(\"A\")` pointe vers la colonne *“A”* ;\n",
        "-   `sort()` est une fonction de tri à appliquer sur la colonne ;\n",
        "-   l’opération `head` va permettre de matérialiser l’expression, ici\n",
        "    pour sélectionner les deux premières lignes\n",
        "\n",
        "Ici, nous avons utilisé `head` pour matérialiser l’expression. Le reste\n",
        "de l’expression (les transformations antérieures) sera exécuté\n",
        "lorsqu’une action comme `head` est à mettre en oeuvre.\n",
        "\n",
        "Les actions qui déclenchent des opérations sont les suivantes:\n",
        "\n",
        "-   l’aggrégation (`df.groupby(..).agg(..)`)\n",
        "-   l’affichage de valeurs (`df.head(...)`)\n",
        "-   l’appel explicite à une exécution (`df.collect()`)\n",
        "\n",
        "Alors que les transformations suivantes ne génèrent pas d’exécution\n",
        "immédiate :\n",
        "\n",
        "-   la sélection d’observations (`df.filter(..)`)\n",
        "-   la création de nouvelles variables (`df.with_columns(..)`) ou la\n",
        "    sélection de colonnes (`df.select(...)`)\n",
        "\n",
        "Au contraire, leur exécution est retardée à une exécution ultérieure.\n",
        "\n",
        "# Sélection de données\n",
        "\n",
        "Deux types de sélections sont possibles :\n",
        "\n",
        "1.  une **sélection de variables** (en colonne), avec `select`\n",
        "2.  une **sélection d’observations** (en ligne), avec `filter`\n",
        "\n",
        "La combinaison des deux se faisant en chaînant l’appel à ces deux\n",
        "fonctions.\n",
        "\n",
        "## Sélection de variables\n",
        "\n",
        "Commençons par sélectionner des variables en utilisant leurs noms :"
      ]
    },
    {
      "cell_type": "code",
      "execution_count": 12,
      "id": "0ed5fc4f",
      "metadata": {},
      "outputs": [
        {
          "data": {
            "text/html": [
              "<div><style>\n",
              ".dataframe > thead > tr,\n",
              ".dataframe > tbody > tr {\n",
              "  text-align: right;\n",
              "  white-space: pre-wrap;\n",
              "}\n",
              "</style>\n",
              "<small>shape: (5, 3)</small><table border=\"1\" class=\"dataframe\"><thead><tr><th>DEPCOM</th><th>TYPEQU</th><th>NB_EQUIP</th></tr><tr><td>str</td><td>str</td><td>str</td></tr></thead><tbody><tr><td>&quot;01001&quot;</td><td>&quot;A129&quot;</td><td>&quot;1&quot;</td></tr><tr><td>&quot;01001&quot;</td><td>&quot;A401&quot;</td><td>&quot;2&quot;</td></tr><tr><td>&quot;01001&quot;</td><td>&quot;A402&quot;</td><td>&quot;1&quot;</td></tr><tr><td>&quot;01001&quot;</td><td>&quot;A404&quot;</td><td>&quot;2&quot;</td></tr><tr><td>&quot;01001&quot;</td><td>&quot;A405&quot;</td><td>&quot;2&quot;</td></tr></tbody></table></div>"
            ],
            "text/plain": [
              "shape: (5, 3)\n",
              "┌────────┬────────┬──────────┐\n",
              "│ DEPCOM ┆ TYPEQU ┆ NB_EQUIP │\n",
              "│ ---    ┆ ---    ┆ ---      │\n",
              "│ str    ┆ str    ┆ str      │\n",
              "╞════════╪════════╪══════════╡\n",
              "│ 01001  ┆ A129   ┆ 1        │\n",
              "│ 01001  ┆ A401   ┆ 2        │\n",
              "│ 01001  ┆ A402   ┆ 1        │\n",
              "│ 01001  ┆ A404   ┆ 2        │\n",
              "│ 01001  ┆ A405   ┆ 2        │\n",
              "└────────┴────────┴──────────┘"
            ]
          },
          "execution_count": 12,
          "metadata": {},
          "output_type": "execute_result"
        }
      ],
      "source": [
        "df_bpe.select(\n",
        "    [\"DEPCOM\", \"TYPEQU\", \"NB_EQUIP\"]\n",
        ").head(5)"
      ]
    },
    {
      "cell_type": "markdown",
      "id": "e5e53b42-00cf-4208-a971-dfc745ed2fbe",
      "metadata": {},
      "source": [
        "Bien que cette méthode ne soit pas conseillée, il est bon de noter qu’il\n",
        "est également possible de sélectionner via les positions des colonnes,\n",
        "comme le permet `Pandas` :"
      ]
    },
    {
      "cell_type": "code",
      "execution_count": 13,
      "id": "7b38c930",
      "metadata": {},
      "outputs": [
        {
          "data": {
            "text/html": [
              "<div><style>\n",
              ".dataframe > thead > tr,\n",
              ".dataframe > tbody > tr {\n",
              "  text-align: right;\n",
              "  white-space: pre-wrap;\n",
              "}\n",
              "</style>\n",
              "<small>shape: (5, 4)</small><table border=\"1\" class=\"dataframe\"><thead><tr><th>AN</th><th>BV2012</th><th>DEP</th><th>DEPCOM</th></tr><tr><td>str</td><td>str</td><td>str</td><td>str</td></tr></thead><tbody><tr><td>&quot;2021&quot;</td><td>&quot;01093&quot;</td><td>&quot;01&quot;</td><td>&quot;01001&quot;</td></tr><tr><td>&quot;2021&quot;</td><td>&quot;01093&quot;</td><td>&quot;01&quot;</td><td>&quot;01001&quot;</td></tr><tr><td>&quot;2021&quot;</td><td>&quot;01093&quot;</td><td>&quot;01&quot;</td><td>&quot;01001&quot;</td></tr><tr><td>&quot;2021&quot;</td><td>&quot;01093&quot;</td><td>&quot;01&quot;</td><td>&quot;01001&quot;</td></tr><tr><td>&quot;2021&quot;</td><td>&quot;01093&quot;</td><td>&quot;01&quot;</td><td>&quot;01001&quot;</td></tr></tbody></table></div>"
            ],
            "text/plain": [
              "shape: (5, 4)\n",
              "┌──────┬────────┬─────┬────────┐\n",
              "│ AN   ┆ BV2012 ┆ DEP ┆ DEPCOM │\n",
              "│ ---  ┆ ---    ┆ --- ┆ ---    │\n",
              "│ str  ┆ str    ┆ str ┆ str    │\n",
              "╞══════╪════════╪═════╪════════╡\n",
              "│ 2021 ┆ 01093  ┆ 01  ┆ 01001  │\n",
              "│ 2021 ┆ 01093  ┆ 01  ┆ 01001  │\n",
              "│ 2021 ┆ 01093  ┆ 01  ┆ 01001  │\n",
              "│ 2021 ┆ 01093  ┆ 01  ┆ 01001  │\n",
              "│ 2021 ┆ 01093  ┆ 01  ┆ 01001  │\n",
              "└──────┴────────┴─────┴────────┘"
            ]
          },
          "execution_count": 13,
          "metadata": {},
          "output_type": "execute_result"
        }
      ],
      "source": [
        "df_bpe[:, 1:5].head(5)"
      ]
    },
    {
      "cell_type": "markdown",
      "id": "e128370c-ddcd-45cd-b72a-a2e4a649573c",
      "metadata": {},
      "source": [
        "On peut également s’appuyer sur des motifs de sélection des noms de\n",
        "colonnes mobilisant des expressions régulières (ici `^DEP.*$` signifiant\n",
        "*“débute par DEP”*):"
      ]
    },
    {
      "cell_type": "code",
      "execution_count": 14,
      "id": "8b775d0e",
      "metadata": {},
      "outputs": [
        {
          "data": {
            "text/html": [
              "<div><style>\n",
              ".dataframe > thead > tr,\n",
              ".dataframe > tbody > tr {\n",
              "  text-align: right;\n",
              "  white-space: pre-wrap;\n",
              "}\n",
              "</style>\n",
              "<small>shape: (5, 2)</small><table border=\"1\" class=\"dataframe\"><thead><tr><th>DEP</th><th>DEPCOM</th></tr><tr><td>str</td><td>str</td></tr></thead><tbody><tr><td>&quot;01&quot;</td><td>&quot;01001&quot;</td></tr><tr><td>&quot;01&quot;</td><td>&quot;01001&quot;</td></tr><tr><td>&quot;01&quot;</td><td>&quot;01001&quot;</td></tr><tr><td>&quot;01&quot;</td><td>&quot;01001&quot;</td></tr><tr><td>&quot;01&quot;</td><td>&quot;01001&quot;</td></tr></tbody></table></div>"
            ],
            "text/plain": [
              "shape: (5, 2)\n",
              "┌─────┬────────┐\n",
              "│ DEP ┆ DEPCOM │\n",
              "│ --- ┆ ---    │\n",
              "│ str ┆ str    │\n",
              "╞═════╪════════╡\n",
              "│ 01  ┆ 01001  │\n",
              "│ 01  ┆ 01001  │\n",
              "│ 01  ┆ 01001  │\n",
              "│ 01  ┆ 01001  │\n",
              "│ 01  ┆ 01001  │\n",
              "└─────┴────────┘"
            ]
          },
          "execution_count": 14,
          "metadata": {},
          "output_type": "execute_result"
        }
      ],
      "source": [
        "df_bpe.select(\n",
        "    pl.col(\"^DEP.*$\")\n",
        ").head(5)"
      ]
    },
    {
      "cell_type": "markdown",
      "id": "46f5f113-0845-4e40-849c-19e1db99ef26",
      "metadata": {},
      "source": [
        "La fonction `select` acceptant des `list` Python, on peut construire des\n",
        "sélecteurs assez puissants :"
      ]
    },
    {
      "cell_type": "code",
      "execution_count": 15,
      "id": "b1622027",
      "metadata": {},
      "outputs": [
        {
          "data": {
            "text/html": [
              "<div><style>\n",
              ".dataframe > thead > tr,\n",
              ".dataframe > tbody > tr {\n",
              "  text-align: right;\n",
              "  white-space: pre-wrap;\n",
              "}\n",
              "</style>\n",
              "<small>shape: (5, 2)</small><table border=\"1\" class=\"dataframe\"><thead><tr><th>DEP</th><th>DEPCOM</th></tr><tr><td>str</td><td>str</td></tr></thead><tbody><tr><td>&quot;01&quot;</td><td>&quot;01001&quot;</td></tr><tr><td>&quot;01&quot;</td><td>&quot;01001&quot;</td></tr><tr><td>&quot;01&quot;</td><td>&quot;01001&quot;</td></tr><tr><td>&quot;01&quot;</td><td>&quot;01001&quot;</td></tr><tr><td>&quot;01&quot;</td><td>&quot;01001&quot;</td></tr></tbody></table></div>"
            ],
            "text/plain": [
              "shape: (5, 2)\n",
              "┌─────┬────────┐\n",
              "│ DEP ┆ DEPCOM │\n",
              "│ --- ┆ ---    │\n",
              "│ str ┆ str    │\n",
              "╞═════╪════════╡\n",
              "│ 01  ┆ 01001  │\n",
              "│ 01  ┆ 01001  │\n",
              "│ 01  ┆ 01001  │\n",
              "│ 01  ┆ 01001  │\n",
              "│ 01  ┆ 01001  │\n",
              "└─────┴────────┘"
            ]
          },
          "execution_count": 15,
          "metadata": {},
          "output_type": "execute_result"
        }
      ],
      "source": [
        "dep_cols = [cols for cols in df_bpe.columns if cols.startswith(\"DEP\")] \n",
        "\n",
        "df_bpe.select(dep_cols).head(5)"
      ]
    },
    {
      "cell_type": "markdown",
      "id": "2a6b560e-c8ee-4fce-a1d8-8cdae2108b94",
      "metadata": {},
      "source": [
        "## Sélection d’observations\n",
        "\n",
        "La sélection d’observations (de lignes) se fera grâce à la fonction\n",
        "`filter`."
      ]
    },
    {
      "cell_type": "code",
      "execution_count": 16,
      "id": "5a5a9d93",
      "metadata": {},
      "outputs": [
        {
          "data": {
            "text/html": [
              "<div><style>\n",
              ".dataframe > thead > tr,\n",
              ".dataframe > tbody > tr {\n",
              "  text-align: right;\n",
              "  white-space: pre-wrap;\n",
              "}\n",
              "</style>\n",
              "<small>shape: (5, 13)</small><table border=\"1\" class=\"dataframe\"><thead><tr><th>AAV2020</th><th>AN</th><th>BV2012</th><th>DEP</th><th>DEPCOM</th><th>DOM</th><th>EPCI</th><th>DCIRIS</th><th>REG</th><th>SDOM</th><th>TYPEQU</th><th>UU2020</th><th>NB_EQUIP</th></tr><tr><td>str</td><td>str</td><td>str</td><td>str</td><td>str</td><td>str</td><td>str</td><td>str</td><td>str</td><td>str</td><td>str</td><td>str</td><td>str</td></tr></thead><tbody><tr><td>&quot;001&quot;</td><td>&quot;2021&quot;</td><td>&quot;75056&quot;</td><td>&quot;75&quot;</td><td>&quot;75101&quot;</td><td>&quot;B&quot;</td><td>&quot;200054781&quot;</td><td>&quot;751010101&quot;</td><td>&quot;11&quot;</td><td>&quot;B3&quot;</td><td>&quot;B304&quot;</td><td>&quot;00851&quot;</td><td>&quot;2&quot;</td></tr><tr><td>&quot;001&quot;</td><td>&quot;2021&quot;</td><td>&quot;75056&quot;</td><td>&quot;75&quot;</td><td>&quot;75101&quot;</td><td>&quot;B&quot;</td><td>&quot;200054781&quot;</td><td>&quot;751010201&quot;</td><td>&quot;11&quot;</td><td>&quot;B3&quot;</td><td>&quot;B304&quot;</td><td>&quot;00851&quot;</td><td>&quot;17&quot;</td></tr><tr><td>&quot;001&quot;</td><td>&quot;2021&quot;</td><td>&quot;75056&quot;</td><td>&quot;75&quot;</td><td>&quot;75101&quot;</td><td>&quot;B&quot;</td><td>&quot;200054781&quot;</td><td>&quot;751010202&quot;</td><td>&quot;11&quot;</td><td>&quot;B3&quot;</td><td>&quot;B304&quot;</td><td>&quot;00851&quot;</td><td>&quot;3&quot;</td></tr><tr><td>&quot;001&quot;</td><td>&quot;2021&quot;</td><td>&quot;75056&quot;</td><td>&quot;75&quot;</td><td>&quot;75101&quot;</td><td>&quot;B&quot;</td><td>&quot;200054781&quot;</td><td>&quot;751010203&quot;</td><td>&quot;11&quot;</td><td>&quot;B3&quot;</td><td>&quot;B304&quot;</td><td>&quot;00851&quot;</td><td>&quot;6&quot;</td></tr><tr><td>&quot;001&quot;</td><td>&quot;2021&quot;</td><td>&quot;75056&quot;</td><td>&quot;75&quot;</td><td>&quot;75101&quot;</td><td>&quot;B&quot;</td><td>&quot;200054781&quot;</td><td>&quot;751010204&quot;</td><td>&quot;11&quot;</td><td>&quot;B3&quot;</td><td>&quot;B304&quot;</td><td>&quot;00851&quot;</td><td>&quot;7&quot;</td></tr></tbody></table></div>"
            ],
            "text/plain": [
              "shape: (5, 13)\n",
              "┌─────────┬──────┬────────┬─────┬───┬──────┬────────┬────────┬──────────┐\n",
              "│ AAV2020 ┆ AN   ┆ BV2012 ┆ DEP ┆ … ┆ SDOM ┆ TYPEQU ┆ UU2020 ┆ NB_EQUIP │\n",
              "│ ---     ┆ ---  ┆ ---    ┆ --- ┆   ┆ ---  ┆ ---    ┆ ---    ┆ ---      │\n",
              "│ str     ┆ str  ┆ str    ┆ str ┆   ┆ str  ┆ str    ┆ str    ┆ str      │\n",
              "╞═════════╪══════╪════════╪═════╪═══╪══════╪════════╪════════╪══════════╡\n",
              "│ 001     ┆ 2021 ┆ 75056  ┆ 75  ┆ … ┆ B3   ┆ B304   ┆ 00851  ┆ 2        │\n",
              "│ 001     ┆ 2021 ┆ 75056  ┆ 75  ┆ … ┆ B3   ┆ B304   ┆ 00851  ┆ 17       │\n",
              "│ 001     ┆ 2021 ┆ 75056  ┆ 75  ┆ … ┆ B3   ┆ B304   ┆ 00851  ┆ 3        │\n",
              "│ 001     ┆ 2021 ┆ 75056  ┆ 75  ┆ … ┆ B3   ┆ B304   ┆ 00851  ┆ 6        │\n",
              "│ 001     ┆ 2021 ┆ 75056  ┆ 75  ┆ … ┆ B3   ┆ B304   ┆ 00851  ┆ 7        │\n",
              "└─────────┴──────┴────────┴─────┴───┴──────┴────────┴────────┴──────────┘"
            ]
          },
          "execution_count": 16,
          "metadata": {},
          "output_type": "execute_result"
        }
      ],
      "source": [
        "df_bpe.filter(\n",
        "    (pl.col(\"DEPCOM\") == \"75101\") &\n",
        "    (pl.col(\"TYPEQU\") == \"B304\")\n",
        ").head(5)"
      ]
    },
    {
      "cell_type": "markdown",
      "id": "3e11c520-e996-49eb-a960-68463b50f49d",
      "metadata": {},
      "source": [
        "De nombreux opérateurs sont disponibles pour faciliter cette sélection\n",
        "d’observations. Ici, deux exemples :\n",
        "\n",
        "-   `is_in` qui permet de filtrer sur un ensemble de valeurs ;\n",
        "-   `is_null` pour trouver les données manquantes de la variable\n",
        "    *“EPCI”*.\n",
        "\n",
        "Par exemple, pour sélectionner les départements 75 et 92:"
      ]
    },
    {
      "cell_type": "code",
      "execution_count": 17,
      "id": "6b103b9f",
      "metadata": {},
      "outputs": [
        {
          "data": {
            "text/html": [
              "<div><style>\n",
              ".dataframe > thead > tr,\n",
              ".dataframe > tbody > tr {\n",
              "  text-align: right;\n",
              "  white-space: pre-wrap;\n",
              "}\n",
              "</style>\n",
              "<small>shape: (5, 13)</small><table border=\"1\" class=\"dataframe\"><thead><tr><th>AAV2020</th><th>AN</th><th>BV2012</th><th>DEP</th><th>DEPCOM</th><th>DOM</th><th>EPCI</th><th>DCIRIS</th><th>REG</th><th>SDOM</th><th>TYPEQU</th><th>UU2020</th><th>NB_EQUIP</th></tr><tr><td>str</td><td>str</td><td>str</td><td>str</td><td>str</td><td>str</td><td>str</td><td>str</td><td>str</td><td>str</td><td>str</td><td>str</td><td>str</td></tr></thead><tbody><tr><td>&quot;001&quot;</td><td>&quot;2021&quot;</td><td>&quot;75056&quot;</td><td>&quot;75&quot;</td><td>&quot;75101&quot;</td><td>&quot;A&quot;</td><td>&quot;200054781&quot;</td><td>&quot;751010201&quot;</td><td>&quot;11&quot;</td><td>&quot;A1&quot;</td><td>&quot;A101&quot;</td><td>&quot;00851&quot;</td><td>&quot;1&quot;</td></tr><tr><td>&quot;001&quot;</td><td>&quot;2021&quot;</td><td>&quot;75056&quot;</td><td>&quot;75&quot;</td><td>&quot;75101&quot;</td><td>&quot;A&quot;</td><td>&quot;200054781&quot;</td><td>&quot;751010301&quot;</td><td>&quot;11&quot;</td><td>&quot;A1&quot;</td><td>&quot;A101&quot;</td><td>&quot;00851&quot;</td><td>&quot;1&quot;</td></tr><tr><td>&quot;001&quot;</td><td>&quot;2021&quot;</td><td>&quot;75056&quot;</td><td>&quot;75&quot;</td><td>&quot;75101&quot;</td><td>&quot;A&quot;</td><td>&quot;200054781&quot;</td><td>&quot;751010402&quot;</td><td>&quot;11&quot;</td><td>&quot;A1&quot;</td><td>&quot;A101&quot;</td><td>&quot;00851&quot;</td><td>&quot;1&quot;</td></tr><tr><td>&quot;001&quot;</td><td>&quot;2021&quot;</td><td>&quot;75056&quot;</td><td>&quot;75&quot;</td><td>&quot;75101&quot;</td><td>&quot;A&quot;</td><td>&quot;200054781&quot;</td><td>&quot;751010102&quot;</td><td>&quot;11&quot;</td><td>&quot;A1&quot;</td><td>&quot;A105&quot;</td><td>&quot;00851&quot;</td><td>&quot;1&quot;</td></tr><tr><td>&quot;001&quot;</td><td>&quot;2021&quot;</td><td>&quot;75056&quot;</td><td>&quot;75&quot;</td><td>&quot;75101&quot;</td><td>&quot;A&quot;</td><td>&quot;200054781&quot;</td><td>&quot;751010402&quot;</td><td>&quot;11&quot;</td><td>&quot;A1&quot;</td><td>&quot;A120&quot;</td><td>&quot;00851&quot;</td><td>&quot;1&quot;</td></tr></tbody></table></div>"
            ],
            "text/plain": [
              "shape: (5, 13)\n",
              "┌─────────┬──────┬────────┬─────┬───┬──────┬────────┬────────┬──────────┐\n",
              "│ AAV2020 ┆ AN   ┆ BV2012 ┆ DEP ┆ … ┆ SDOM ┆ TYPEQU ┆ UU2020 ┆ NB_EQUIP │\n",
              "│ ---     ┆ ---  ┆ ---    ┆ --- ┆   ┆ ---  ┆ ---    ┆ ---    ┆ ---      │\n",
              "│ str     ┆ str  ┆ str    ┆ str ┆   ┆ str  ┆ str    ┆ str    ┆ str      │\n",
              "╞═════════╪══════╪════════╪═════╪═══╪══════╪════════╪════════╪══════════╡\n",
              "│ 001     ┆ 2021 ┆ 75056  ┆ 75  ┆ … ┆ A1   ┆ A101   ┆ 00851  ┆ 1        │\n",
              "│ 001     ┆ 2021 ┆ 75056  ┆ 75  ┆ … ┆ A1   ┆ A101   ┆ 00851  ┆ 1        │\n",
              "│ 001     ┆ 2021 ┆ 75056  ┆ 75  ┆ … ┆ A1   ┆ A101   ┆ 00851  ┆ 1        │\n",
              "│ 001     ┆ 2021 ┆ 75056  ┆ 75  ┆ … ┆ A1   ┆ A105   ┆ 00851  ┆ 1        │\n",
              "│ 001     ┆ 2021 ┆ 75056  ┆ 75  ┆ … ┆ A1   ┆ A120   ┆ 00851  ┆ 1        │\n",
              "└─────────┴──────┴────────┴─────┴───┴──────┴────────┴────────┴──────────┘"
            ]
          },
          "execution_count": 17,
          "metadata": {},
          "output_type": "execute_result"
        }
      ],
      "source": [
        "# Départements 75 ou 92\n",
        "df_bpe.filter(\n",
        "    pl.col(\"DEP\").is_in([\"75\", \"92\"])\n",
        ").head(5)"
      ]
    },
    {
      "cell_type": "markdown",
      "id": "173afba0-ec8e-4136-879f-27e085ef4111",
      "metadata": {},
      "source": [
        "Pour sélectionner les observations où la variable EPCI a une valeur\n",
        "manquante:"
      ]
    },
    {
      "cell_type": "code",
      "execution_count": 18,
      "id": "8e24c831",
      "metadata": {},
      "outputs": [
        {
          "data": {
            "text/html": [
              "<div><style>\n",
              ".dataframe > thead > tr,\n",
              ".dataframe > tbody > tr {\n",
              "  text-align: right;\n",
              "  white-space: pre-wrap;\n",
              "}\n",
              "</style>\n",
              "<small>shape: (0, 13)</small><table border=\"1\" class=\"dataframe\"><thead><tr><th>AAV2020</th><th>AN</th><th>BV2012</th><th>DEP</th><th>DEPCOM</th><th>DOM</th><th>EPCI</th><th>DCIRIS</th><th>REG</th><th>SDOM</th><th>TYPEQU</th><th>UU2020</th><th>NB_EQUIP</th></tr><tr><td>str</td><td>str</td><td>str</td><td>str</td><td>str</td><td>str</td><td>str</td><td>str</td><td>str</td><td>str</td><td>str</td><td>str</td><td>str</td></tr></thead><tbody></tbody></table></div>"
            ],
            "text/plain": [
              "shape: (0, 13)\n",
              "┌─────────┬─────┬────────┬─────┬───┬──────┬────────┬────────┬──────────┐\n",
              "│ AAV2020 ┆ AN  ┆ BV2012 ┆ DEP ┆ … ┆ SDOM ┆ TYPEQU ┆ UU2020 ┆ NB_EQUIP │\n",
              "│ ---     ┆ --- ┆ ---    ┆ --- ┆   ┆ ---  ┆ ---    ┆ ---    ┆ ---      │\n",
              "│ str     ┆ str ┆ str    ┆ str ┆   ┆ str  ┆ str    ┆ str    ┆ str      │\n",
              "╞═════════╪═════╪════════╪═════╪═══╪══════╪════════╪════════╪══════════╡\n",
              "└─────────┴─────┴────────┴─────┴───┴──────┴────────┴────────┴──────────┘"
            ]
          },
          "execution_count": 18,
          "metadata": {},
          "output_type": "execute_result"
        }
      ],
      "source": [
        "# Valeurs manquantes pour la variable EPCI\n",
        "df_bpe.filter(\n",
        "    pl.col(\"EPCI\").is_null()\n",
        ")"
      ]
    },
    {
      "cell_type": "markdown",
      "id": "ba1144ff-6883-4a15-9482-d0d6eb5aa03a",
      "metadata": {},
      "source": [
        "A l’inverse, si on désire ne sélectionner que les observations où la\n",
        "colonne *“EPCI”* n’est pas manquante :"
      ]
    },
    {
      "cell_type": "code",
      "execution_count": 19,
      "id": "d9d57997",
      "metadata": {},
      "outputs": [
        {
          "data": {
            "text/html": [
              "<div><style>\n",
              ".dataframe > thead > tr,\n",
              ".dataframe > tbody > tr {\n",
              "  text-align: right;\n",
              "  white-space: pre-wrap;\n",
              "}\n",
              "</style>\n",
              "<small>shape: (1_056_914, 13)</small><table border=\"1\" class=\"dataframe\"><thead><tr><th>AAV2020</th><th>AN</th><th>BV2012</th><th>DEP</th><th>DEPCOM</th><th>DOM</th><th>EPCI</th><th>DCIRIS</th><th>REG</th><th>SDOM</th><th>TYPEQU</th><th>UU2020</th><th>NB_EQUIP</th></tr><tr><td>str</td><td>str</td><td>str</td><td>str</td><td>str</td><td>str</td><td>str</td><td>str</td><td>str</td><td>str</td><td>str</td><td>str</td><td>str</td></tr></thead><tbody><tr><td>&quot;524&quot;</td><td>&quot;2021&quot;</td><td>&quot;01093&quot;</td><td>&quot;01&quot;</td><td>&quot;01001&quot;</td><td>&quot;A&quot;</td><td>&quot;200069193&quot;</td><td>&quot;010010000&quot;</td><td>&quot;84&quot;</td><td>&quot;A1&quot;</td><td>&quot;A129&quot;</td><td>&quot;CSZ&quot;</td><td>&quot;1&quot;</td></tr><tr><td>&quot;524&quot;</td><td>&quot;2021&quot;</td><td>&quot;01093&quot;</td><td>&quot;01&quot;</td><td>&quot;01001&quot;</td><td>&quot;A&quot;</td><td>&quot;200069193&quot;</td><td>&quot;010010000&quot;</td><td>&quot;84&quot;</td><td>&quot;A4&quot;</td><td>&quot;A401&quot;</td><td>&quot;CSZ&quot;</td><td>&quot;2&quot;</td></tr><tr><td>&quot;524&quot;</td><td>&quot;2021&quot;</td><td>&quot;01093&quot;</td><td>&quot;01&quot;</td><td>&quot;01001&quot;</td><td>&quot;A&quot;</td><td>&quot;200069193&quot;</td><td>&quot;010010000&quot;</td><td>&quot;84&quot;</td><td>&quot;A4&quot;</td><td>&quot;A402&quot;</td><td>&quot;CSZ&quot;</td><td>&quot;1&quot;</td></tr><tr><td>&quot;524&quot;</td><td>&quot;2021&quot;</td><td>&quot;01093&quot;</td><td>&quot;01&quot;</td><td>&quot;01001&quot;</td><td>&quot;A&quot;</td><td>&quot;200069193&quot;</td><td>&quot;010010000&quot;</td><td>&quot;84&quot;</td><td>&quot;A4&quot;</td><td>&quot;A404&quot;</td><td>&quot;CSZ&quot;</td><td>&quot;2&quot;</td></tr><tr><td>&quot;524&quot;</td><td>&quot;2021&quot;</td><td>&quot;01093&quot;</td><td>&quot;01&quot;</td><td>&quot;01001&quot;</td><td>&quot;A&quot;</td><td>&quot;200069193&quot;</td><td>&quot;010010000&quot;</td><td>&quot;84&quot;</td><td>&quot;A4&quot;</td><td>&quot;A405&quot;</td><td>&quot;CSZ&quot;</td><td>&quot;2&quot;</td></tr><tr><td>&hellip;</td><td>&hellip;</td><td>&hellip;</td><td>&hellip;</td><td>&hellip;</td><td>&hellip;</td><td>&hellip;</td><td>&hellip;</td><td>&hellip;</td><td>&hellip;</td><td>&hellip;</td><td>&hellip;</td><td>&hellip;</td></tr><tr><td>&quot;9F1&quot;</td><td>&quot;2021&quot;</td><td>&quot;CSZ&quot;</td><td>&quot;976&quot;</td><td>&quot;97617&quot;</td><td>&quot;F&quot;</td><td>&quot;200059871&quot;</td><td>&quot;97617_IND&quot;</td><td>&quot;06&quot;</td><td>&quot;F1&quot;</td><td>&quot;F114&quot;</td><td>&quot;9F304&quot;</td><td>&quot;1&quot;</td></tr><tr><td>&quot;9F1&quot;</td><td>&quot;2021&quot;</td><td>&quot;CSZ&quot;</td><td>&quot;976&quot;</td><td>&quot;97617&quot;</td><td>&quot;F&quot;</td><td>&quot;200059871&quot;</td><td>&quot;97617_IND&quot;</td><td>&quot;06&quot;</td><td>&quot;F1&quot;</td><td>&quot;F120&quot;</td><td>&quot;9F304&quot;</td><td>&quot;1&quot;</td></tr><tr><td>&quot;9F1&quot;</td><td>&quot;2021&quot;</td><td>&quot;CSZ&quot;</td><td>&quot;976&quot;</td><td>&quot;97617&quot;</td><td>&quot;F&quot;</td><td>&quot;200059871&quot;</td><td>&quot;97617_IND&quot;</td><td>&quot;06&quot;</td><td>&quot;F1&quot;</td><td>&quot;F121&quot;</td><td>&quot;9F304&quot;</td><td>&quot;3&quot;</td></tr><tr><td>&quot;9F1&quot;</td><td>&quot;2021&quot;</td><td>&quot;CSZ&quot;</td><td>&quot;976&quot;</td><td>&quot;97617&quot;</td><td>&quot;F&quot;</td><td>&quot;200059871&quot;</td><td>&quot;97617_IND&quot;</td><td>&quot;06&quot;</td><td>&quot;F3&quot;</td><td>&quot;F307&quot;</td><td>&quot;9F304&quot;</td><td>&quot;1&quot;</td></tr><tr><td>&quot;9F1&quot;</td><td>&quot;2021&quot;</td><td>&quot;CSZ&quot;</td><td>&quot;976&quot;</td><td>&quot;97617&quot;</td><td>&quot;G&quot;</td><td>&quot;200059871&quot;</td><td>&quot;97617_IND&quot;</td><td>&quot;06&quot;</td><td>&quot;G1&quot;</td><td>&quot;G104&quot;</td><td>&quot;9F304&quot;</td><td>&quot;1&quot;</td></tr></tbody></table></div>"
            ],
            "text/plain": [
              "shape: (1_056_914, 13)\n",
              "┌─────────┬──────┬────────┬─────┬───┬──────┬────────┬────────┬──────────┐\n",
              "│ AAV2020 ┆ AN   ┆ BV2012 ┆ DEP ┆ … ┆ SDOM ┆ TYPEQU ┆ UU2020 ┆ NB_EQUIP │\n",
              "│ ---     ┆ ---  ┆ ---    ┆ --- ┆   ┆ ---  ┆ ---    ┆ ---    ┆ ---      │\n",
              "│ str     ┆ str  ┆ str    ┆ str ┆   ┆ str  ┆ str    ┆ str    ┆ str      │\n",
              "╞═════════╪══════╪════════╪═════╪═══╪══════╪════════╪════════╪══════════╡\n",
              "│ 524     ┆ 2021 ┆ 01093  ┆ 01  ┆ … ┆ A1   ┆ A129   ┆ CSZ    ┆ 1        │\n",
              "│ 524     ┆ 2021 ┆ 01093  ┆ 01  ┆ … ┆ A4   ┆ A401   ┆ CSZ    ┆ 2        │\n",
              "│ 524     ┆ 2021 ┆ 01093  ┆ 01  ┆ … ┆ A4   ┆ A402   ┆ CSZ    ┆ 1        │\n",
              "│ 524     ┆ 2021 ┆ 01093  ┆ 01  ┆ … ┆ A4   ┆ A404   ┆ CSZ    ┆ 2        │\n",
              "│ 524     ┆ 2021 ┆ 01093  ┆ 01  ┆ … ┆ A4   ┆ A405   ┆ CSZ    ┆ 2        │\n",
              "│ …       ┆ …    ┆ …      ┆ …   ┆ … ┆ …    ┆ …      ┆ …      ┆ …        │\n",
              "│ 9F1     ┆ 2021 ┆ CSZ    ┆ 976 ┆ … ┆ F1   ┆ F114   ┆ 9F304  ┆ 1        │\n",
              "│ 9F1     ┆ 2021 ┆ CSZ    ┆ 976 ┆ … ┆ F1   ┆ F120   ┆ 9F304  ┆ 1        │\n",
              "│ 9F1     ┆ 2021 ┆ CSZ    ┆ 976 ┆ … ┆ F1   ┆ F121   ┆ 9F304  ┆ 3        │\n",
              "│ 9F1     ┆ 2021 ┆ CSZ    ┆ 976 ┆ … ┆ F3   ┆ F307   ┆ 9F304  ┆ 1        │\n",
              "│ 9F1     ┆ 2021 ┆ CSZ    ┆ 976 ┆ … ┆ G1   ┆ G104   ┆ 9F304  ┆ 1        │\n",
              "└─────────┴──────┴────────┴─────┴───┴──────┴────────┴────────┴──────────┘"
            ]
          },
          "execution_count": 19,
          "metadata": {},
          "output_type": "execute_result"
        }
      ],
      "source": [
        "df_bpe.filter(\n",
        "    pl.col(\"EPCI\").is_not_null()\n",
        ")"
      ]
    },
    {
      "cell_type": "markdown",
      "id": "9436c0f7-af5e-492e-9de4-61ccce893140",
      "metadata": {},
      "source": [
        "Comme avec `Pandas`, il existe énormément de méthodes pratiques pour la\n",
        "manipulation de données\n",
        "\n",
        "## Renommage de variables\n",
        "\n",
        "La fonction `rename` permet de lister les colonnes à renommer via un\n",
        "dictionnaire Python :"
      ]
    },
    {
      "cell_type": "code",
      "execution_count": 20,
      "id": "49b40922",
      "metadata": {
        "tags": []
      },
      "outputs": [
        {
          "data": {
            "text/html": [
              "<div><style>\n",
              ".dataframe > thead > tr,\n",
              ".dataframe > tbody > tr {\n",
              "  text-align: right;\n",
              "  white-space: pre-wrap;\n",
              "}\n",
              "</style>\n",
              "<small>shape: (5, 13)</small><table border=\"1\" class=\"dataframe\"><thead><tr><th>AAV2020</th><th>AN</th><th>BV2012</th><th>DEP</th><th>code_commune</th><th>DOM</th><th>EPCI</th><th>DCIRIS</th><th>REG</th><th>SDOM</th><th>TYPEQU</th><th>UU2020</th><th>NB_EQUIP</th></tr><tr><td>str</td><td>str</td><td>str</td><td>str</td><td>str</td><td>str</td><td>str</td><td>str</td><td>str</td><td>str</td><td>str</td><td>str</td><td>str</td></tr></thead><tbody><tr><td>&quot;524&quot;</td><td>&quot;2021&quot;</td><td>&quot;01093&quot;</td><td>&quot;01&quot;</td><td>&quot;01001&quot;</td><td>&quot;A&quot;</td><td>&quot;200069193&quot;</td><td>&quot;010010000&quot;</td><td>&quot;84&quot;</td><td>&quot;A1&quot;</td><td>&quot;A129&quot;</td><td>&quot;CSZ&quot;</td><td>&quot;1&quot;</td></tr><tr><td>&quot;524&quot;</td><td>&quot;2021&quot;</td><td>&quot;01093&quot;</td><td>&quot;01&quot;</td><td>&quot;01001&quot;</td><td>&quot;A&quot;</td><td>&quot;200069193&quot;</td><td>&quot;010010000&quot;</td><td>&quot;84&quot;</td><td>&quot;A4&quot;</td><td>&quot;A401&quot;</td><td>&quot;CSZ&quot;</td><td>&quot;2&quot;</td></tr><tr><td>&quot;524&quot;</td><td>&quot;2021&quot;</td><td>&quot;01093&quot;</td><td>&quot;01&quot;</td><td>&quot;01001&quot;</td><td>&quot;A&quot;</td><td>&quot;200069193&quot;</td><td>&quot;010010000&quot;</td><td>&quot;84&quot;</td><td>&quot;A4&quot;</td><td>&quot;A402&quot;</td><td>&quot;CSZ&quot;</td><td>&quot;1&quot;</td></tr><tr><td>&quot;524&quot;</td><td>&quot;2021&quot;</td><td>&quot;01093&quot;</td><td>&quot;01&quot;</td><td>&quot;01001&quot;</td><td>&quot;A&quot;</td><td>&quot;200069193&quot;</td><td>&quot;010010000&quot;</td><td>&quot;84&quot;</td><td>&quot;A4&quot;</td><td>&quot;A404&quot;</td><td>&quot;CSZ&quot;</td><td>&quot;2&quot;</td></tr><tr><td>&quot;524&quot;</td><td>&quot;2021&quot;</td><td>&quot;01093&quot;</td><td>&quot;01&quot;</td><td>&quot;01001&quot;</td><td>&quot;A&quot;</td><td>&quot;200069193&quot;</td><td>&quot;010010000&quot;</td><td>&quot;84&quot;</td><td>&quot;A4&quot;</td><td>&quot;A405&quot;</td><td>&quot;CSZ&quot;</td><td>&quot;2&quot;</td></tr></tbody></table></div>"
            ],
            "text/plain": [
              "shape: (5, 13)\n",
              "┌─────────┬──────┬────────┬─────┬───┬──────┬────────┬────────┬──────────┐\n",
              "│ AAV2020 ┆ AN   ┆ BV2012 ┆ DEP ┆ … ┆ SDOM ┆ TYPEQU ┆ UU2020 ┆ NB_EQUIP │\n",
              "│ ---     ┆ ---  ┆ ---    ┆ --- ┆   ┆ ---  ┆ ---    ┆ ---    ┆ ---      │\n",
              "│ str     ┆ str  ┆ str    ┆ str ┆   ┆ str  ┆ str    ┆ str    ┆ str      │\n",
              "╞═════════╪══════╪════════╪═════╪═══╪══════╪════════╪════════╪══════════╡\n",
              "│ 524     ┆ 2021 ┆ 01093  ┆ 01  ┆ … ┆ A1   ┆ A129   ┆ CSZ    ┆ 1        │\n",
              "│ 524     ┆ 2021 ┆ 01093  ┆ 01  ┆ … ┆ A4   ┆ A401   ┆ CSZ    ┆ 2        │\n",
              "│ 524     ┆ 2021 ┆ 01093  ┆ 01  ┆ … ┆ A4   ┆ A402   ┆ CSZ    ┆ 1        │\n",
              "│ 524     ┆ 2021 ┆ 01093  ┆ 01  ┆ … ┆ A4   ┆ A404   ┆ CSZ    ┆ 2        │\n",
              "│ 524     ┆ 2021 ┆ 01093  ┆ 01  ┆ … ┆ A4   ┆ A405   ┆ CSZ    ┆ 2        │\n",
              "└─────────┴──────┴────────┴─────┴───┴──────┴────────┴────────┴──────────┘"
            ]
          },
          "execution_count": 20,
          "metadata": {},
          "output_type": "execute_result"
        }
      ],
      "source": [
        "df_bpe.rename({\n",
        "    \"DEPCOM\" : \"code_commune\"\n",
        "}).head(5)"
      ]
    },
    {
      "cell_type": "markdown",
      "id": "aa4c2c8c-26cf-49f2-8802-65a375839b81",
      "metadata": {},
      "source": [
        "<div class=\"alert alert-info\" role=\"alert\" style=\"color: rgba(0,0,0,.8); background-color: white; margin-top: 1em; margin-bottom: 1em; margin:1.5625emauto; padding:0 .6rem .8rem!important;overflow:hidden; page-break-inside:avoid; border-radius:.25rem; box-shadow:0 .2rem .5rem rgba(0,0,0,.05),0 0 .05rem rgba(0,0,0,.1); transition:color .25s,background-color .25s,border-color .25s ; border-right: 1px solid #dee2e6 ; border-top: 1px solid #dee2e6 ; border-bottom: 1px solid #dee2e6 ; border-left:.2rem solid #007bff80;\">\n",
        "<h3 class=\"alert-heading\"><i class=\"fa fa-comment\"></i> Note</h3>\n",
        "\n",
        "Petit piège, la logique est l’inverse de celle de `dplyr` : le\n",
        "dictionnaire est sous la forme\n",
        "`{\"ancienne_colonne\": \"nouvelle_colonne\"}`\n",
        "\n",
        "</div>"
      ]
    },
    {
      "cell_type": "markdown",
      "id": "07235d72-9294-4474-a24a-19451b3c0d6c",
      "metadata": {},
      "source": [
        "Comme vu plus haut, construire des expressions de renommage plus\n",
        "complexes pourra se faire en pur `Python` :"
      ]
    },
    {
      "cell_type": "code",
      "execution_count": 21,
      "id": "229b5e04",
      "metadata": {},
      "outputs": [
        {
          "data": {
            "text/html": [
              "<div><style>\n",
              ".dataframe > thead > tr,\n",
              ".dataframe > tbody > tr {\n",
              "  text-align: right;\n",
              "  white-space: pre-wrap;\n",
              "}\n",
              "</style>\n",
              "<small>shape: (5, 13)</small><table border=\"1\" class=\"dataframe\"><thead><tr><th>aav2020</th><th>an</th><th>bv2012</th><th>dep</th><th>depcom</th><th>dom</th><th>epci</th><th>dciris</th><th>reg</th><th>sdom</th><th>typequ</th><th>uu2020</th><th>nb_equip</th></tr><tr><td>str</td><td>str</td><td>str</td><td>str</td><td>str</td><td>str</td><td>str</td><td>str</td><td>str</td><td>str</td><td>str</td><td>str</td><td>str</td></tr></thead><tbody><tr><td>&quot;524&quot;</td><td>&quot;2021&quot;</td><td>&quot;01093&quot;</td><td>&quot;01&quot;</td><td>&quot;01001&quot;</td><td>&quot;A&quot;</td><td>&quot;200069193&quot;</td><td>&quot;010010000&quot;</td><td>&quot;84&quot;</td><td>&quot;A1&quot;</td><td>&quot;A129&quot;</td><td>&quot;CSZ&quot;</td><td>&quot;1&quot;</td></tr><tr><td>&quot;524&quot;</td><td>&quot;2021&quot;</td><td>&quot;01093&quot;</td><td>&quot;01&quot;</td><td>&quot;01001&quot;</td><td>&quot;A&quot;</td><td>&quot;200069193&quot;</td><td>&quot;010010000&quot;</td><td>&quot;84&quot;</td><td>&quot;A4&quot;</td><td>&quot;A401&quot;</td><td>&quot;CSZ&quot;</td><td>&quot;2&quot;</td></tr><tr><td>&quot;524&quot;</td><td>&quot;2021&quot;</td><td>&quot;01093&quot;</td><td>&quot;01&quot;</td><td>&quot;01001&quot;</td><td>&quot;A&quot;</td><td>&quot;200069193&quot;</td><td>&quot;010010000&quot;</td><td>&quot;84&quot;</td><td>&quot;A4&quot;</td><td>&quot;A402&quot;</td><td>&quot;CSZ&quot;</td><td>&quot;1&quot;</td></tr><tr><td>&quot;524&quot;</td><td>&quot;2021&quot;</td><td>&quot;01093&quot;</td><td>&quot;01&quot;</td><td>&quot;01001&quot;</td><td>&quot;A&quot;</td><td>&quot;200069193&quot;</td><td>&quot;010010000&quot;</td><td>&quot;84&quot;</td><td>&quot;A4&quot;</td><td>&quot;A404&quot;</td><td>&quot;CSZ&quot;</td><td>&quot;2&quot;</td></tr><tr><td>&quot;524&quot;</td><td>&quot;2021&quot;</td><td>&quot;01093&quot;</td><td>&quot;01&quot;</td><td>&quot;01001&quot;</td><td>&quot;A&quot;</td><td>&quot;200069193&quot;</td><td>&quot;010010000&quot;</td><td>&quot;84&quot;</td><td>&quot;A4&quot;</td><td>&quot;A405&quot;</td><td>&quot;CSZ&quot;</td><td>&quot;2&quot;</td></tr></tbody></table></div>"
            ],
            "text/plain": [
              "shape: (5, 13)\n",
              "┌─────────┬──────┬────────┬─────┬───┬──────┬────────┬────────┬──────────┐\n",
              "│ aav2020 ┆ an   ┆ bv2012 ┆ dep ┆ … ┆ sdom ┆ typequ ┆ uu2020 ┆ nb_equip │\n",
              "│ ---     ┆ ---  ┆ ---    ┆ --- ┆   ┆ ---  ┆ ---    ┆ ---    ┆ ---      │\n",
              "│ str     ┆ str  ┆ str    ┆ str ┆   ┆ str  ┆ str    ┆ str    ┆ str      │\n",
              "╞═════════╪══════╪════════╪═════╪═══╪══════╪════════╪════════╪══════════╡\n",
              "│ 524     ┆ 2021 ┆ 01093  ┆ 01  ┆ … ┆ A1   ┆ A129   ┆ CSZ    ┆ 1        │\n",
              "│ 524     ┆ 2021 ┆ 01093  ┆ 01  ┆ … ┆ A4   ┆ A401   ┆ CSZ    ┆ 2        │\n",
              "│ 524     ┆ 2021 ┆ 01093  ┆ 01  ┆ … ┆ A4   ┆ A402   ┆ CSZ    ┆ 1        │\n",
              "│ 524     ┆ 2021 ┆ 01093  ┆ 01  ┆ … ┆ A4   ┆ A404   ┆ CSZ    ┆ 2        │\n",
              "│ 524     ┆ 2021 ┆ 01093  ┆ 01  ┆ … ┆ A4   ┆ A405   ┆ CSZ    ┆ 2        │\n",
              "└─────────┴──────┴────────┴─────┴───┴──────┴────────┴────────┴──────────┘"
            ]
          },
          "execution_count": 21,
          "metadata": {},
          "output_type": "execute_result"
        }
      ],
      "source": [
        "cols_minuscules = {cols: cols.lower() for cols in df_bpe.columns}\n",
        "\n",
        "df_bpe.rename(cols_minuscules).head(5)"
      ]
    },
    {
      "cell_type": "markdown",
      "id": "c9636adb-e40f-43ea-9ccc-93cbdf632e85",
      "metadata": {},
      "source": [
        "## Trier une table\n",
        "\n",
        "La fonction `sort` permet de trier la table sur une ou plusieurs\n",
        "variables."
      ]
    },
    {
      "cell_type": "code",
      "execution_count": 22,
      "id": "eb7dbe75",
      "metadata": {},
      "outputs": [
        {
          "data": {
            "text/html": [
              "<div><style>\n",
              ".dataframe > thead > tr,\n",
              ".dataframe > tbody > tr {\n",
              "  text-align: right;\n",
              "  white-space: pre-wrap;\n",
              "}\n",
              "</style>\n",
              "<small>shape: (5, 13)</small><table border=\"1\" class=\"dataframe\"><thead><tr><th>AAV2020</th><th>AN</th><th>BV2012</th><th>DEP</th><th>DEPCOM</th><th>DOM</th><th>EPCI</th><th>DCIRIS</th><th>REG</th><th>SDOM</th><th>TYPEQU</th><th>UU2020</th><th>NB_EQUIP</th></tr><tr><td>str</td><td>str</td><td>str</td><td>str</td><td>str</td><td>str</td><td>str</td><td>str</td><td>str</td><td>str</td><td>str</td><td>str</td><td>str</td></tr></thead><tbody><tr><td>&quot;524&quot;</td><td>&quot;2021&quot;</td><td>&quot;01093&quot;</td><td>&quot;01&quot;</td><td>&quot;01001&quot;</td><td>&quot;A&quot;</td><td>&quot;200069193&quot;</td><td>&quot;010010000&quot;</td><td>&quot;84&quot;</td><td>&quot;A1&quot;</td><td>&quot;A129&quot;</td><td>&quot;CSZ&quot;</td><td>&quot;1&quot;</td></tr><tr><td>&quot;524&quot;</td><td>&quot;2021&quot;</td><td>&quot;01093&quot;</td><td>&quot;01&quot;</td><td>&quot;01001&quot;</td><td>&quot;A&quot;</td><td>&quot;200069193&quot;</td><td>&quot;010010000&quot;</td><td>&quot;84&quot;</td><td>&quot;A4&quot;</td><td>&quot;A401&quot;</td><td>&quot;CSZ&quot;</td><td>&quot;2&quot;</td></tr><tr><td>&quot;524&quot;</td><td>&quot;2021&quot;</td><td>&quot;01093&quot;</td><td>&quot;01&quot;</td><td>&quot;01001&quot;</td><td>&quot;A&quot;</td><td>&quot;200069193&quot;</td><td>&quot;010010000&quot;</td><td>&quot;84&quot;</td><td>&quot;A4&quot;</td><td>&quot;A402&quot;</td><td>&quot;CSZ&quot;</td><td>&quot;1&quot;</td></tr><tr><td>&quot;524&quot;</td><td>&quot;2021&quot;</td><td>&quot;01093&quot;</td><td>&quot;01&quot;</td><td>&quot;01001&quot;</td><td>&quot;A&quot;</td><td>&quot;200069193&quot;</td><td>&quot;010010000&quot;</td><td>&quot;84&quot;</td><td>&quot;A4&quot;</td><td>&quot;A404&quot;</td><td>&quot;CSZ&quot;</td><td>&quot;2&quot;</td></tr><tr><td>&quot;524&quot;</td><td>&quot;2021&quot;</td><td>&quot;01093&quot;</td><td>&quot;01&quot;</td><td>&quot;01001&quot;</td><td>&quot;A&quot;</td><td>&quot;200069193&quot;</td><td>&quot;010010000&quot;</td><td>&quot;84&quot;</td><td>&quot;A4&quot;</td><td>&quot;A405&quot;</td><td>&quot;CSZ&quot;</td><td>&quot;2&quot;</td></tr></tbody></table></div>"
            ],
            "text/plain": [
              "shape: (5, 13)\n",
              "┌─────────┬──────┬────────┬─────┬───┬──────┬────────┬────────┬──────────┐\n",
              "│ AAV2020 ┆ AN   ┆ BV2012 ┆ DEP ┆ … ┆ SDOM ┆ TYPEQU ┆ UU2020 ┆ NB_EQUIP │\n",
              "│ ---     ┆ ---  ┆ ---    ┆ --- ┆   ┆ ---  ┆ ---    ┆ ---    ┆ ---      │\n",
              "│ str     ┆ str  ┆ str    ┆ str ┆   ┆ str  ┆ str    ┆ str    ┆ str      │\n",
              "╞═════════╪══════╪════════╪═════╪═══╪══════╪════════╪════════╪══════════╡\n",
              "│ 524     ┆ 2021 ┆ 01093  ┆ 01  ┆ … ┆ A1   ┆ A129   ┆ CSZ    ┆ 1        │\n",
              "│ 524     ┆ 2021 ┆ 01093  ┆ 01  ┆ … ┆ A4   ┆ A401   ┆ CSZ    ┆ 2        │\n",
              "│ 524     ┆ 2021 ┆ 01093  ┆ 01  ┆ … ┆ A4   ┆ A402   ┆ CSZ    ┆ 1        │\n",
              "│ 524     ┆ 2021 ┆ 01093  ┆ 01  ┆ … ┆ A4   ┆ A404   ┆ CSZ    ┆ 2        │\n",
              "│ 524     ┆ 2021 ┆ 01093  ┆ 01  ┆ … ┆ A4   ┆ A405   ┆ CSZ    ┆ 2        │\n",
              "└─────────┴──────┴────────┴─────┴───┴──────┴────────┴────────┴──────────┘"
            ]
          },
          "execution_count": 22,
          "metadata": {},
          "output_type": "execute_result"
        }
      ],
      "source": [
        "df_bpe.lazy()\\\n",
        "    .sort(\"DEPCOM\", \"TYPEQU\")\\\n",
        "    .head(5).collect()"
      ]
    },
    {
      "cell_type": "markdown",
      "id": "9c652242-954c-42d3-8960-50e504b16ab4",
      "metadata": {},
      "source": [
        "L’ordre de tri - croissant par défaut - peut-être précisé pour chaque\n",
        "variable."
      ]
    },
    {
      "cell_type": "code",
      "execution_count": 23,
      "id": "8ea06506",
      "metadata": {},
      "outputs": [
        {
          "data": {
            "text/html": [
              "<div><style>\n",
              ".dataframe > thead > tr,\n",
              ".dataframe > tbody > tr {\n",
              "  text-align: right;\n",
              "  white-space: pre-wrap;\n",
              "}\n",
              "</style>\n",
              "<small>shape: (5, 13)</small><table border=\"1\" class=\"dataframe\"><thead><tr><th>AAV2020</th><th>AN</th><th>BV2012</th><th>DEP</th><th>DEPCOM</th><th>DOM</th><th>EPCI</th><th>DCIRIS</th><th>REG</th><th>SDOM</th><th>TYPEQU</th><th>UU2020</th><th>NB_EQUIP</th></tr><tr><td>str</td><td>str</td><td>str</td><td>str</td><td>str</td><td>str</td><td>str</td><td>str</td><td>str</td><td>str</td><td>str</td><td>str</td><td>str</td></tr></thead><tbody><tr><td>&quot;9F1&quot;</td><td>&quot;2021&quot;</td><td>&quot;CSZ&quot;</td><td>&quot;976&quot;</td><td>&quot;97617&quot;</td><td>&quot;A&quot;</td><td>&quot;200059871&quot;</td><td>&quot;97617_IND&quot;</td><td>&quot;06&quot;</td><td>&quot;A1&quot;</td><td>&quot;A128&quot;</td><td>&quot;9F304&quot;</td><td>&quot;1&quot;</td></tr><tr><td>&quot;9F1&quot;</td><td>&quot;2021&quot;</td><td>&quot;CSZ&quot;</td><td>&quot;976&quot;</td><td>&quot;97617&quot;</td><td>&quot;A&quot;</td><td>&quot;200059871&quot;</td><td>&quot;97617_IND&quot;</td><td>&quot;06&quot;</td><td>&quot;A1&quot;</td><td>&quot;A129&quot;</td><td>&quot;9F304&quot;</td><td>&quot;1&quot;</td></tr><tr><td>&quot;9F1&quot;</td><td>&quot;2021&quot;</td><td>&quot;CSZ&quot;</td><td>&quot;976&quot;</td><td>&quot;97617&quot;</td><td>&quot;A&quot;</td><td>&quot;200059871&quot;</td><td>&quot;97617_IND&quot;</td><td>&quot;06&quot;</td><td>&quot;A2&quot;</td><td>&quot;A203&quot;</td><td>&quot;9F304&quot;</td><td>&quot;1&quot;</td></tr><tr><td>&quot;9F1&quot;</td><td>&quot;2021&quot;</td><td>&quot;CSZ&quot;</td><td>&quot;976&quot;</td><td>&quot;97617&quot;</td><td>&quot;A&quot;</td><td>&quot;200059871&quot;</td><td>&quot;97617_IND&quot;</td><td>&quot;06&quot;</td><td>&quot;A2&quot;</td><td>&quot;A205&quot;</td><td>&quot;9F304&quot;</td><td>&quot;1&quot;</td></tr><tr><td>&quot;9F1&quot;</td><td>&quot;2021&quot;</td><td>&quot;CSZ&quot;</td><td>&quot;976&quot;</td><td>&quot;97617&quot;</td><td>&quot;A&quot;</td><td>&quot;200059871&quot;</td><td>&quot;97617_IND&quot;</td><td>&quot;06&quot;</td><td>&quot;A2&quot;</td><td>&quot;A206&quot;</td><td>&quot;9F304&quot;</td><td>&quot;1&quot;</td></tr></tbody></table></div>"
            ],
            "text/plain": [
              "shape: (5, 13)\n",
              "┌─────────┬──────┬────────┬─────┬───┬──────┬────────┬────────┬──────────┐\n",
              "│ AAV2020 ┆ AN   ┆ BV2012 ┆ DEP ┆ … ┆ SDOM ┆ TYPEQU ┆ UU2020 ┆ NB_EQUIP │\n",
              "│ ---     ┆ ---  ┆ ---    ┆ --- ┆   ┆ ---  ┆ ---    ┆ ---    ┆ ---      │\n",
              "│ str     ┆ str  ┆ str    ┆ str ┆   ┆ str  ┆ str    ┆ str    ┆ str      │\n",
              "╞═════════╪══════╪════════╪═════╪═══╪══════╪════════╪════════╪══════════╡\n",
              "│ 9F1     ┆ 2021 ┆ CSZ    ┆ 976 ┆ … ┆ A1   ┆ A128   ┆ 9F304  ┆ 1        │\n",
              "│ 9F1     ┆ 2021 ┆ CSZ    ┆ 976 ┆ … ┆ A1   ┆ A129   ┆ 9F304  ┆ 1        │\n",
              "│ 9F1     ┆ 2021 ┆ CSZ    ┆ 976 ┆ … ┆ A2   ┆ A203   ┆ 9F304  ┆ 1        │\n",
              "│ 9F1     ┆ 2021 ┆ CSZ    ┆ 976 ┆ … ┆ A2   ┆ A205   ┆ 9F304  ┆ 1        │\n",
              "│ 9F1     ┆ 2021 ┆ CSZ    ┆ 976 ┆ … ┆ A2   ┆ A206   ┆ 9F304  ┆ 1        │\n",
              "└─────────┴──────┴────────┴─────┴───┴──────┴────────┴────────┴──────────┘"
            ]
          },
          "execution_count": 23,
          "metadata": {},
          "output_type": "execute_result"
        }
      ],
      "source": [
        "df_bpe.lazy()\\\n",
        "    .sort(\"DEPCOM\", \"TYPEQU\", descending=[True, False])\\\n",
        "    .head(5).collect()"
      ]
    },
    {
      "cell_type": "markdown",
      "id": "c701cdfd-21aa-4912-b449-e409e3776087",
      "metadata": {},
      "source": [
        "## Création de nouvelles variables\n",
        "\n",
        "La création de nouvelles variables se fera via `with_columns`. Dans\n",
        "l’exemple qui suit :\n",
        "\n",
        "-   on convertit en entier numérique la variable `NB_EQUIP`\n",
        "-   on calcule la somme cumulée (avec `cumsum`)\n",
        "-   on nomme la nouvelle colonne `NB_EQUIP_SUM`"
      ]
    },
    {
      "cell_type": "code",
      "execution_count": 24,
      "id": "48205193",
      "metadata": {},
      "outputs": [
        {
          "name": "stderr",
          "output_type": "stream",
          "text": [
            "/tmp/ipykernel_83272/2362134496.py:4: DeprecationWarning: `cumsum` is deprecated. It has been renamed to `cum_sum`.\n",
            "  pl.col(\"NB_EQUIP\").cumsum().alias(\"NB_EQUIP_SUM\"),\n"
          ]
        },
        {
          "data": {
            "text/html": [
              "<div><style>\n",
              ".dataframe > thead > tr,\n",
              ".dataframe > tbody > tr {\n",
              "  text-align: right;\n",
              "  white-space: pre-wrap;\n",
              "}\n",
              "</style>\n",
              "<small>shape: (5, 15)</small><table border=\"1\" class=\"dataframe\"><thead><tr><th>AAV2020</th><th>AN</th><th>BV2012</th><th>DEP</th><th>DEPCOM</th><th>DOM</th><th>EPCI</th><th>DCIRIS</th><th>REG</th><th>SDOM</th><th>TYPEQU</th><th>UU2020</th><th>NB_EQUIP</th><th>NB_EQUIP_SUM</th><th>NB_EQUIP_3PLUS</th></tr><tr><td>str</td><td>str</td><td>str</td><td>str</td><td>str</td><td>str</td><td>str</td><td>str</td><td>str</td><td>str</td><td>str</td><td>str</td><td>i64</td><td>i64</td><td>bool</td></tr></thead><tbody><tr><td>&quot;524&quot;</td><td>&quot;2021&quot;</td><td>&quot;01093&quot;</td><td>&quot;01&quot;</td><td>&quot;01001&quot;</td><td>&quot;A&quot;</td><td>&quot;200069193&quot;</td><td>&quot;010010000&quot;</td><td>&quot;84&quot;</td><td>&quot;A1&quot;</td><td>&quot;A129&quot;</td><td>&quot;CSZ&quot;</td><td>1</td><td>1</td><td>false</td></tr><tr><td>&quot;524&quot;</td><td>&quot;2021&quot;</td><td>&quot;01093&quot;</td><td>&quot;01&quot;</td><td>&quot;01001&quot;</td><td>&quot;A&quot;</td><td>&quot;200069193&quot;</td><td>&quot;010010000&quot;</td><td>&quot;84&quot;</td><td>&quot;A4&quot;</td><td>&quot;A401&quot;</td><td>&quot;CSZ&quot;</td><td>2</td><td>3</td><td>false</td></tr><tr><td>&quot;524&quot;</td><td>&quot;2021&quot;</td><td>&quot;01093&quot;</td><td>&quot;01&quot;</td><td>&quot;01001&quot;</td><td>&quot;A&quot;</td><td>&quot;200069193&quot;</td><td>&quot;010010000&quot;</td><td>&quot;84&quot;</td><td>&quot;A4&quot;</td><td>&quot;A402&quot;</td><td>&quot;CSZ&quot;</td><td>1</td><td>4</td><td>false</td></tr><tr><td>&quot;524&quot;</td><td>&quot;2021&quot;</td><td>&quot;01093&quot;</td><td>&quot;01&quot;</td><td>&quot;01001&quot;</td><td>&quot;A&quot;</td><td>&quot;200069193&quot;</td><td>&quot;010010000&quot;</td><td>&quot;84&quot;</td><td>&quot;A4&quot;</td><td>&quot;A404&quot;</td><td>&quot;CSZ&quot;</td><td>2</td><td>6</td><td>false</td></tr><tr><td>&quot;524&quot;</td><td>&quot;2021&quot;</td><td>&quot;01093&quot;</td><td>&quot;01&quot;</td><td>&quot;01001&quot;</td><td>&quot;A&quot;</td><td>&quot;200069193&quot;</td><td>&quot;010010000&quot;</td><td>&quot;84&quot;</td><td>&quot;A4&quot;</td><td>&quot;A405&quot;</td><td>&quot;CSZ&quot;</td><td>2</td><td>8</td><td>false</td></tr></tbody></table></div>"
            ],
            "text/plain": [
              "shape: (5, 15)\n",
              "┌─────────┬──────┬────────┬─────┬───┬────────┬──────────┬──────────────┬────────────────┐\n",
              "│ AAV2020 ┆ AN   ┆ BV2012 ┆ DEP ┆ … ┆ UU2020 ┆ NB_EQUIP ┆ NB_EQUIP_SUM ┆ NB_EQUIP_3PLUS │\n",
              "│ ---     ┆ ---  ┆ ---    ┆ --- ┆   ┆ ---    ┆ ---      ┆ ---          ┆ ---            │\n",
              "│ str     ┆ str  ┆ str    ┆ str ┆   ┆ str    ┆ i64      ┆ i64          ┆ bool           │\n",
              "╞═════════╪══════╪════════╪═════╪═══╪════════╪══════════╪══════════════╪════════════════╡\n",
              "│ 524     ┆ 2021 ┆ 01093  ┆ 01  ┆ … ┆ CSZ    ┆ 1        ┆ 1            ┆ false          │\n",
              "│ 524     ┆ 2021 ┆ 01093  ┆ 01  ┆ … ┆ CSZ    ┆ 2        ┆ 3            ┆ false          │\n",
              "│ 524     ┆ 2021 ┆ 01093  ┆ 01  ┆ … ┆ CSZ    ┆ 1        ┆ 4            ┆ false          │\n",
              "│ 524     ┆ 2021 ┆ 01093  ┆ 01  ┆ … ┆ CSZ    ┆ 2        ┆ 6            ┆ false          │\n",
              "│ 524     ┆ 2021 ┆ 01093  ┆ 01  ┆ … ┆ CSZ    ┆ 2        ┆ 8            ┆ false          │\n",
              "└─────────┴──────┴────────┴─────┴───┴────────┴──────────┴──────────────┴────────────────┘"
            ]
          },
          "execution_count": 24,
          "metadata": {},
          "output_type": "execute_result"
        }
      ],
      "source": [
        "df_bpe.lazy()\\\n",
        "    .with_columns(pl.col('NB_EQUIP').cast(pl.Int64, strict=False))\\\n",
        "    .with_columns(\n",
        "        pl.col(\"NB_EQUIP\").cumsum().alias(\"NB_EQUIP_SUM\"),\n",
        "        pl.when(pl.col(\"NB_EQUIP\") > 3).then(True).otherwise(False).alias(\"NB_EQUIP_3PLUS\")\n",
        "    ).head(5).collect()"
      ]
    },
    {
      "cell_type": "markdown",
      "id": "221cce93-b340-47c8-8e6a-519c9325cbeb",
      "metadata": {},
      "source": [
        "## Production de synthèses et d’agrégats\n",
        "\n",
        "On peut produire des statistiques synthétiques sur notre jeu de données\n",
        "avec la fonction `select`."
      ]
    },
    {
      "cell_type": "code",
      "execution_count": 25,
      "id": "ed75badb",
      "metadata": {},
      "outputs": [
        {
          "data": {
            "text/html": [
              "<div><style>\n",
              ".dataframe > thead > tr,\n",
              ".dataframe > tbody > tr {\n",
              "  text-align: right;\n",
              "  white-space: pre-wrap;\n",
              "}\n",
              "</style>\n",
              "<small>shape: (1, 1)</small><table border=\"1\" class=\"dataframe\"><thead><tr><th>NB_EQUIP_TOT</th></tr><tr><td>i64</td></tr></thead><tbody><tr><td>2399536</td></tr></tbody></table></div>"
            ],
            "text/plain": [
              "shape: (1, 1)\n",
              "┌──────────────┐\n",
              "│ NB_EQUIP_TOT │\n",
              "│ ---          │\n",
              "│ i64          │\n",
              "╞══════════════╡\n",
              "│ 2399536      │\n",
              "└──────────────┘"
            ]
          },
          "execution_count": 25,
          "metadata": {},
          "output_type": "execute_result"
        }
      ],
      "source": [
        "df_bpe.lazy()\\\n",
        "    .with_columns(pl.col('NB_EQUIP').cast(pl.Int64, strict=False))\\\n",
        "    .select(\n",
        "        pl.col(\"NB_EQUIP\").sum().alias(\"NB_EQUIP_TOT\")\n",
        "    ).head(5).collect()"
      ]
    },
    {
      "cell_type": "markdown",
      "id": "8c6876b1-1b5e-44a8-b514-dd33b27c47f7",
      "metadata": {},
      "source": [
        "Les fonctions `describe` et `glimpse` proposent un aperçu synthétique de\n",
        "la table:"
      ]
    },
    {
      "cell_type": "code",
      "execution_count": 26,
      "id": "bcfc0578",
      "metadata": {},
      "outputs": [
        {
          "data": {
            "text/html": [
              "<div><style>\n",
              ".dataframe > thead > tr,\n",
              ".dataframe > tbody > tr {\n",
              "  text-align: right;\n",
              "  white-space: pre-wrap;\n",
              "}\n",
              "</style>\n",
              "<small>shape: (9, 14)</small><table border=\"1\" class=\"dataframe\"><thead><tr><th>statistic</th><th>AAV2020</th><th>AN</th><th>BV2012</th><th>DEP</th><th>DEPCOM</th><th>DOM</th><th>EPCI</th><th>DCIRIS</th><th>REG</th><th>SDOM</th><th>TYPEQU</th><th>UU2020</th><th>NB_EQUIP</th></tr><tr><td>str</td><td>str</td><td>str</td><td>str</td><td>str</td><td>str</td><td>str</td><td>str</td><td>str</td><td>str</td><td>str</td><td>str</td><td>str</td><td>str</td></tr></thead><tbody><tr><td>&quot;count&quot;</td><td>&quot;1056914&quot;</td><td>&quot;1056914&quot;</td><td>&quot;1056914&quot;</td><td>&quot;1056914&quot;</td><td>&quot;1056914&quot;</td><td>&quot;1056914&quot;</td><td>&quot;1056914&quot;</td><td>&quot;1056914&quot;</td><td>&quot;1056914&quot;</td><td>&quot;1056914&quot;</td><td>&quot;1056914&quot;</td><td>&quot;1056914&quot;</td><td>&quot;1056914&quot;</td></tr><tr><td>&quot;null_count&quot;</td><td>&quot;0&quot;</td><td>&quot;0&quot;</td><td>&quot;0&quot;</td><td>&quot;0&quot;</td><td>&quot;0&quot;</td><td>&quot;0&quot;</td><td>&quot;0&quot;</td><td>&quot;0&quot;</td><td>&quot;0&quot;</td><td>&quot;0&quot;</td><td>&quot;0&quot;</td><td>&quot;0&quot;</td><td>&quot;0&quot;</td></tr><tr><td>&quot;mean&quot;</td><td>null</td><td>null</td><td>null</td><td>null</td><td>null</td><td>null</td><td>null</td><td>null</td><td>null</td><td>null</td><td>null</td><td>null</td><td>null</td></tr><tr><td>&quot;std&quot;</td><td>null</td><td>null</td><td>null</td><td>null</td><td>null</td><td>null</td><td>null</td><td>null</td><td>null</td><td>null</td><td>null</td><td>null</td><td>null</td></tr><tr><td>&quot;min&quot;</td><td>&quot;001&quot;</td><td>&quot;2021&quot;</td><td>&quot;01004&quot;</td><td>&quot;01&quot;</td><td>&quot;01001&quot;</td><td>&quot;A&quot;</td><td>&quot;200000172&quot;</td><td>&quot;010010000&quot;</td><td>&quot;01&quot;</td><td>&quot;A1&quot;</td><td>&quot;A101&quot;</td><td>&quot;00151&quot;</td><td>&quot;1&quot;</td></tr><tr><td>&quot;25%&quot;</td><td>null</td><td>null</td><td>null</td><td>null</td><td>null</td><td>null</td><td>null</td><td>null</td><td>null</td><td>null</td><td>null</td><td>null</td><td>null</td></tr><tr><td>&quot;50%&quot;</td><td>null</td><td>null</td><td>null</td><td>null</td><td>null</td><td>null</td><td>null</td><td>null</td><td>null</td><td>null</td><td>null</td><td>null</td><td>null</td></tr><tr><td>&quot;75%&quot;</td><td>null</td><td>null</td><td>null</td><td>null</td><td>null</td><td>null</td><td>null</td><td>null</td><td>null</td><td>null</td><td>null</td><td>null</td><td>null</td></tr><tr><td>&quot;max&quot;</td><td>&quot;SAR&quot;</td><td>&quot;2021&quot;</td><td>&quot;CSZ&quot;</td><td>&quot;976&quot;</td><td>&quot;97617&quot;</td><td>&quot;G&quot;</td><td>&quot;CSZ&quot;</td><td>&quot;97617_IND&quot;</td><td>&quot;94&quot;</td><td>&quot;G1&quot;</td><td>&quot;G104&quot;</td><td>&quot;CSZ&quot;</td><td>&quot;99&quot;</td></tr></tbody></table></div>"
            ],
            "text/plain": [
              "shape: (9, 14)\n",
              "┌────────────┬─────────┬─────────┬─────────┬───┬─────────┬─────────┬─────────┬──────────┐\n",
              "│ statistic  ┆ AAV2020 ┆ AN      ┆ BV2012  ┆ … ┆ SDOM    ┆ TYPEQU  ┆ UU2020  ┆ NB_EQUIP │\n",
              "│ ---        ┆ ---     ┆ ---     ┆ ---     ┆   ┆ ---     ┆ ---     ┆ ---     ┆ ---      │\n",
              "│ str        ┆ str     ┆ str     ┆ str     ┆   ┆ str     ┆ str     ┆ str     ┆ str      │\n",
              "╞════════════╪═════════╪═════════╪═════════╪═══╪═════════╪═════════╪═════════╪══════════╡\n",
              "│ count      ┆ 1056914 ┆ 1056914 ┆ 1056914 ┆ … ┆ 1056914 ┆ 1056914 ┆ 1056914 ┆ 1056914  │\n",
              "│ null_count ┆ 0       ┆ 0       ┆ 0       ┆ … ┆ 0       ┆ 0       ┆ 0       ┆ 0        │\n",
              "│ mean       ┆ null    ┆ null    ┆ null    ┆ … ┆ null    ┆ null    ┆ null    ┆ null     │\n",
              "│ std        ┆ null    ┆ null    ┆ null    ┆ … ┆ null    ┆ null    ┆ null    ┆ null     │\n",
              "│ min        ┆ 001     ┆ 2021    ┆ 01004   ┆ … ┆ A1      ┆ A101    ┆ 00151   ┆ 1        │\n",
              "│ 25%        ┆ null    ┆ null    ┆ null    ┆ … ┆ null    ┆ null    ┆ null    ┆ null     │\n",
              "│ 50%        ┆ null    ┆ null    ┆ null    ┆ … ┆ null    ┆ null    ┆ null    ┆ null     │\n",
              "│ 75%        ┆ null    ┆ null    ┆ null    ┆ … ┆ null    ┆ null    ┆ null    ┆ null     │\n",
              "│ max        ┆ SAR     ┆ 2021    ┆ CSZ     ┆ … ┆ G1      ┆ G104    ┆ CSZ     ┆ 99       │\n",
              "└────────────┴─────────┴─────────┴─────────┴───┴─────────┴─────────┴─────────┴──────────┘"
            ]
          },
          "execution_count": 26,
          "metadata": {},
          "output_type": "execute_result"
        }
      ],
      "source": [
        "df_bpe.describe()"
      ]
    },
    {
      "cell_type": "code",
      "execution_count": 27,
      "id": "5fd98198",
      "metadata": {},
      "outputs": [
        {
          "name": "stdout",
          "output_type": "stream",
          "text": [
            "Rows: 1056914\n",
            "Columns: 13\n",
            "$ AAV2020  <str> '524', '524', '524', '524', '524', '524', '524', '524', '524', '524'\n",
            "$ AN       <str> '2021', '2021', '2021', '2021', '2021', '2021', '2021', '2021', '2021', '2021'\n",
            "$ BV2012   <str> '01093', '01093', '01093', '01093', '01093', '01093', '01093', '01093', '01093', '01093'\n",
            "$ DEP      <str> '01', '01', '01', '01', '01', '01', '01', '01', '01', '01'\n",
            "$ DEPCOM   <str> '01001', '01001', '01001', '01001', '01001', '01001', '01001', '01001', '01001', '01001'\n",
            "$ DOM      <str> 'A', 'A', 'A', 'A', 'A', 'A', 'A', 'A', 'B', 'C'\n",
            "$ EPCI     <str> '200069193', '200069193', '200069193', '200069193', '200069193', '200069193', '200069193', '200069193', '200069193', '200069193'\n",
            "$ DCIRIS   <str> '010010000', '010010000', '010010000', '010010000', '010010000', '010010000', '010010000', '010010000', '010010000', '010010000'\n",
            "$ REG      <str> '84', '84', '84', '84', '84', '84', '84', '84', '84', '84'\n",
            "$ SDOM     <str> 'A1', 'A4', 'A4', 'A4', 'A4', 'A5', 'A5', 'A5', 'B2', 'C1'\n",
            "$ TYPEQU   <str> 'A129', 'A401', 'A402', 'A404', 'A405', 'A504', 'A505', 'A507', 'B203', 'C104'\n",
            "$ UU2020   <str> 'CSZ', 'CSZ', 'CSZ', 'CSZ', 'CSZ', 'CSZ', 'CSZ', 'CSZ', 'CSZ', 'CSZ'\n",
            "$ NB_EQUIP <str> '1', '2', '1', '2', '2', '1', '1', '2', '1', '1'\n",
            "\n"
          ]
        }
      ],
      "source": [
        "df_bpe.glimpse()"
      ]
    },
    {
      "cell_type": "markdown",
      "id": "8e958bfc-d4c3-439f-be4f-b96cbfef18f6",
      "metadata": {},
      "source": [
        "Les fonctions `groupby` et `agg` sont mobilisées pour créer des\n",
        "aggrégats. Dans l’exemple ci-dessous :\n",
        "\n",
        "1.  On précise que l’on veut grouper au niveau départemental\n",
        "    (`groupby(\"DEP\")`) ;\n",
        "2.  On somme les occurences d’équipement de type boulangerie\n",
        "    (`pl.col(\"TYPEQU\") == \"B203\").sum()`) ;\n",
        "3.  On donne un nom à la colonne portant la somme\n",
        "    (`alias(\"NB_BOULANGERIES_TOT\")`)"
      ]
    },
    {
      "cell_type": "code",
      "execution_count": 28,
      "id": "4f4345b5",
      "metadata": {},
      "outputs": [
        {
          "name": "stderr",
          "output_type": "stream",
          "text": [
            "/tmp/ipykernel_83272/2211860743.py:1: DeprecationWarning: `groupby` is deprecated. It has been renamed to `group_by`.\n",
            "  df_bpe.lazy().groupby(\"DEP\").agg(\n"
          ]
        },
        {
          "data": {
            "text/html": [
              "<div><style>\n",
              ".dataframe > thead > tr,\n",
              ".dataframe > tbody > tr {\n",
              "  text-align: right;\n",
              "  white-space: pre-wrap;\n",
              "}\n",
              "</style>\n",
              "<small>shape: (5, 2)</small><table border=\"1\" class=\"dataframe\"><thead><tr><th>DEP</th><th>NB_BOULANGERIES_TOT</th></tr><tr><td>str</td><td>u32</td></tr></thead><tbody><tr><td>&quot;75&quot;</td><td>731</td></tr><tr><td>&quot;59&quot;</td><td>731</td></tr><tr><td>&quot;13&quot;</td><td>576</td></tr><tr><td>&quot;69&quot;</td><td>507</td></tr><tr><td>&quot;62&quot;</td><td>440</td></tr></tbody></table></div>"
            ],
            "text/plain": [
              "shape: (5, 2)\n",
              "┌─────┬─────────────────────┐\n",
              "│ DEP ┆ NB_BOULANGERIES_TOT │\n",
              "│ --- ┆ ---                 │\n",
              "│ str ┆ u32                 │\n",
              "╞═════╪═════════════════════╡\n",
              "│ 75  ┆ 731                 │\n",
              "│ 59  ┆ 731                 │\n",
              "│ 13  ┆ 576                 │\n",
              "│ 69  ┆ 507                 │\n",
              "│ 62  ┆ 440                 │\n",
              "└─────┴─────────────────────┘"
            ]
          },
          "execution_count": 28,
          "metadata": {},
          "output_type": "execute_result"
        }
      ],
      "source": [
        "df_bpe.lazy().groupby(\"DEP\").agg(\n",
        "    (pl.col(\"TYPEQU\") == \"B203\").sum().alias(\"NB_BOULANGERIES_TOT\")\n",
        ").sort(\"NB_BOULANGERIES_TOT\", descending=True).head(5).collect()"
      ]
    },
    {
      "cell_type": "markdown",
      "id": "71eb02f4-c2e9-4372-af2e-cfc2b604958a",
      "metadata": {},
      "source": [
        "# Explorer le plan d’exécution\n",
        "\n",
        "Il peut être utile pour comprendre les opérations effectuées par\n",
        "`Polars` de jeter un oeil au plan d’exécution.\n",
        "\n",
        "Pour cela, il suffit pour cela de ne pas effectuer d’action comme\n",
        "`collect` ou `head`."
      ]
    },
    {
      "cell_type": "code",
      "execution_count": 29,
      "id": "7188e5d3",
      "metadata": {},
      "outputs": [
        {
          "data": {
            "text/html": [
              "<i>naive plan: (run <b>LazyFrame.explain(optimized=True)</b> to see the optimized plan)</i>\n",
              "    <p></p>\n",
              "    <div> SELECT [col(\"NB_EQUIP\").sum().alias(\"NB_EQUIP_TOT\")] FROM<p></p>   WITH_COLUMNS:<p></p>   [col(\"NB_EQUIP\").cast(Int64)]<p></p>    DF [\"AAV2020\", \"AN\", \"BV2012\", \"DEP\"]; PROJECT */13 COLUMNS; SELECTION: \"None\"</div>"
            ],
            "text/plain": [
              "<LazyFrame [1 col, {\"NB_EQUIP_TOT\": Int64}] at 0x7FD2F7FFCA50>"
            ]
          },
          "execution_count": 29,
          "metadata": {},
          "output_type": "execute_result"
        }
      ],
      "source": [
        "df_bpe.lazy()\\\n",
        "    .with_columns(pl.col('NB_EQUIP').cast(pl.Int64, strict=False))\\\n",
        "    .select(\n",
        "        pl.col(\"NB_EQUIP\").sum().alias(\"NB_EQUIP_TOT\")\n",
        "    )"
      ]
    },
    {
      "cell_type": "markdown",
      "id": "5b76073f-1050-4f87-b5d3-1fbb2dfaefc3",
      "metadata": {},
      "source": [
        "<div class=\"alert alert-info\" role=\"alert\" style=\"color: rgba(0,0,0,.8); background-color: white; margin-top: 1em; margin-bottom: 1em; margin:1.5625emauto; padding:0 .6rem .8rem!important;overflow:hidden; page-break-inside:avoid; border-radius:.25rem; box-shadow:0 .2rem .5rem rgba(0,0,0,.05),0 0 .05rem rgba(0,0,0,.1); transition:color .25s,background-color .25s,border-color .25s ; border-right: 1px solid #dee2e6 ; border-top: 1px solid #dee2e6 ; border-bottom: 1px solid #dee2e6 ; border-left:.2rem solid #007bff80;\">\n",
        "<h3 class=\"alert-heading\"><i class=\"fa fa-comment\"></i> Note</h3>\n",
        "\n",
        "L’opération d’affichage du plan est ici instantanée puisqu’aucune action\n",
        "n’a été effectuée, seulement des transformations dont l’activation est\n",
        "retardée en attente d’une action n’ayant pas lieu.\n",
        "\n",
        "</div>"
      ]
    },
    {
      "cell_type": "markdown",
      "id": "da3ececc-c4e6-4461-967d-95574b43261e",
      "metadata": {},
      "source": [
        "# Une interconnexion avec `DuckDB` pour faire des requêtes SQL\n",
        "\n",
        "`Polars` s’appuie sur [`Apache Arrow`](https://arrow.apache.org/), un\n",
        "écosystème pour lire des données (CSV ou Parquet) de manière très\n",
        "efficace et les stocker dans des objets peu volumineux pour gagner en\n",
        "performance. C’est également le cas d’une autre librairie intéressante\n",
        "pour le traitement de données: [`DuckDB`](https://duckdb.org/).\n",
        "\n",
        "Plutôt que concurrentes, ces deux librairies sont très complémentaires.\n",
        "Il est possible d’effectuer des requêtes SQL depuis un `DataFrame`\n",
        "`Polars` via `DuckDB` ou d’utiliser `DuckDB` pour lire les données et\n",
        "convertir celles-ci en `DataFrame Polars` à l’issue des requêtes. Ces\n",
        "deux approches sont intéressantes pour les personnes familières avec le\n",
        "langage SQL.\n",
        "\n",
        "Pour illustrer le premier cas, reprenons un exemple précédent qui\n",
        "illustrait la sélection d’observations en se restreignant au choix de\n",
        "deux départements:"
      ]
    },
    {
      "cell_type": "code",
      "execution_count": 30,
      "id": "80d68416",
      "metadata": {},
      "outputs": [
        {
          "data": {
            "text/html": [
              "<div><style>\n",
              ".dataframe > thead > tr,\n",
              ".dataframe > tbody > tr {\n",
              "  text-align: right;\n",
              "  white-space: pre-wrap;\n",
              "}\n",
              "</style>\n",
              "<small>shape: (5, 13)</small><table border=\"1\" class=\"dataframe\"><thead><tr><th>AAV2020</th><th>AN</th><th>BV2012</th><th>DEP</th><th>DEPCOM</th><th>DOM</th><th>EPCI</th><th>DCIRIS</th><th>REG</th><th>SDOM</th><th>TYPEQU</th><th>UU2020</th><th>NB_EQUIP</th></tr><tr><td>str</td><td>str</td><td>str</td><td>str</td><td>str</td><td>str</td><td>str</td><td>str</td><td>str</td><td>str</td><td>str</td><td>str</td><td>str</td></tr></thead><tbody><tr><td>&quot;001&quot;</td><td>&quot;2021&quot;</td><td>&quot;75056&quot;</td><td>&quot;75&quot;</td><td>&quot;75101&quot;</td><td>&quot;A&quot;</td><td>&quot;200054781&quot;</td><td>&quot;751010201&quot;</td><td>&quot;11&quot;</td><td>&quot;A1&quot;</td><td>&quot;A101&quot;</td><td>&quot;00851&quot;</td><td>&quot;1&quot;</td></tr><tr><td>&quot;001&quot;</td><td>&quot;2021&quot;</td><td>&quot;75056&quot;</td><td>&quot;75&quot;</td><td>&quot;75101&quot;</td><td>&quot;A&quot;</td><td>&quot;200054781&quot;</td><td>&quot;751010301&quot;</td><td>&quot;11&quot;</td><td>&quot;A1&quot;</td><td>&quot;A101&quot;</td><td>&quot;00851&quot;</td><td>&quot;1&quot;</td></tr><tr><td>&quot;001&quot;</td><td>&quot;2021&quot;</td><td>&quot;75056&quot;</td><td>&quot;75&quot;</td><td>&quot;75101&quot;</td><td>&quot;A&quot;</td><td>&quot;200054781&quot;</td><td>&quot;751010402&quot;</td><td>&quot;11&quot;</td><td>&quot;A1&quot;</td><td>&quot;A101&quot;</td><td>&quot;00851&quot;</td><td>&quot;1&quot;</td></tr><tr><td>&quot;001&quot;</td><td>&quot;2021&quot;</td><td>&quot;75056&quot;</td><td>&quot;75&quot;</td><td>&quot;75101&quot;</td><td>&quot;A&quot;</td><td>&quot;200054781&quot;</td><td>&quot;751010102&quot;</td><td>&quot;11&quot;</td><td>&quot;A1&quot;</td><td>&quot;A105&quot;</td><td>&quot;00851&quot;</td><td>&quot;1&quot;</td></tr><tr><td>&quot;001&quot;</td><td>&quot;2021&quot;</td><td>&quot;75056&quot;</td><td>&quot;75&quot;</td><td>&quot;75101&quot;</td><td>&quot;A&quot;</td><td>&quot;200054781&quot;</td><td>&quot;751010402&quot;</td><td>&quot;11&quot;</td><td>&quot;A1&quot;</td><td>&quot;A120&quot;</td><td>&quot;00851&quot;</td><td>&quot;1&quot;</td></tr></tbody></table></div>"
            ],
            "text/plain": [
              "shape: (5, 13)\n",
              "┌─────────┬──────┬────────┬─────┬───┬──────┬────────┬────────┬──────────┐\n",
              "│ AAV2020 ┆ AN   ┆ BV2012 ┆ DEP ┆ … ┆ SDOM ┆ TYPEQU ┆ UU2020 ┆ NB_EQUIP │\n",
              "│ ---     ┆ ---  ┆ ---    ┆ --- ┆   ┆ ---  ┆ ---    ┆ ---    ┆ ---      │\n",
              "│ str     ┆ str  ┆ str    ┆ str ┆   ┆ str  ┆ str    ┆ str    ┆ str      │\n",
              "╞═════════╪══════╪════════╪═════╪═══╪══════╪════════╪════════╪══════════╡\n",
              "│ 001     ┆ 2021 ┆ 75056  ┆ 75  ┆ … ┆ A1   ┆ A101   ┆ 00851  ┆ 1        │\n",
              "│ 001     ┆ 2021 ┆ 75056  ┆ 75  ┆ … ┆ A1   ┆ A101   ┆ 00851  ┆ 1        │\n",
              "│ 001     ┆ 2021 ┆ 75056  ┆ 75  ┆ … ┆ A1   ┆ A101   ┆ 00851  ┆ 1        │\n",
              "│ 001     ┆ 2021 ┆ 75056  ┆ 75  ┆ … ┆ A1   ┆ A105   ┆ 00851  ┆ 1        │\n",
              "│ 001     ┆ 2021 ┆ 75056  ┆ 75  ┆ … ┆ A1   ┆ A120   ┆ 00851  ┆ 1        │\n",
              "└─────────┴──────┴────────┴─────┴───┴──────┴────────┴────────┴──────────┘"
            ]
          },
          "execution_count": 30,
          "metadata": {},
          "output_type": "execute_result"
        }
      ],
      "source": [
        "df_bpe.filter(\n",
        "    pl.col(\"DEP\").is_in([\"75\", \"92\"])\n",
        ").head(5)"
      ]
    },
    {
      "cell_type": "markdown",
      "id": "e8b88f2b-ae33-4be7-b67e-1f946662cab0",
      "metadata": {},
      "source": [
        "Avec `DuckDB`, pour effectuer la même opération, nommée *filtre* en SQL,\n",
        "une requête SQL s’écrira de la manière suivante:"
      ]
    },
    {
      "cell_type": "code",
      "execution_count": 31,
      "id": "5a216651",
      "metadata": {},
      "outputs": [
        {
          "data": {
            "text/plain": [
              "┌─────────┬─────────┬─────────┬─────────┬─────────┬───┬───────────┬─────────┬─────────┬─────────┬─────────┬──────────┐\n",
              "│ AAV2020 │   AN    │ BV2012  │   DEP   │ DEPCOM  │ … │  DCIRIS   │   REG   │  SDOM   │ TYPEQU  │ UU2020  │ NB_EQUIP │\n",
              "│ varchar │ varchar │ varchar │ varchar │ varchar │   │  varchar  │ varchar │ varchar │ varchar │ varchar │ varchar  │\n",
              "├─────────┼─────────┼─────────┼─────────┼─────────┼───┼───────────┼─────────┼─────────┼─────────┼─────────┼──────────┤\n",
              "│ 001     │ 2021    │ 75056   │ 75      │ 75101   │ … │ 751010201 │ 11      │ A1      │ A101    │ 00851   │ 1        │\n",
              "│ 001     │ 2021    │ 75056   │ 75      │ 75101   │ … │ 751010301 │ 11      │ A1      │ A101    │ 00851   │ 1        │\n",
              "│ 001     │ 2021    │ 75056   │ 75      │ 75101   │ … │ 751010402 │ 11      │ A1      │ A101    │ 00851   │ 1        │\n",
              "│ 001     │ 2021    │ 75056   │ 75      │ 75101   │ … │ 751010102 │ 11      │ A1      │ A105    │ 00851   │ 1        │\n",
              "│ 001     │ 2021    │ 75056   │ 75      │ 75101   │ … │ 751010402 │ 11      │ A1      │ A120    │ 00851   │ 1        │\n",
              "│ 001     │ 2021    │ 75056   │ 75      │ 75101   │ … │ 751010101 │ 11      │ A2      │ A203    │ 00851   │ 1        │\n",
              "│ 001     │ 2021    │ 75056   │ 75      │ 75101   │ … │ 751010102 │ 11      │ A2      │ A203    │ 00851   │ 1        │\n",
              "│ 001     │ 2021    │ 75056   │ 75      │ 75101   │ … │ 751010201 │ 11      │ A2      │ A203    │ 00851   │ 3        │\n",
              "│ 001     │ 2021    │ 75056   │ 75      │ 75101   │ … │ 751010202 │ 11      │ A2      │ A203    │ 00851   │ 3        │\n",
              "│ 001     │ 2021    │ 75056   │ 75      │ 75101   │ … │ 751010203 │ 11      │ A2      │ A203    │ 00851   │ 3        │\n",
              "│  ·      │  ·      │   ·     │ ·       │   ·     │ · │     ·     │ ·       │ ·       │  ·      │   ·     │ ·        │\n",
              "│  ·      │  ·      │   ·     │ ·       │   ·     │ · │     ·     │ ·       │ ·       │  ·      │   ·     │ ·        │\n",
              "│  ·      │  ·      │   ·     │ ·       │   ·     │ · │     ·     │ ·       │ ·       │  ·      │   ·     │ ·        │\n",
              "│ 001     │ 2021    │ 75056   │ 75      │ 75111   │ … │ 751114101 │ 11      │ A5      │ A501    │ 00851   │ 4        │\n",
              "│ 001     │ 2021    │ 75056   │ 75      │ 75111   │ … │ 751114102 │ 11      │ A5      │ A501    │ 00851   │ 2        │\n",
              "│ 001     │ 2021    │ 75056   │ 75      │ 75111   │ … │ 751114103 │ 11      │ A5      │ A501    │ 00851   │ 4        │\n",
              "│ 001     │ 2021    │ 75056   │ 75      │ 75111   │ … │ 751114104 │ 11      │ A5      │ A501    │ 00851   │ 2        │\n",
              "│ 001     │ 2021    │ 75056   │ 75      │ 75111   │ … │ 751114105 │ 11      │ A5      │ A501    │ 00851   │ 7        │\n",
              "│ 001     │ 2021    │ 75056   │ 75      │ 75111   │ … │ 751114106 │ 11      │ A5      │ A501    │ 00851   │ 9        │\n",
              "│ 001     │ 2021    │ 75056   │ 75      │ 75111   │ … │ 751114107 │ 11      │ A5      │ A501    │ 00851   │ 5        │\n",
              "│ 001     │ 2021    │ 75056   │ 75      │ 75111   │ … │ 751114108 │ 11      │ A5      │ A501    │ 00851   │ 1        │\n",
              "│ 001     │ 2021    │ 75056   │ 75      │ 75111   │ … │ 751114109 │ 11      │ A5      │ A501    │ 00851   │ 6        │\n",
              "│ 001     │ 2021    │ 75056   │ 75      │ 75111   │ … │ 751114110 │ 11      │ A5      │ A501    │ 00851   │ 2        │\n",
              "├─────────┴─────────┴─────────┴─────────┴─────────┴───┴───────────┴─────────┴─────────┴─────────┴─────────┴──────────┤\n",
              "│ ? rows (>9999 rows, 20 shown)                                                                13 columns (11 shown) │\n",
              "└────────────────────────────────────────────────────────────────────────────────────────────────────────────────────┘"
            ]
          },
          "execution_count": 31,
          "metadata": {},
          "output_type": "execute_result"
        }
      ],
      "source": [
        "import duckdb \n",
        "\n",
        "df_duckdb = duckdb.sql(\"SELECT * FROM df_bpe WHERE CAST(DEP AS VARCHAR) in ('75', '92')\")\n",
        "df_duckdb"
      ]
    },
    {
      "cell_type": "markdown",
      "id": "0f90a456-2659-40d9-ae97-f8251cac83f7",
      "metadata": {},
      "source": [
        "<div class=\"alert alert-info\" role=\"alert\" style=\"color: rgba(0,0,0,.8); background-color: white; margin-top: 1em; margin-bottom: 1em; margin:1.5625emauto; padding:0 .6rem .8rem!important;overflow:hidden; page-break-inside:avoid; border-radius:.25rem; box-shadow:0 .2rem .5rem rgba(0,0,0,.05),0 0 .05rem rgba(0,0,0,.1); transition:color .25s,background-color .25s,border-color .25s ; border-right: 1px solid #dee2e6 ; border-top: 1px solid #dee2e6 ; border-bottom: 1px solid #dee2e6 ; border-left:.2rem solid #007bff80;\">\n",
        "<h3 class=\"alert-heading\"><i class=\"fa fa-comment\"></i> Note</h3>\n",
        "\n",
        "`df_duckdb` n’est plus un objet `Polars`. Si vous désirez obtenir à\n",
        "nouveau un objet `Polars`, il faudra utiliser la méthode `pl`, comme\n",
        "montré dans le prochain exemple\n",
        "\n",
        "</div>"
      ]
    },
    {
      "cell_type": "markdown",
      "id": "311942c1-b34a-4eee-8980-5b1becec2e2a",
      "metadata": {},
      "source": [
        "La seconde approche implique quant à elle d’utiliser `DuckDB` pour lire\n",
        "et traiter les données avant de transformer cela en objet `Polars` pour\n",
        "éventuellement des manipulations de données ultérieures. Cette approche\n",
        "fonctionne en deux temps:\n",
        "\n",
        "-   `DuckDB` sert à lire les données (ici au format `parquet`) et\n",
        "    effectuer le filtre\n",
        "-   Le résultat de cette requête est transformé en `DataFrame` `Polars`\n",
        "    avec la méthode `pl`:"
      ]
    },
    {
      "cell_type": "code",
      "execution_count": 32,
      "id": "83f7910f",
      "metadata": {},
      "outputs": [
        {
          "data": {
            "text/html": [
              "<div><style>\n",
              ".dataframe > thead > tr,\n",
              ".dataframe > tbody > tr {\n",
              "  text-align: right;\n",
              "  white-space: pre-wrap;\n",
              "}\n",
              "</style>\n",
              "<small>shape: (53_280, 13)</small><table border=\"1\" class=\"dataframe\"><thead><tr><th>AAV2020</th><th>AN</th><th>BV2012</th><th>DEP</th><th>DEPCOM</th><th>DOM</th><th>EPCI</th><th>DCIRIS</th><th>REG</th><th>SDOM</th><th>TYPEQU</th><th>UU2020</th><th>NB_EQUIP</th></tr><tr><td>str</td><td>str</td><td>str</td><td>str</td><td>str</td><td>str</td><td>str</td><td>str</td><td>str</td><td>str</td><td>str</td><td>str</td><td>str</td></tr></thead><tbody><tr><td>&quot;001&quot;</td><td>&quot;2021&quot;</td><td>&quot;75056&quot;</td><td>&quot;75&quot;</td><td>&quot;75101&quot;</td><td>&quot;A&quot;</td><td>&quot;200054781&quot;</td><td>&quot;751010201&quot;</td><td>&quot;11&quot;</td><td>&quot;A1&quot;</td><td>&quot;A101&quot;</td><td>&quot;00851&quot;</td><td>&quot;1&quot;</td></tr><tr><td>&quot;001&quot;</td><td>&quot;2021&quot;</td><td>&quot;75056&quot;</td><td>&quot;75&quot;</td><td>&quot;75101&quot;</td><td>&quot;A&quot;</td><td>&quot;200054781&quot;</td><td>&quot;751010301&quot;</td><td>&quot;11&quot;</td><td>&quot;A1&quot;</td><td>&quot;A101&quot;</td><td>&quot;00851&quot;</td><td>&quot;1&quot;</td></tr><tr><td>&quot;001&quot;</td><td>&quot;2021&quot;</td><td>&quot;75056&quot;</td><td>&quot;75&quot;</td><td>&quot;75101&quot;</td><td>&quot;A&quot;</td><td>&quot;200054781&quot;</td><td>&quot;751010402&quot;</td><td>&quot;11&quot;</td><td>&quot;A1&quot;</td><td>&quot;A101&quot;</td><td>&quot;00851&quot;</td><td>&quot;1&quot;</td></tr><tr><td>&quot;001&quot;</td><td>&quot;2021&quot;</td><td>&quot;75056&quot;</td><td>&quot;75&quot;</td><td>&quot;75101&quot;</td><td>&quot;A&quot;</td><td>&quot;200054781&quot;</td><td>&quot;751010102&quot;</td><td>&quot;11&quot;</td><td>&quot;A1&quot;</td><td>&quot;A105&quot;</td><td>&quot;00851&quot;</td><td>&quot;1&quot;</td></tr><tr><td>&quot;001&quot;</td><td>&quot;2021&quot;</td><td>&quot;75056&quot;</td><td>&quot;75&quot;</td><td>&quot;75101&quot;</td><td>&quot;A&quot;</td><td>&quot;200054781&quot;</td><td>&quot;751010402&quot;</td><td>&quot;11&quot;</td><td>&quot;A1&quot;</td><td>&quot;A120&quot;</td><td>&quot;00851&quot;</td><td>&quot;1&quot;</td></tr><tr><td>&hellip;</td><td>&hellip;</td><td>&hellip;</td><td>&hellip;</td><td>&hellip;</td><td>&hellip;</td><td>&hellip;</td><td>&hellip;</td><td>&hellip;</td><td>&hellip;</td><td>&hellip;</td><td>&hellip;</td><td>&hellip;</td></tr><tr><td>&quot;001&quot;</td><td>&quot;2021&quot;</td><td>&quot;75056&quot;</td><td>&quot;92&quot;</td><td>&quot;92078&quot;</td><td>&quot;F&quot;</td><td>&quot;200054781&quot;</td><td>&quot;920780109&quot;</td><td>&quot;11&quot;</td><td>&quot;F3&quot;</td><td>&quot;F314&quot;</td><td>&quot;00851&quot;</td><td>&quot;1&quot;</td></tr><tr><td>&quot;001&quot;</td><td>&quot;2021&quot;</td><td>&quot;75056&quot;</td><td>&quot;92&quot;</td><td>&quot;92078&quot;</td><td>&quot;G&quot;</td><td>&quot;200054781&quot;</td><td>&quot;920780107&quot;</td><td>&quot;11&quot;</td><td>&quot;G1&quot;</td><td>&quot;G101&quot;</td><td>&quot;00851&quot;</td><td>&quot;2&quot;</td></tr><tr><td>&quot;001&quot;</td><td>&quot;2021&quot;</td><td>&quot;75056&quot;</td><td>&quot;92&quot;</td><td>&quot;92078&quot;</td><td>&quot;G&quot;</td><td>&quot;200054781&quot;</td><td>&quot;920780103&quot;</td><td>&quot;11&quot;</td><td>&quot;G1&quot;</td><td>&quot;G102&quot;</td><td>&quot;00851&quot;</td><td>&quot;1&quot;</td></tr><tr><td>&quot;001&quot;</td><td>&quot;2021&quot;</td><td>&quot;75056&quot;</td><td>&quot;92&quot;</td><td>&quot;92078&quot;</td><td>&quot;G&quot;</td><td>&quot;200054781&quot;</td><td>&quot;920780102&quot;</td><td>&quot;11&quot;</td><td>&quot;G1&quot;</td><td>&quot;G104&quot;</td><td>&quot;00851&quot;</td><td>&quot;1&quot;</td></tr><tr><td>&quot;001&quot;</td><td>&quot;2021&quot;</td><td>&quot;75056&quot;</td><td>&quot;75&quot;</td><td>&quot;93045&quot;</td><td>&quot;A&quot;</td><td>&quot;200054781&quot;</td><td>&quot;930450108&quot;</td><td>&quot;11&quot;</td><td>&quot;A3&quot;</td><td>&quot;A303&quot;</td><td>&quot;00851&quot;</td><td>&quot;1&quot;</td></tr></tbody></table></div>"
            ],
            "text/plain": [
              "shape: (53_280, 13)\n",
              "┌─────────┬──────┬────────┬─────┬───┬──────┬────────┬────────┬──────────┐\n",
              "│ AAV2020 ┆ AN   ┆ BV2012 ┆ DEP ┆ … ┆ SDOM ┆ TYPEQU ┆ UU2020 ┆ NB_EQUIP │\n",
              "│ ---     ┆ ---  ┆ ---    ┆ --- ┆   ┆ ---  ┆ ---    ┆ ---    ┆ ---      │\n",
              "│ str     ┆ str  ┆ str    ┆ str ┆   ┆ str  ┆ str    ┆ str    ┆ str      │\n",
              "╞═════════╪══════╪════════╪═════╪═══╪══════╪════════╪════════╪══════════╡\n",
              "│ 001     ┆ 2021 ┆ 75056  ┆ 75  ┆ … ┆ A1   ┆ A101   ┆ 00851  ┆ 1        │\n",
              "│ 001     ┆ 2021 ┆ 75056  ┆ 75  ┆ … ┆ A1   ┆ A101   ┆ 00851  ┆ 1        │\n",
              "│ 001     ┆ 2021 ┆ 75056  ┆ 75  ┆ … ┆ A1   ┆ A101   ┆ 00851  ┆ 1        │\n",
              "│ 001     ┆ 2021 ┆ 75056  ┆ 75  ┆ … ┆ A1   ┆ A105   ┆ 00851  ┆ 1        │\n",
              "│ 001     ┆ 2021 ┆ 75056  ┆ 75  ┆ … ┆ A1   ┆ A120   ┆ 00851  ┆ 1        │\n",
              "│ …       ┆ …    ┆ …      ┆ …   ┆ … ┆ …    ┆ …      ┆ …      ┆ …        │\n",
              "│ 001     ┆ 2021 ┆ 75056  ┆ 92  ┆ … ┆ F3   ┆ F314   ┆ 00851  ┆ 1        │\n",
              "│ 001     ┆ 2021 ┆ 75056  ┆ 92  ┆ … ┆ G1   ┆ G101   ┆ 00851  ┆ 2        │\n",
              "│ 001     ┆ 2021 ┆ 75056  ┆ 92  ┆ … ┆ G1   ┆ G102   ┆ 00851  ┆ 1        │\n",
              "│ 001     ┆ 2021 ┆ 75056  ┆ 92  ┆ … ┆ G1   ┆ G104   ┆ 00851  ┆ 1        │\n",
              "│ 001     ┆ 2021 ┆ 75056  ┆ 75  ┆ … ┆ A3   ┆ A303   ┆ 00851  ┆ 1        │\n",
              "└─────────┴──────┴────────┴─────┴───┴──────┴────────┴────────┴──────────┘"
            ]
          },
          "execution_count": 32,
          "metadata": {},
          "output_type": "execute_result"
        }
      ],
      "source": [
        "duckdb.sql(\"SELECT * FROM read_parquet(\\\"bpe.parquet\\\") WHERE CAST(DEP AS VARCHAR) in ('75', '92')\").pl()"
      ]
    },
    {
      "cell_type": "markdown",
      "id": "d137416a-5ecf-4a50-b2bf-0a44048fcae0",
      "metadata": {},
      "source": [
        "Cette approche est intéressante pour effectuer les opérations de\n",
        "sélection d’observations ou de variables le plus tôt possible afin de ne\n",
        "pas avoir en mémoire des données inutilisées."
      ]
    }
  ],
  "metadata": {
    "kernelspec": {
      "display_name": "Python 3 (ipykernel)",
      "language": "python",
      "name": "python3"
    },
    "language_info": {
      "codemirror_mode": {
        "name": "ipython",
        "version": 3
      },
      "file_extension": ".py",
      "mimetype": "text/x-python",
      "name": "python",
      "nbconvert_exporter": "python",
      "pygments_lexer": "ipython3",
      "version": "3.11.6"
    }
  },
  "nbformat": 4,
  "nbformat_minor": 5
}
