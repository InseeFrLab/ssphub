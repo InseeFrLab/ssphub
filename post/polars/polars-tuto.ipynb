{
  "cells": [
    {
      "cell_type": "raw",
      "metadata": {},
      "source": [
        "---\n",
        "title: Prise en main de Polars\n",
        "---"
      ],
      "id": "8c874734"
    },
    {
      "cell_type": "markdown",
      "metadata": {},
      "source": [
        "`Polars` est un package `Python` permettant de manipuler les données tabulaires à partir de différents types de fichiers (CSV, Parquet, etc.). Il est une alternative directe et moderne à `Pandas`, pensée pour être très performante tout en offrant une syntaxe compréhensible à pour des _data scientists_ habitués à d'autres _frameworks_ de manipulation de données comme `dplyr`. \n",
        "\n",
        "Ce notebook offre un complément à l'[article](https://ssphub.netlify.app/post/polars/) publié sur le blog du réseau des data scientists de la statistique publique. Les exemples sont reproductibles dans de nombreux environnements, à condition d'installer les packages comme indiqué ci-dessous. Les utilisateurs du SSP Cloud ou de Colab pourront directement ouvrir ce notebook en utilisant les boutons suivants: \n",
        "\n",
        "<a href=\"https://datalab.sspcloud.fr/launcher/ide/jupyter-python?autoLaunch=false&init.personalInit=%C2%ABhttps%3A%2F%2Fraw.githubusercontent.com%2Fromaintailhurat%2Fssphub%2Fblog%2Fpolars%2Fcontent%2Fnotebooks%2Finit.sh%C2%BB&init.personalInitArgs=%C2%ABpolars-tuto%C2%BB&onyxia.friendlyName=%C2%ABTutoriel%20Polars%C2%BB\" target=\"_blank\" rel=\"noopener\"><img src=\"https://img.shields.io/badge/SSPcloud-Tester%20notebook%20sur%20SSP--cloud-informational&amp;color=yellow?logo=Python\" alt=\"Onyxia\"></a>\n",
        "<a href=\"http://colab.research.google.com/github/inseefrlab/ssphub/blob/main/content/notebooks/polars-tuto.ipynb\" target=\"_blank\" rel=\"noopener\"><img src=\"https://colab.research.google.com/assets/colab-badge.svg\" alt=\"Open In Colab\"></a>\n",
        "\n",
        "Pour faire le parallèle avec les\n",
        "exemples pour [découvrir le `tidyverse` dans `utilitr`](https://www.book.utilitr.org/03_fiches_thematiques/fiche_tidyverse)),\n",
        "ce _notebook_ exploite la [Base Permanente des Equipements (BPE)](https://www.insee.fr/fr/metadonnees/source/serie/s1161).\n",
        "\n",
        "\n",
        "::: {.cell .markdown}\n",
        "\n",
        "\n",
        "```{=html}\n",
        "<div class=\"alert alert-danger\" role=\"alert\" style=\"color: rgba(0,0,0,.8); background-color: white; margin-top: 1em; margin-bottom: 1em; margin:1.5625emauto; padding:0 .6rem .8rem!important;overflow:hidden; page-break-inside:avoid; border-radius:.25rem; box-shadow:0 .2rem .5rem rgba(0,0,0,.05),0 0 .05rem rgba(0,0,0,.1); transition:color .25s,background-color .25s,border-color .25s ; border-right: 1px solid #dee2e6 ; border-top: 1px solid #dee2e6 ; border-bottom: 1px solid #dee2e6 ; border-left: .2rem solid #ff0039;\">\n",
        "<h3 class=\"alert-heading\"><i class=\"fa fa-exclamation-triangle\"></i> Warning</h3>\n",
        "```\n",
        "\n",
        "\n",
        "\n",
        "Outre `Polars`, ce notebook propose des compléments qui utilisent\n",
        "les packages [`s3fs`](https://s3fs.readthedocs.io/en/latest/)\n",
        "et [`Pynsee`](https://github.com/InseeFrLab/pynsee) pour,\n",
        "respectivement, interagir avec un espace de stockage distant de type `S3`\n",
        "et récupérer les données d'illustration\n",
        "sur le site [insee.fr](https://www.insee.fr/fr/accueil).\n",
        "`Pynsee` est nécessaire en début de _notebook_ pour faciliter la récupération\n",
        "de la source de données utilisée. `s3fs` n'est nécessaire\n",
        "que pour faire tourner les exemples\n",
        "présents dans les encadrés proposant des détails supplémentaires ou \n",
        "alternatifs. La dernière partie\n",
        "utilise également le package [`DuckDB`](https://duckdb.org/docs/api/python/overview.html)\n",
        "pour illustrer la complémentarité avec une approche utilisant des requêtes SQL\n",
        "pour la manipulation de données. \n",
        "\n",
        "\n",
        "\n",
        "```{=html}\n",
        "</div>\n",
        "```\n",
        "\n",
        "\n",
        ":::\n",
        "\n",
        "Pour pouvoir installer les packages utilisés par ce tutoriel, \n",
        "il est nécessaire d'exécuter la cellule suivante:\n"
      ],
      "id": "a76ca628"
    },
    {
      "cell_type": "code",
      "metadata": {},
      "source": [
        "#| eval: false\n",
        "#| output: false\n",
        "!pip install polars pynsee[full] s3fs duckdb"
      ],
      "id": "aea6b216",
      "execution_count": null,
      "outputs": []
    },
    {
      "cell_type": "markdown",
      "metadata": {},
      "source": [
        "Nous aurons besoin d'importer les packages suivants dans ce _notebook_:\n"
      ],
      "id": "a901eb19"
    },
    {
      "cell_type": "code",
      "metadata": {},
      "source": [
        "import os\n",
        "import polars as pl\n",
        "import s3fs\n",
        "from pynsee.download import download_file"
      ],
      "id": "c4589f59",
      "execution_count": null,
      "outputs": []
    },
    {
      "cell_type": "markdown",
      "metadata": {},
      "source": [
        "# Lecture de données\n",
        "\n",
        "\n",
        "A partir d'un csv, il est possible de créer un `DataFrame` `Polars` de plusieurs manières :\n",
        "\n",
        "1. Charger les données via `Pandas` puis les transformer en objet `Polars`\n",
        "2. Charger les données directement avec `Polars` via une fonction `read_csv` qui fonctionne, en apparence,\n",
        "de la même manière que celle de `Pandas`\n",
        "\n",
        "Ces deux approches sont présentées dans les prochaines parties. \n",
        "\n",
        "## A partir d'un objet `Pandas`\n",
        "\n",
        "Le _package_ `Pynsee` fonctionne en deux temps pour créer un `DataFrame` `Pandas` à partir\n",
        "des données disponibles sur le site [insee.fr](https://www.insee.fr/fr/accueil) :\n",
        "\n",
        "1. Récupération des données depuis le site [insee.fr](https://www.insee.fr/fr/accueil) à partir\n",
        "des paramètres de la fonction `download_file` (source, année...)\n",
        "2. Import sous forme de `DataFrame` `Pandas` avec un typage pré-défini dans le _package_, adapté\n",
        "à la source\n",
        "\n",
        "Pour récupérer des données via `Pynsee`, la fonction de référence est `download_file`:\n"
      ],
      "id": "6443f627"
    },
    {
      "cell_type": "code",
      "metadata": {},
      "source": [
        "#| output: false\n",
        "pandas_df_bpe = download_file(\"BPE_ENS\", update = True)"
      ],
      "id": "3072305e",
      "execution_count": null,
      "outputs": []
    },
    {
      "cell_type": "markdown",
      "metadata": {},
      "source": [
        "`Pynsee` renvoie un `DataFrame` `Pandas` correspondant à la source désiré :\n"
      ],
      "id": "2d0b134a"
    },
    {
      "cell_type": "code",
      "metadata": {},
      "source": [
        "pandas_df_bpe.__class__"
      ],
      "id": "d8cf8d30",
      "execution_count": null,
      "outputs": []
    },
    {
      "cell_type": "markdown",
      "metadata": {},
      "source": [
        "::: {.cell .markdown}\n",
        "\n",
        "\n",
        "```{=html}\n",
        "<div class=\"alert alert-danger\" role=\"alert\" style=\"color: rgba(0,0,0,.8); background-color: white; margin-top: 1em; margin-bottom: 1em; margin:1.5625emauto; padding:0 .6rem .8rem!important;overflow:hidden; page-break-inside:avoid; border-radius:.25rem; box-shadow:0 .2rem .5rem rgba(0,0,0,.05),0 0 .05rem rgba(0,0,0,.1); transition:color .25s,background-color .25s,border-color .25s ; border-right: 1px solid #dee2e6 ; border-top: 1px solid #dee2e6 ; border-bottom: 1px solid #dee2e6 ; border-left: .2rem solid #ff0039;\">\n",
        "<h3 class=\"alert-heading\"><i class=\"fa fa-exclamation-triangle\"></i> Warning</h3>\n",
        "```\n",
        "\n",
        "\n",
        "\n",
        "Ces deux étapes sont là pour éviter le téléchargement manuel du CSV. Elles pourraient être\n",
        "remplacées par un `pd.read_csv` vers un URL bien choisi. Cependant le typage des données pourrait ne pas être\n",
        "optimal. \n",
        "\n",
        "\n",
        "\n",
        "```{=html}\n",
        "</div>\n",
        "```\n",
        "\n",
        "\n",
        ":::\n",
        "\n",
        "La conversion d'un objet `Pandas` en `Polars` se fait via la\n",
        "méthode `from_pandas`:\n"
      ],
      "id": "def13995"
    },
    {
      "cell_type": "code",
      "metadata": {},
      "source": [
        "df = pl.from_pandas(pandas_df_bpe)"
      ],
      "id": "f918fb92",
      "execution_count": null,
      "outputs": []
    },
    {
      "cell_type": "markdown",
      "metadata": {},
      "source": [
        "Les `DataFrame` `Polars` apparaissent de manière différente des `DataFrame` `Pandas`\n",
        "dans la console ou dans le _display_ de `Jupyter`:\n",
        "\n",
        "- `pd.DataFrame`:\n"
      ],
      "id": "bbf4f738"
    },
    {
      "cell_type": "code",
      "metadata": {},
      "source": [
        "pandas_df_bpe.head(2)"
      ],
      "id": "286a7c3e",
      "execution_count": null,
      "outputs": []
    },
    {
      "cell_type": "markdown",
      "metadata": {},
      "source": [
        "- `pl.DataFrame`:\n"
      ],
      "id": "3f4d8e4f"
    },
    {
      "cell_type": "code",
      "metadata": {},
      "source": [
        "df.head(2)"
      ],
      "id": "8323fe58",
      "execution_count": null,
      "outputs": []
    },
    {
      "cell_type": "markdown",
      "metadata": {},
      "source": [
        "On va écrire au format [Parquet](https://pythonds.linogaliana.fr/reads3/) ce `DataFrame` pour\n",
        "ensuite illustrer la lecture à partir de\n",
        "ce format, plus performant. \n"
      ],
      "id": "4c06ae66"
    },
    {
      "cell_type": "code",
      "metadata": {},
      "source": [
        "df.write_parquet(\"bpe.parquet\")"
      ],
      "id": "ecccac16",
      "execution_count": null,
      "outputs": []
    },
    {
      "cell_type": "markdown",
      "metadata": {},
      "source": [
        "## En lecture directe depuis un CSV\n",
        "\n",
        "Pour faciliter l'usage des données de la [Base Permanente des Equipements (BPE)](https://www.insee.fr/fr/metadonnees/source/serie/s1161),\n",
        "une copie de la version 2019 disponible sur le site de l'Insee est mise à disposition,\n",
        "prête à l'emploi. Elle est disponible depuis\n",
        "l'URL : https://minio.lab.sspcloud.fr/donnees-insee/diffusion/BPE/2019/BPE_ENS.csv\n"
      ],
      "id": "ed4ec61d"
    },
    {
      "cell_type": "code",
      "metadata": {},
      "source": [
        "url = \"https://minio.lab.sspcloud.fr/donnees-insee/diffusion/BPE/2019/BPE_ENS.csv\"\n",
        "df_bpe = pl.read_csv(\n",
        "    url, separator = \";\",\n",
        "    dtypes={\n",
        "        \"DEP\": pl.Categorical,\n",
        "        \"DEPCOM\": pl.Categorical\n",
        "    })"
      ],
      "id": "5e3fde2a",
      "execution_count": null,
      "outputs": []
    },
    {
      "cell_type": "markdown",
      "metadata": {},
      "source": [
        "L'option `dtypes` est ici nécessaire sous peine d'une erreur qu'on ne rencontrait pas\n",
        "avec `Pandas` car `Polars` est plus vigilant sur la nature piégeuse de certaines\n",
        "variables comme les numéros de départements français (qui sont tous numériques\n",
        "sauf les numéros Corse _\"2A\"_ et _\"2B\"_) et demande à l'utilisateur de données\n",
        "de fixer le type de ces variables. \n",
        "\n",
        "::: {.cell .markdown}\n",
        "\n",
        "\n",
        "```{=html}\n",
        "<div class=\"alert alert-info\" role=\"alert\" style=\"color: rgba(0,0,0,.8); background-color: white; margin-top: 1em; margin-bottom: 1em; margin:1.5625emauto; padding:0 .6rem .8rem!important;overflow:hidden; page-break-inside:avoid; border-radius:.25rem; box-shadow:0 .2rem .5rem rgba(0,0,0,.05),0 0 .05rem rgba(0,0,0,.1); transition:color .25s,background-color .25s,border-color .25s ; border-right: 1px solid #dee2e6 ; border-top: 1px solid #dee2e6 ; border-bottom: 1px solid #dee2e6 ; border-left:.2rem solid #007bff80;\">\n",
        "<h3 class=\"alert-heading\"><i class=\"fa fa-comment\"></i> Note</h3>\n",
        "```\n",
        "\n",
        "\n",
        "\n",
        "Pour les utilisateurs du [SSP Cloud](https://www.sspcloud.fr/),\n",
        "il existe une méthode plus universelle pour récupérer des données\n",
        "disponibles depuis le système de stockage.\n",
        "La librairie `S3FS` permet de traiter le système de stockage S3\n",
        "comme un _filesystem_ (FS) local. \n",
        "Il est donc possible de\n",
        "directement lire depuis un CSV en passant par l'espace\n",
        "de stockage de la plateforme:\n"
      ],
      "id": "e88ad514"
    },
    {
      "cell_type": "code",
      "metadata": {},
      "source": [
        "S3_ENDPOINT_URL = \"https://\" + os.environ[\"AWS_S3_ENDPOINT\"]\n",
        "fs = s3fs.S3FileSystem(client_kwargs={'endpoint_url': S3_ENDPOINT_URL})\n",
        "BUCKET = \"donnees-insee/diffusion/BPE/2019\"\n",
        "\n",
        "with fs.open(f\"{BUCKET}/BPE_ENS.csv\") as bpe_csv:\n",
        "    df_bpe = pl.read_csv(\n",
        "        bpe_csv, separator = \";\",\n",
        "        dtypes={\n",
        "            \"DEP\": pl.Categorical,\n",
        "            \"DEPCOM\": pl.Categorical\n",
        "            })\n",
        "    print(df_bpe.head())"
      ],
      "id": "6f2808e3",
      "execution_count": null,
      "outputs": []
    },
    {
      "cell_type": "markdown",
      "metadata": {},
      "source": [
        "```{=html}\n",
        "</div>\n",
        "```\n",
        "\n",
        "\n",
        ":::\n",
        "\n",
        "\n",
        "# Comment utiliser Polars ?\n",
        "\n",
        "Dans la suite de ce tutoriel, on va privilégier l'import\n",
        "depuis un fichier `Parquet`, plus performant et plus fiable\n",
        "grâce au typage des colonnes. \n"
      ],
      "id": "edd9e2ee"
    },
    {
      "cell_type": "code",
      "metadata": {},
      "source": [
        "df_bpe = pl.read_parquet(\"bpe.parquet\")"
      ],
      "id": "d2628e29",
      "execution_count": null,
      "outputs": []
    },
    {
      "cell_type": "markdown",
      "metadata": {},
      "source": [
        "A l'instar d'autres outils modernes d'exploitation des données,\n",
        "`Polars` expose un modèle de traitement basé sur des fonctions de haut niveau,\n",
        "comme `select`, `filter` ou `group_by`, qui empruntent au langage SQL\n",
        "une logique expressive du _\"quoi ?\"_ plutôt que du _\"comment ?\"_.\n",
        "\n",
        "La différence avec un package comme `Pandas` ou `dplyr` (`R`) est que `Polars`\n",
        "repose explicitement sur le principe de l'exécution retardée (_lazy evaluation_)\n",
        "qui consiste à optimiser le plan d'exécution fourni par l'utilisateur de données\n",
        "pour gagner en performance. \n",
        "\n",
        "Dans l'exemple qui suit, on commence par déclarer une exécution retardée (via `lazy()`)\n",
        "qui va permettre au moteur sous-jacent d'optimiser le traitement complet.\n",
        "Puis on exprime à l'aide des fonctions de haut niveau ce que l'on veut faire :\n",
        "\n",
        "1. Filtrer le jeu de données pour ne garder les lignes pour lesquelles la colonne `TYPEQU` vaut `B316` (les stations-services)\n",
        "2. On regroupe au niveau département\n",
        "3. On compte le nombre d'occurrences pour chaque département via `agg`\n",
        "4. Le dernier appel - `collect()` - indique que le traitement peut être lancé (et donc optimisé et parallelisé par `Polars`).\n"
      ],
      "id": "62242e2e"
    },
    {
      "cell_type": "code",
      "metadata": {},
      "source": [
        "df_stations_service = df_bpe.lazy().filter( # 1.\n",
        "    pl.col(\"TYPEQU\") == \"B316\"\n",
        ").group_by( # 2.\n",
        "    \"DEP\"\n",
        ").agg( # 3.\n",
        "    pl.len().alias(\"NB_STATION_SERVICE\")\n",
        ").collect() # 4.\n",
        "\n",
        "df_stations_service.head(5)"
      ],
      "id": "0617dd2f",
      "execution_count": null,
      "outputs": []
    },
    {
      "cell_type": "markdown",
      "metadata": {},
      "source": [
        "Du point de vue du code,\n",
        "la complexité induite par l'approche d'évaluation retardée est donc \n",
        "légère (un `lazy` en début de plan et un `collect` en fin de plan). \n",
        "Cependant, du point de vue de la performance, cela va amener énormément\n",
        "de gain car cela permettra à `Polars` d'optimiser l'ordre des opérations\n",
        "lorsque cela est possible pour gagner en performance. Par exemple, si une étape\n",
        "comme `filter` arrive tardivement, `Polars` peut être tenté de la faire intervenir\n",
        "plus tôt que l'étape à laquelle elle a été déclarée si c'est possible\n",
        "puisque traiter un _dataframe_ allégé peut faire gagner beaucoup de temps. \n",
        "\n",
        "\n",
        "## Lazy or not lazy ?\n",
        "\n",
        "Les exemples qui suivent n'utilisent pas systématiquement la fonction `lazy()`\n",
        "avant les opérations sur le _dataframe_ pour montrer l'alternative qui s'offre à l'utilisateur de `Polars`.\n",
        "\n",
        "Cependant, l'usage de cette fonction est recommandée en général\n",
        "et en particulier pour des traiements sur des tables volumineuses :\n",
        "en effet, le mode _lazy_ permet au moteur sous-jacent d'optimiser les traitements\n",
        "et donc de gagner en rapidité (par exemple en parallélisant les calculs).\n",
        "\n",
        "## Les expressions\n",
        "\n",
        "Les [**expressions**](https://pola-rs.github.io/polars-book/user-guide/dsl/expressions.html) sont au coeur des transformations de données en `Polars`. A partir de l'exemple ci-dessous, on peut comprendre la nature d'une expression :\n",
        "\n",
        "```\n",
        "pl.col(\"A\").sort().head(2)\n",
        "```\n",
        "\n",
        "- `pl` est l'alias pour le module `Polars` ;\n",
        "- `col(\"A\")` pointe vers la colonne _\"A\"_ ;\n",
        "- `sort()` est une fonction de tri à appliquer sur la colonne ;\n",
        "- l'opération `head` va permettre de matérialiser l'expression, ici pour sélectionner les deux premières lignes\n",
        "\n",
        "Ici, nous avons utilisé `head` pour matérialiser l'expression. \n",
        "Le reste de l'expression (les transformations antérieures) sera exécuté lorsqu'une action comme `head` est à mettre en oeuvre. \n",
        "\n",
        "Les actions qui déclenchent des opérations sont les suivantes:\n",
        "\n",
        "- l'aggrégation (`df.group_by(..).agg(..)`)\n",
        "- l'affichage de valeurs (`df.head(...)`)\n",
        "- l'appel explicite à une exécution (`df.collect()`)\n",
        "\n",
        "Alors que les transformations suivantes ne génèrent pas d'exécution\n",
        "immédiate : \n",
        "\n",
        "- la sélection d'observations (`df.filter(..)`)\n",
        "- la création de nouvelles variables (`df.with_columns(..)`) ou la sélection\n",
        "de colonnes (`df.select(...)`)\n",
        "\n",
        "Au contraire, leur exécution est retardée à une exécution\n",
        "ultérieure. \n",
        "\n",
        "# Sélection de données\n",
        "\n",
        "Deux types de sélections sont possibles :\n",
        "\n",
        "1. une __sélection de variables__ (en colonne), avec `select`\n",
        "2. une __sélection d'observations__ (en ligne), avec `filter`\n",
        "\n",
        "La combinaison des deux se faisant en chaînant l'appel à ces deux fonctions.\n",
        "\n",
        "## Sélection de variables\n",
        "\n",
        "Commençons par sélectionner des variables en utilisant leurs noms :\n"
      ],
      "id": "8ff83d83"
    },
    {
      "cell_type": "code",
      "metadata": {},
      "source": [
        "df_bpe.select(\n",
        "    [\"DEPCOM\", \"TYPEQU\", \"NB_EQUIP\"]\n",
        ").head(5)"
      ],
      "id": "090c2918",
      "execution_count": null,
      "outputs": []
    },
    {
      "cell_type": "markdown",
      "metadata": {},
      "source": [
        "Bien que cette méthode ne soit pas conseillée, \n",
        "il est bon de noter qu'il est également possible de sélectionner via les positions des colonnes, comme le permet\n",
        "`Pandas` :\n"
      ],
      "id": "b963b1f2"
    },
    {
      "cell_type": "code",
      "metadata": {},
      "source": [
        "df_bpe[:, 1:5].head(5)"
      ],
      "id": "2ee7a843",
      "execution_count": null,
      "outputs": []
    },
    {
      "cell_type": "markdown",
      "metadata": {},
      "source": [
        "On peut également s'appuyer sur des motifs de sélection des noms de colonnes\n",
        "mobilisant des expressions régulières (ici `^DEP.*$` signifiant _\"débute par DEP\"_):\n"
      ],
      "id": "42a4de4d"
    },
    {
      "cell_type": "code",
      "metadata": {},
      "source": [
        "df_bpe.select(\n",
        "    pl.col(\"^DEP.*$\")\n",
        ").head(5)"
      ],
      "id": "49627963",
      "execution_count": null,
      "outputs": []
    },
    {
      "cell_type": "markdown",
      "metadata": {},
      "source": [
        "La fonction `select` acceptant des `list` Python, on peut construire des sélecteurs assez puissants :\n"
      ],
      "id": "36b35ca8"
    },
    {
      "cell_type": "code",
      "metadata": {},
      "source": [
        "dep_cols = [cols for cols in df_bpe.columns if cols.startswith(\"DEP\")] \n",
        "\n",
        "df_bpe.select(dep_cols).head(5)"
      ],
      "id": "a6452fcf",
      "execution_count": null,
      "outputs": []
    },
    {
      "cell_type": "markdown",
      "metadata": {},
      "source": [
        "## Sélection d'observations\n",
        "\n",
        "La sélection d'observations (de lignes) se fera grâce à la fonction `filter`.\n"
      ],
      "id": "fda3b8e7"
    },
    {
      "cell_type": "code",
      "metadata": {},
      "source": [
        "df_bpe.filter(\n",
        "    (pl.col(\"DEPCOM\") == \"75101\") &\n",
        "    (pl.col(\"TYPEQU\") == \"B304\")\n",
        ").head(5)"
      ],
      "id": "9a615400",
      "execution_count": null,
      "outputs": []
    },
    {
      "cell_type": "markdown",
      "metadata": {},
      "source": [
        "De nombreux opérateurs sont disponibles pour faciliter cette sélection d'observations. Ici, deux exemples :\n",
        "\n",
        "- `is_in` qui permet de filtrer sur un ensemble de valeurs ; \n",
        "- `is_null` pour trouver les données manquantes de la variable _\"EPCI\"_.\n",
        "\n",
        "Par exemple, pour sélectionner les départements 75 et 92:\n"
      ],
      "id": "8a164d3b"
    },
    {
      "cell_type": "code",
      "metadata": {},
      "source": [
        "# Départements 75 ou 92\n",
        "df_bpe.filter(\n",
        "    pl.col(\"DEP\").is_in([\"75\", \"92\"])\n",
        ").head(5)"
      ],
      "id": "d3d41d7e",
      "execution_count": null,
      "outputs": []
    },
    {
      "cell_type": "markdown",
      "metadata": {},
      "source": [
        "Pour sélectionner les observations où la variable EPCI a une valeur manquante:\n"
      ],
      "id": "851c37c0"
    },
    {
      "cell_type": "code",
      "metadata": {},
      "source": [
        "# Valeurs manquantes pour la variable EPCI\n",
        "df_bpe.filter(\n",
        "    pl.col(\"EPCI\").is_null()\n",
        ")"
      ],
      "id": "83a48258",
      "execution_count": null,
      "outputs": []
    },
    {
      "cell_type": "markdown",
      "metadata": {},
      "source": [
        "A l'inverse, si on désire ne sélectionner que les \n",
        "observations où la colonne _\"EPCI\"_ n'est pas manquante :\n"
      ],
      "id": "4803a15a"
    },
    {
      "cell_type": "code",
      "metadata": {},
      "source": [
        "df_bpe.filter(\n",
        "    pl.col(\"EPCI\").is_not_null()\n",
        ")"
      ],
      "id": "e6100897",
      "execution_count": null,
      "outputs": []
    },
    {
      "cell_type": "markdown",
      "metadata": {},
      "source": [
        "Comme avec `Pandas`, il existe énormément de méthodes\n",
        "pratiques pour la manipulation de données\n",
        "\n",
        "\n",
        "## Renommage de variables\n",
        "\n",
        "La fonction `rename` permet de lister les colonnes à renommer via un dictionnaire Python :\n"
      ],
      "id": "57d82727"
    },
    {
      "cell_type": "code",
      "metadata": {
        "tags": []
      },
      "source": [
        "df_bpe.rename({\n",
        "    \"DEPCOM\" : \"code_commune\"\n",
        "}).head(5)"
      ],
      "id": "794ee3d4",
      "execution_count": null,
      "outputs": []
    },
    {
      "cell_type": "markdown",
      "metadata": {},
      "source": [
        "::: {.cell .markdown}\n",
        "\n",
        "\n",
        "```{=html}\n",
        "<div class=\"alert alert-info\" role=\"alert\" style=\"color: rgba(0,0,0,.8); background-color: white; margin-top: 1em; margin-bottom: 1em; margin:1.5625emauto; padding:0 .6rem .8rem!important;overflow:hidden; page-break-inside:avoid; border-radius:.25rem; box-shadow:0 .2rem .5rem rgba(0,0,0,.05),0 0 .05rem rgba(0,0,0,.1); transition:color .25s,background-color .25s,border-color .25s ; border-right: 1px solid #dee2e6 ; border-top: 1px solid #dee2e6 ; border-bottom: 1px solid #dee2e6 ; border-left:.2rem solid #007bff80;\">\n",
        "<h3 class=\"alert-heading\"><i class=\"fa fa-comment\"></i> Note</h3>\n",
        "```\n",
        "\n",
        "\n",
        "\n",
        "Petit piège,\n",
        "la logique est l'inverse de celle de `dplyr` : le dictionnaire est sous la forme `{\"ancienne_colonne\": \"nouvelle_colonne\"}`\n",
        "\n",
        "\n",
        "\n",
        "```{=html}\n",
        "</div>\n",
        "```\n",
        "\n",
        "\n",
        ":::\n",
        "\n",
        "Comme vu plus haut, construire des expressions de renommage plus complexes pourra se faire en pur `Python` :\n"
      ],
      "id": "b32fe3d1"
    },
    {
      "cell_type": "code",
      "metadata": {},
      "source": [
        "cols_minuscules = {cols: cols.lower() for cols in df_bpe.columns}\n",
        "\n",
        "df_bpe.rename(cols_minuscules).head(5)"
      ],
      "id": "74443b33",
      "execution_count": null,
      "outputs": []
    },
    {
      "cell_type": "markdown",
      "metadata": {},
      "source": [
        "## Trier une table\n",
        "\n",
        "La fonction `sort` permet de trier la table sur une ou plusieurs variables.\n"
      ],
      "id": "bec3665b"
    },
    {
      "cell_type": "code",
      "metadata": {},
      "source": [
        "df_bpe.lazy()\\\n",
        "    .sort(\"DEPCOM\", \"TYPEQU\")\\\n",
        "    .head(5).collect()"
      ],
      "id": "3bd4a2a1",
      "execution_count": null,
      "outputs": []
    },
    {
      "cell_type": "markdown",
      "metadata": {},
      "source": [
        "L'ordre de tri - croissant par défaut - peut-être précisé pour chaque variable.\n"
      ],
      "id": "3857f987"
    },
    {
      "cell_type": "code",
      "metadata": {},
      "source": [
        "df_bpe.lazy()\\\n",
        "    .sort(\"DEPCOM\", \"TYPEQU\", descending=[True, False])\\\n",
        "    .head(5).collect()"
      ],
      "id": "828389ee",
      "execution_count": null,
      "outputs": []
    },
    {
      "cell_type": "markdown",
      "metadata": {},
      "source": [
        "## Création de nouvelles variables\n",
        "\n",
        "La création de nouvelles variables se fera via `with_columns`. Dans l'exemple qui suit :\n",
        "\n",
        "- on convertit en entier numérique la variable `NB_EQUIP`\n",
        "- on calcule la somme cumulée (avec `cum_sum`)\n",
        "- on nomme la nouvelle colonne `NB_EQUIP_SUM`\n"
      ],
      "id": "4a46b9aa"
    },
    {
      "cell_type": "code",
      "metadata": {},
      "source": [
        "df_bpe.lazy()\\\n",
        "    .with_columns(pl.col('NB_EQUIP').cast(pl.Int64, strict=False))\\\n",
        "    .with_columns(\n",
        "        pl.col(\"NB_EQUIP\").cum_sum().alias(\"NB_EQUIP_SUM\"),\n",
        "        pl.when(pl.col(\"NB_EQUIP\") > 3).then(True).otherwise(False).alias(\"NB_EQUIP_3PLUS\")\n",
        "    ).head(5).collect()"
      ],
      "id": "bae4d483",
      "execution_count": null,
      "outputs": []
    },
    {
      "cell_type": "markdown",
      "metadata": {},
      "source": [
        "## Production de synthèses et d'agrégats\n",
        "\n",
        "On peut produire des statistiques synthétiques sur notre jeu de données\n",
        "avec la fonction `select`.\n"
      ],
      "id": "32a4d3fb"
    },
    {
      "cell_type": "code",
      "metadata": {},
      "source": [
        "df_bpe.lazy()\\\n",
        "    .with_columns(pl.col('NB_EQUIP').cast(pl.Int64, strict=False))\\\n",
        "    .select(\n",
        "        pl.col(\"NB_EQUIP\").sum().alias(\"NB_EQUIP_TOT\")\n",
        "    ).head(5).collect()"
      ],
      "id": "18d590ce",
      "execution_count": null,
      "outputs": []
    },
    {
      "cell_type": "markdown",
      "metadata": {},
      "source": [
        "Les fonctions `describe` et `glimpse` proposent un aperçu synthétique de la table:\n"
      ],
      "id": "c5011c0b"
    },
    {
      "cell_type": "code",
      "metadata": {},
      "source": [
        "df_bpe.describe()"
      ],
      "id": "d17056e6",
      "execution_count": null,
      "outputs": []
    },
    {
      "cell_type": "code",
      "metadata": {},
      "source": [
        "df_bpe.glimpse()"
      ],
      "id": "54a6f430",
      "execution_count": null,
      "outputs": []
    },
    {
      "cell_type": "markdown",
      "metadata": {},
      "source": [
        "Les fonctions `group_by` et `agg` sont mobilisées pour créer des aggrégats. Dans l'exemple ci-dessous :\n",
        "\n",
        "1. On précise que l'on veut grouper au niveau départemental (`group_by(\"DEP\")`) ;\n",
        "2. On somme les occurences d'équipement de type boulangerie (`pl.col(\"TYPEQU\") == \"B203\").sum()`) ;\n",
        "3. On donne un nom à la colonne portant la somme (`alias(\"NB_BOULANGERIES_TOT\")`)\n"
      ],
      "id": "7a6ebc74"
    },
    {
      "cell_type": "code",
      "metadata": {},
      "source": [
        "df_bpe.lazy().group_by(\"DEP\").agg(\n",
        "    (pl.col(\"TYPEQU\") == \"B203\").sum().alias(\"NB_BOULANGERIES_TOT\")\n",
        ").sort(\"NB_BOULANGERIES_TOT\", descending=True).head(5).collect()"
      ],
      "id": "5dfa2325",
      "execution_count": null,
      "outputs": []
    },
    {
      "cell_type": "markdown",
      "metadata": {},
      "source": [
        "# Explorer le plan d'exécution\n",
        "\n",
        "Il peut être utile pour comprendre les opérations effectuées par `Polars`\n",
        "de jeter un oeil au plan d'exécution. \n",
        "\n",
        "Pour cela, il suffit pour cela de ne pas effectuer\n",
        "d'action comme `collect` ou `head`. \n"
      ],
      "id": "70b2f7a4"
    },
    {
      "cell_type": "code",
      "metadata": {},
      "source": [
        "df_bpe.lazy()\\\n",
        "    .with_columns(pl.col('NB_EQUIP').cast(pl.Int64, strict=False))\\\n",
        "    .select(\n",
        "        pl.col(\"NB_EQUIP\").sum().alias(\"NB_EQUIP_TOT\")\n",
        "    )"
      ],
      "id": "9fb05058",
      "execution_count": null,
      "outputs": []
    },
    {
      "cell_type": "markdown",
      "metadata": {},
      "source": [
        "::: {.cell .markdown}\n",
        "\n",
        "\n",
        "```{=html}\n",
        "<div class=\"alert alert-info\" role=\"alert\" style=\"color: rgba(0,0,0,.8); background-color: white; margin-top: 1em; margin-bottom: 1em; margin:1.5625emauto; padding:0 .6rem .8rem!important;overflow:hidden; page-break-inside:avoid; border-radius:.25rem; box-shadow:0 .2rem .5rem rgba(0,0,0,.05),0 0 .05rem rgba(0,0,0,.1); transition:color .25s,background-color .25s,border-color .25s ; border-right: 1px solid #dee2e6 ; border-top: 1px solid #dee2e6 ; border-bottom: 1px solid #dee2e6 ; border-left:.2rem solid #007bff80;\">\n",
        "<h3 class=\"alert-heading\"><i class=\"fa fa-comment\"></i> Note</h3>\n",
        "```\n",
        "\n",
        "\n",
        "\n",
        "L'opération d'affichage du plan est ici instantanée puisqu'aucune\n",
        "action n'a été effectuée, seulement des transformations dont \n",
        "l'activation est retardée en attente d'une action n'ayant pas lieu. \n",
        "\n",
        "\n",
        "\n",
        "```{=html}\n",
        "</div>\n",
        "```\n",
        "\n",
        "\n",
        ":::\n",
        "\n",
        "# Une interconnexion avec `DuckDB` pour faire des requêtes SQL\n",
        "\n",
        "`Polars` s'appuie\n",
        "sur [`Apache Arrow`](https://arrow.apache.org/), un écosystème\n",
        "pour lire des données (CSV ou Parquet) de manière très efficace \n",
        "et les stocker dans des objets peu volumineux pour gagner en performance. \n",
        "C'est également le cas d'une autre librairie intéressante pour le traitement\n",
        "de données: [`DuckDB`](https://duckdb.org/). \n",
        "\n",
        "Plutôt que concurrentes, ces deux librairies sont très complémentaires. \n",
        "Il est possible d'effectuer des\n",
        "requêtes SQL depuis un `DataFrame` `Polars` via `DuckDB` ou d'utiliser \n",
        "`DuckDB` pour lire les données et convertir celles-ci en `DataFrame Polars`\n",
        "à l'issue des requêtes. Ces deux approches sont intéressantes pour les \n",
        "personnes familières avec le langage SQL.\n",
        "\n",
        "Pour illustrer le premier cas, reprenons un exemple précédent qui illustrait\n",
        "la sélection d'observations en se restreignant au choix de deux départements:\n"
      ],
      "id": "8e024b80"
    },
    {
      "cell_type": "code",
      "metadata": {},
      "source": [
        "df_bpe.filter(\n",
        "    pl.col(\"DEP\").is_in([\"75\", \"92\"])\n",
        ").head(5)"
      ],
      "id": "bc9962d8",
      "execution_count": null,
      "outputs": []
    },
    {
      "cell_type": "markdown",
      "metadata": {},
      "source": [
        "Avec `DuckDB`, pour effectuer la même opération, nommée _filtre_ en SQL,\n",
        "une requête SQL s'écrira de la manière suivante:\n"
      ],
      "id": "049b3cb3"
    },
    {
      "cell_type": "code",
      "metadata": {},
      "source": [
        "import duckdb \n",
        "\n",
        "df_duckdb = duckdb.sql(\"SELECT * FROM df_bpe WHERE CAST(DEP AS VARCHAR) in ('75', '92')\")\n",
        "df_duckdb"
      ],
      "id": "d9db5e1a",
      "execution_count": null,
      "outputs": []
    },
    {
      "cell_type": "markdown",
      "metadata": {},
      "source": [
        "::: {.cell .markdown}\n",
        "\n",
        "\n",
        "```{=html}\n",
        "<div class=\"alert alert-info\" role=\"alert\" style=\"color: rgba(0,0,0,.8); background-color: white; margin-top: 1em; margin-bottom: 1em; margin:1.5625emauto; padding:0 .6rem .8rem!important;overflow:hidden; page-break-inside:avoid; border-radius:.25rem; box-shadow:0 .2rem .5rem rgba(0,0,0,.05),0 0 .05rem rgba(0,0,0,.1); transition:color .25s,background-color .25s,border-color .25s ; border-right: 1px solid #dee2e6 ; border-top: 1px solid #dee2e6 ; border-bottom: 1px solid #dee2e6 ; border-left:.2rem solid #007bff80;\">\n",
        "<h3 class=\"alert-heading\"><i class=\"fa fa-comment\"></i> Note</h3>\n",
        "```\n",
        "\n",
        "\n",
        "\n",
        "`df_duckdb` n'est plus un objet `Polars`. Si vous désirez obtenir à nouveau un objet `Polars`, \n",
        "il faudra utiliser la méthode `pl`, comme montré dans le prochain exemple\n",
        "\n",
        "\n",
        "\n",
        "```{=html}\n",
        "</div>\n",
        "```\n",
        "\n",
        "\n",
        ":::\n",
        "\n",
        "\n",
        "La seconde approche implique quant à elle d'utiliser `DuckDB` pour lire et\n",
        "traiter les données avant de transformer cela en objet `Polars` pour éventuellement\n",
        "des manipulations de données ultérieures. Cette approche fonctionne en deux temps:\n",
        "\n",
        "- `DuckDB` sert à lire les données (ici au format `parquet`) et effectuer le filtre\n",
        "- Le résultat de cette requête est transformé en `DataFrame` `Polars` avec\n",
        "la méthode `pl`:\n"
      ],
      "id": "73219805"
    },
    {
      "cell_type": "code",
      "metadata": {},
      "source": [
        "duckdb.sql(\"SELECT * FROM read_parquet(\\\"bpe.parquet\\\") WHERE CAST(DEP AS VARCHAR) in ('75', '92')\").pl()"
      ],
      "id": "2fe96183",
      "execution_count": null,
      "outputs": []
    },
    {
      "cell_type": "markdown",
      "metadata": {},
      "source": [
        "Cette approche est intéressante pour effectuer les opérations de sélection\n",
        "d'observations ou de variables le plus tôt possible afin de ne pas avoir en mémoire\n",
        "des données inutilisées."
      ],
      "id": "d5678c9c"
    }
  ],
  "metadata": {
    "kernelspec": {
      "name": "python3",
      "language": "python",
      "display_name": "Python 3 (ipykernel)"
    }
  },
  "nbformat": 4,
  "nbformat_minor": 5
}