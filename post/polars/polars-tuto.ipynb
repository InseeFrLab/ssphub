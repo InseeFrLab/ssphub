{
  "cells": [
    {
      "cell_type": "markdown",
      "metadata": {},
      "source": [
        "# Prise en main de Polars\n",
        "\n",
        "`Polars` est un package `Python` permettant de manipuler les données\n",
        "tabulaires à partir de différents types de fichiers (CSV, Parquet,\n",
        "etc.). Il est une alternative directe et moderne à `Pandas`, pensée pour\n",
        "être très performante tout en offrant une syntaxe compréhensible à pour\n",
        "des *data scientists* habitués à d’autres *frameworks* de manipulation\n",
        "de données comme `dplyr`.\n",
        "\n",
        "Ce notebook offre un complément à\n",
        "l’[article](https://ssphub.netlify.app/post/polars/) publié sur le blog\n",
        "du réseau des data scientists de la statistique publique. Les exemples\n",
        "sont reproductibles dans de nombreux environnements, à condition\n",
        "d’installer les packages comme indiqué ci-dessous. Les utilisateurs du\n",
        "SSP Cloud ou de Colab pourront directement ouvrir ce notebook en\n",
        "utilisant les boutons suivants:\n",
        "\n",
        "<a href=\"https://datalab.sspcloud.fr/launcher/ide/jupyter-python?autoLaunch=false&init.personalInit=%C2%ABhttps%3A%2F%2Fraw.githubusercontent.com%2Fromaintailhurat%2Fssphub%2Fblog%2Fpolars%2Fcontent%2Fnotebooks%2Finit.sh%C2%BB&init.personalInitArgs=%C2%ABpolars-tuto%C2%BB&onyxia.friendlyName=%C2%ABTutoriel%20Polars%C2%BB\" target=\"_blank\" rel=\"noopener\"><img src=\"https://img.shields.io/badge/SSPcloud-Tester%20notebook%20sur%20SSP--cloud-informational&amp;color=yellow?logo=Python\" alt=\"Onyxia\"></a>\n",
        "<a href=\"http://colab.research.google.com/github/inseefrlab/ssphub/blob/main/content/notebooks/polars-tuto.ipynb\" target=\"_blank\" rel=\"noopener\"><img src=\"https://colab.research.google.com/assets/colab-badge.svg\" alt=\"Open In Colab\"></a>\n",
        "\n",
        "Pour faire le parallèle avec les exemples pour [découvrir le `tidyverse`\n",
        "dans\n",
        "`utilitr`](https://www.book.utilitr.org/03_fiches_thematiques/fiche_tidyverse)),\n",
        "ce *notebook* exploite la [Base Permanente des Equipements\n",
        "(BPE)](https://www.insee.fr/fr/metadonnees/source/serie/s1161)."
      ],
      "id": "858b86d0-6258-4aa6-9e0c-bd8914b750e0"
    },
    {
      "cell_type": "markdown",
      "metadata": {},
      "source": [
        "<div class=\"alert alert-danger\" role=\"alert\" style=\"color: rgba(0,0,0,.8); background-color: white; margin-top: 1em; margin-bottom: 1em; margin:1.5625emauto; padding:0 .6rem .8rem!important;overflow:hidden; page-break-inside:avoid; border-radius:.25rem; box-shadow:0 .2rem .5rem rgba(0,0,0,.05),0 0 .05rem rgba(0,0,0,.1); transition:color .25s,background-color .25s,border-color .25s ; border-right: 1px solid #dee2e6 ; border-top: 1px solid #dee2e6 ; border-bottom: 1px solid #dee2e6 ; border-left: .2rem solid #ff0039;\">\n",
        "<h3 class=\"alert-heading\"><i class=\"fa fa-exclamation-triangle\"></i> Warning</h3>\n",
        "\n",
        "Outre `Polars`, ce notebook propose des compléments qui utilisent les\n",
        "packages [`s3fs`](https://s3fs.readthedocs.io/en/latest/) et\n",
        "[`Pynsee`](https://github.com/InseeFrLab/pynsee) pour, respectivement,\n",
        "interagir avec un espace de stockage distant de type `S3` et récupérer\n",
        "les données d’illustration sur le site\n",
        "[insee.fr](https://www.insee.fr/fr/accueil). `Pynsee` est nécessaire en\n",
        "début de *notebook* pour faciliter la récupération de la source de\n",
        "données utilisée. `s3fs` n’est nécessaire que pour faire tourner les\n",
        "exemples présents dans les encadrés proposant des détails\n",
        "supplémentaires ou alternatifs. La dernière partie utilise également le\n",
        "package [`DuckDB`](https://duckdb.org/docs/api/python/overview.html)\n",
        "pour illustrer la complémentarité avec une approche utilisant des\n",
        "requêtes SQL pour la manipulation de données.\n",
        "\n",
        "</div>"
      ],
      "id": "3bf049dd-2a49-4b26-8ab8-84b301c0eee1"
    },
    {
      "cell_type": "markdown",
      "metadata": {},
      "source": [
        "Pour pouvoir installer les packages utilisés par ce tutoriel, il est\n",
        "nécessaire d’exécuter la cellule suivante:"
      ],
      "id": "b42c4e86-aed1-480c-91f0-63f59a7e9d06"
    },
    {
      "cell_type": "code",
      "execution_count": 1,
      "metadata": {},
      "outputs": [],
      "source": [
        "!pip install polars pynsee[full] s3fs duckdb"
      ],
      "id": "8233ee8e"
    },
    {
      "cell_type": "markdown",
      "metadata": {},
      "source": [
        "Nous aurons besoin d’importer les packages suivants dans ce *notebook*:"
      ],
      "id": "ffc029bd-6c9c-444a-9c57-d7d77fd1b50f"
    },
    {
      "cell_type": "code",
      "execution_count": 2,
      "metadata": {},
      "outputs": [],
      "source": [
        "import os\n",
        "import polars as pl\n",
        "import s3fs\n",
        "from pynsee.download import download_file"
      ],
      "id": "65b85c9f"
    },
    {
      "cell_type": "markdown",
      "metadata": {},
      "source": [
        "# Lecture de données\n",
        "\n",
        "A partir d’un csv, il est possible de créer un `DataFrame` `Polars` de\n",
        "plusieurs manières :\n",
        "\n",
        "1.  Charger les données via `Pandas` puis les transformer en objet\n",
        "    `Polars`\n",
        "2.  Charger les données directement avec `Polars` via une fonction\n",
        "    `read_csv` qui fonctionne, en apparence, de la même manière que\n",
        "    celle de `Pandas`\n",
        "\n",
        "Ces deux approches sont présentées dans les prochaines parties.\n",
        "\n",
        "## A partir d’un objet `Pandas`\n",
        "\n",
        "Le *package* `Pynsee` fonctionne en deux temps pour créer un `DataFrame`\n",
        "`Pandas` à partir des données disponibles sur le site\n",
        "[insee.fr](https://www.insee.fr/fr/accueil) :\n",
        "\n",
        "1.  Récupération des données depuis le site\n",
        "    [insee.fr](https://www.insee.fr/fr/accueil) à partir des paramètres\n",
        "    de la fonction `download_file` (source, année…)\n",
        "2.  Import sous forme de `DataFrame` `Pandas` avec un typage pré-défini\n",
        "    dans le *package*, adapté à la source\n",
        "\n",
        "Pour récupérer des données via `Pynsee`, la fonction de référence est\n",
        "`download_file`:"
      ],
      "id": "c91d6a02-4f92-4488-b799-17b93530eafb"
    },
    {
      "cell_type": "code",
      "execution_count": 3,
      "metadata": {},
      "outputs": [],
      "source": [
        "pandas_df_bpe = download_file(\"BPE_ENS\", update = True)"
      ],
      "id": "233d0df6"
    },
    {
      "cell_type": "markdown",
      "metadata": {},
      "source": [
        "`Pynsee` renvoie un `DataFrame` `Pandas` correspondant à la source\n",
        "désiré :"
      ],
      "id": "bd704bf4-8c47-43a9-b5ea-10b322505760"
    },
    {
      "cell_type": "code",
      "execution_count": 4,
      "metadata": {},
      "outputs": [
        {
          "output_type": "display_data",
          "metadata": {},
          "data": {
            "text/plain": [
              "pandas.core.frame.DataFrame"
            ]
          }
        }
      ],
      "source": [
        "pandas_df_bpe.__class__"
      ],
      "id": "62d4163e"
    },
    {
      "cell_type": "markdown",
      "metadata": {},
      "source": [
        "<div class=\"alert alert-danger\" role=\"alert\" style=\"color: rgba(0,0,0,.8); background-color: white; margin-top: 1em; margin-bottom: 1em; margin:1.5625emauto; padding:0 .6rem .8rem!important;overflow:hidden; page-break-inside:avoid; border-radius:.25rem; box-shadow:0 .2rem .5rem rgba(0,0,0,.05),0 0 .05rem rgba(0,0,0,.1); transition:color .25s,background-color .25s,border-color .25s ; border-right: 1px solid #dee2e6 ; border-top: 1px solid #dee2e6 ; border-bottom: 1px solid #dee2e6 ; border-left: .2rem solid #ff0039;\">\n",
        "<h3 class=\"alert-heading\"><i class=\"fa fa-exclamation-triangle\"></i> Warning</h3>\n",
        "\n",
        "Ces deux étapes sont là pour éviter le téléchargement manuel du CSV.\n",
        "Elles pourraient être remplacées par un `pd.read_csv` vers un URL bien\n",
        "choisi. Cependant le typage des données pourrait ne pas être optimal.\n",
        "\n",
        "</div>"
      ],
      "id": "2de08c35-24d4-4734-881a-2234ad6e2278"
    },
    {
      "cell_type": "markdown",
      "metadata": {},
      "source": [
        "La conversion d’un objet `Pandas` en `Polars` se fait via la méthode\n",
        "`from_pandas`:"
      ],
      "id": "bb6fa5a1-58b0-454f-ac7d-a532bf697cf7"
    },
    {
      "cell_type": "code",
      "execution_count": 5,
      "metadata": {},
      "outputs": [],
      "source": [
        "df = pl.from_pandas(pandas_df_bpe)"
      ],
      "id": "af405774"
    },
    {
      "cell_type": "markdown",
      "metadata": {},
      "source": [
        "Les `DataFrame` `Polars` apparaissent de manière différente des\n",
        "`DataFrame` `Pandas` dans la console ou dans le *display* de `Jupyter`:\n",
        "\n",
        "-   `pd.DataFrame`:"
      ],
      "id": "19f3bfbb-4ae3-4deb-a82a-9802bfe1ec58"
    },
    {
      "cell_type": "code",
      "execution_count": 6,
      "metadata": {},
      "outputs": [
        {
          "output_type": "display_data",
          "metadata": {},
          "data": {
            "text/html": [
              "\n",
              "</div>"
            ]
          }
        }
      ],
      "source": [
        "pandas_df_bpe.head(2)"
      ],
      "id": "ef4172eb"
    },
    {
      "cell_type": "markdown",
      "metadata": {},
      "source": [
        "-   `pl.DataFrame`:"
      ],
      "id": "158d64ea-7c0c-4c73-ba8d-281017ac14bf"
    },
    {
      "cell_type": "code",
      "execution_count": 7,
      "metadata": {},
      "outputs": [
        {
          "output_type": "display_data",
          "metadata": {},
          "data": {
            "text/html": [
              "</div>"
            ]
          }
        }
      ],
      "source": [
        "df.head(2)"
      ],
      "id": "a708ac5a"
    },
    {
      "cell_type": "markdown",
      "metadata": {},
      "source": [
        "On va écrire au format\n",
        "[Parquet](https://pythonds.linogaliana.fr/reads3/) ce `DataFrame` pour\n",
        "ensuite illustrer la lecture à partir de ce format, plus performant."
      ],
      "id": "8ddbc178-43ea-40e3-943e-c72cb2088e04"
    },
    {
      "cell_type": "code",
      "execution_count": 8,
      "metadata": {},
      "outputs": [],
      "source": [
        "df.write_parquet(\"bpe.parquet\")"
      ],
      "id": "180c727e"
    },
    {
      "cell_type": "markdown",
      "metadata": {},
      "source": [
        "## En lecture directe depuis un CSV\n",
        "\n",
        "Pour faciliter l’usage des données de la [Base Permanente des\n",
        "Equipements\n",
        "(BPE)](https://www.insee.fr/fr/metadonnees/source/serie/s1161), une\n",
        "copie de la version 2019 disponible sur le site de l’Insee est mise à\n",
        "disposition, prête à l’emploi. Elle est disponible depuis l’URL :\n",
        "https://minio.lab.sspcloud.fr/donnees-insee/diffusion/BPE/2019/BPE_ENS.csv"
      ],
      "id": "674fb782-e2f3-48e1-9f6c-cf48f50a830c"
    },
    {
      "cell_type": "code",
      "execution_count": 9,
      "metadata": {},
      "outputs": [],
      "source": [
        "url = \"https://minio.lab.sspcloud.fr/donnees-insee/diffusion/BPE/2019/BPE_ENS.csv\"\n",
        "df_bpe = pl.read_csv(\n",
        "    url, separator = \";\",\n",
        "    dtypes={\n",
        "        \"DEP\": pl.Categorical,\n",
        "        \"DEPCOM\": pl.Categorical\n",
        "    })"
      ],
      "id": "9948fc23"
    },
    {
      "cell_type": "markdown",
      "metadata": {},
      "source": [
        "L’option `dtypes` est ici nécessaire sous peine d’une erreur qu’on ne\n",
        "rencontrait pas avec `Pandas` car `Polars` est plus vigilant sur la\n",
        "nature piégeuse de certaines variables comme les numéros de départements\n",
        "français (qui sont tous numériques sauf les numéros Corse *“2A”* et\n",
        "*“2B”*) et demande à l’utilisateur de données de fixer le type de ces\n",
        "variables."
      ],
      "id": "0dd067a0-260a-46e7-b3df-4095af8c1ce6"
    },
    {
      "cell_type": "markdown",
      "metadata": {},
      "source": [
        "<div class=\"alert alert-info\" role=\"alert\" style=\"color: rgba(0,0,0,.8); background-color: white; margin-top: 1em; margin-bottom: 1em; margin:1.5625emauto; padding:0 .6rem .8rem!important;overflow:hidden; page-break-inside:avoid; border-radius:.25rem; box-shadow:0 .2rem .5rem rgba(0,0,0,.05),0 0 .05rem rgba(0,0,0,.1); transition:color .25s,background-color .25s,border-color .25s ; border-right: 1px solid #dee2e6 ; border-top: 1px solid #dee2e6 ; border-bottom: 1px solid #dee2e6 ; border-left:.2rem solid #007bff80;\">\n",
        "<h3 class=\"alert-heading\"><i class=\"fa fa-comment\"></i> Note</h3>\n",
        "\n",
        "Pour les utilisateurs du [SSP Cloud](https://www.sspcloud.fr/), il\n",
        "existe une méthode plus universelle pour récupérer des données\n",
        "disponibles depuis le système de stockage. La librairie `S3FS` permet de\n",
        "traiter le système de stockage S3 comme un *filesystem* (FS) local. Il\n",
        "est donc possible de directement lire depuis un CSV en passant par\n",
        "l’espace de stockage de la plateforme:\n",
        "\n",
        "``` python\n",
        "S3_ENDPOINT_URL = \"https://\" + os.environ[\"AWS_S3_ENDPOINT\"]\n",
        "fs = s3fs.S3FileSystem(client_kwargs={'endpoint_url': S3_ENDPOINT_URL})\n",
        "BUCKET = \"donnees-insee/diffusion/BPE/2019\"\n",
        "\n",
        "with fs.open(f\"{BUCKET}/BPE_ENS.csv\") as bpe_csv:\n",
        "    df_bpe = pl.read_csv(\n",
        "        bpe_csv, separator = \";\",\n",
        "        dtypes={\n",
        "            \"DEP\": pl.Categorical,\n",
        "            \"DEPCOM\": pl.Categorical\n",
        "            })\n",
        "    print(df_bpe.head())\n",
        "```\n",
        "\n",
        "    shape: (5, 7)\n",
        "    ┌─────┬─────┬────────┬────────┬──────┬────────┬──────────┐\n",
        "    │ REG ┆ DEP ┆ DEPCOM ┆ DCIRIS ┆ AN   ┆ TYPEQU ┆ NB_EQUIP │\n",
        "    │ --- ┆ --- ┆ ---    ┆ ---    ┆ ---  ┆ ---    ┆ ---      │\n",
        "    │ i64 ┆ cat ┆ cat    ┆ str    ┆ i64  ┆ str    ┆ i64      │\n",
        "    ╞═════╪═════╪════════╪════════╪══════╪════════╪══════════╡\n",
        "    │ 84  ┆ 01  ┆ 01001  ┆ 01001  ┆ 2019 ┆ A401   ┆ 2        │\n",
        "    │ 84  ┆ 01  ┆ 01001  ┆ 01001  ┆ 2019 ┆ A404   ┆ 4        │\n",
        "    │ 84  ┆ 01  ┆ 01001  ┆ 01001  ┆ 2019 ┆ A405   ┆ 2        │\n",
        "    │ 84  ┆ 01  ┆ 01001  ┆ 01001  ┆ 2019 ┆ A504   ┆ 1        │\n",
        "    │ 84  ┆ 01  ┆ 01001  ┆ 01001  ┆ 2019 ┆ A507   ┆ 1        │\n",
        "    └─────┴─────┴────────┴────────┴──────┴────────┴──────────┘\n",
        "\n",
        "</div>"
      ],
      "id": "7f6dd695-b23b-4822-b556-fe3f0cd426eb"
    },
    {
      "cell_type": "markdown",
      "metadata": {},
      "source": [
        "# Comment utiliser Polars ?\n",
        "\n",
        "Dans la suite de ce tutoriel, on va privilégier l’import depuis un\n",
        "fichier `Parquet`, plus performant et plus fiable grâce au typage des\n",
        "colonnes."
      ],
      "id": "f5f5b745-4c4b-47ac-83ec-7dfb4215e83c"
    },
    {
      "cell_type": "code",
      "execution_count": 11,
      "metadata": {},
      "outputs": [],
      "source": [
        "df_bpe = pl.read_parquet(\"bpe.parquet\")"
      ],
      "id": "da416ca2"
    },
    {
      "cell_type": "markdown",
      "metadata": {},
      "source": [
        "A l’instar d’autres outils modernes d’exploitation des données, `Polars`\n",
        "expose un modèle de traitement basé sur des fonctions de haut niveau,\n",
        "comme `select`, `filter` ou `groupby`, qui empruntent au langage SQL une\n",
        "logique expressive du *“quoi ?”* plutôt que du *“comment ?”*.\n",
        "\n",
        "La différence avec un package comme `Pandas` ou `dplyr` (`R`) est que\n",
        "`Polars` repose explicitement sur le principe de l’exécution retardée\n",
        "(*lazy evaluation*) qui consiste à optimiser le plan d’exécution fourni\n",
        "par l’utilisateur de données pour gagner en performance.\n",
        "\n",
        "Dans l’exemple qui suit, on commence par déclarer une exécution retardée\n",
        "(via `lazy()`) qui va permettre au moteur sous-jacent d’optimiser le\n",
        "traitement complet. Puis on exprime à l’aide des fonctions de haut\n",
        "niveau ce que l’on veut faire :\n",
        "\n",
        "1.  Filtrer le jeu de données pour ne garder les lignes pour lesquelles\n",
        "    la colonne `TYPEQU` vaut `B316` (les stations-services)\n",
        "2.  On regroupe au niveau département\n",
        "3.  On compte le nombre d’occurrences pour chaque département via `agg`\n",
        "4.  Le dernier appel - `collect()` - indique que le traitement peut être\n",
        "    lancé (et donc optimisé et parallelisé par `Polars`)."
      ],
      "id": "4d82d88d-de67-42c2-a7f8-fd9b647eab5b"
    },
    {
      "cell_type": "code",
      "execution_count": 12,
      "metadata": {},
      "outputs": [
        {
          "output_type": "stream",
          "name": "stderr",
          "text": [
            "/tmp/ipykernel_84584/1940419069.py:3: DeprecationWarning:\n",
            "\n",
            "`groupby` is deprecated. It has been renamed to `group_by`.\n",
            "\n",
            "/tmp/ipykernel_84584/1940419069.py:6: DeprecationWarning:\n",
            "\n",
            "`pl.count()` is deprecated. Please use `pl.len()` instead.\n"
          ]
        },
        {
          "output_type": "display_data",
          "metadata": {},
          "data": {
            "text/html": [
              "</div>"
            ]
          }
        }
      ],
      "source": [
        "df_stations_service = df_bpe.lazy().filter( # 1.\n",
        "    pl.col(\"TYPEQU\") == \"B316\"\n",
        ").groupby( # 2.\n",
        "    \"DEP\"\n",
        ").agg( # 3.\n",
        "    pl.count().alias(\"NB_STATION_SERVICE\")\n",
        ").collect() # 4.\n",
        "\n",
        "df_stations_service.head(5)"
      ],
      "id": "e11e44ad"
    },
    {
      "cell_type": "markdown",
      "metadata": {},
      "source": [
        "Du point de vue du code, la complexité induite par l’approche\n",
        "d’évaluation retardée est donc légère (un `lazy` en début de plan et un\n",
        "`collect` en fin de plan). Cependant, du point de vue de la performance,\n",
        "cela va amener énormément de gain car cela permettra à `Polars`\n",
        "d’optimiser l’ordre des opérations lorsque cela est possible pour gagner\n",
        "en performance. Par exemple, si une étape comme `filter` arrive\n",
        "tardivement, `Polars` peut être tenté de la faire intervenir plus tôt\n",
        "que l’étape à laquelle elle a été déclarée si c’est possible puisque\n",
        "traiter un *dataframe* allégé peut faire gagner beaucoup de temps.\n",
        "\n",
        "## Lazy or not lazy ?\n",
        "\n",
        "Les exemples qui suivent n’utilisent pas systématiquement la fonction\n",
        "`lazy()` avant les opérations sur le *dataframe* pour montrer\n",
        "l’alternative qui s’offre à l’utilisateur de `Polars`.\n",
        "\n",
        "Cependant, l’usage de cette fonction est recommandée en général et en\n",
        "particulier pour des traiements sur des tables volumineuses : en effet,\n",
        "le mode *lazy* permet au moteur sous-jacent d’optimiser les traitements\n",
        "et donc de gagner en rapidité (par exemple en parallélisant les\n",
        "calculs).\n",
        "\n",
        "## Les expressions\n",
        "\n",
        "Les\n",
        "[**expressions**](https://pola-rs.github.io/polars-book/user-guide/dsl/expressions.html)\n",
        "sont au coeur des transformations de données en `Polars`. A partir de\n",
        "l’exemple ci-dessous, on peut comprendre la nature d’une expression :\n",
        "\n",
        "    pl.col(\"A\").sort().head(2)\n",
        "\n",
        "-   `pl` est l’alias pour le module `Polars` ;\n",
        "-   `col(\"A\")` pointe vers la colonne *“A”* ;\n",
        "-   `sort()` est une fonction de tri à appliquer sur la colonne ;\n",
        "-   l’opération `head` va permettre de matérialiser l’expression, ici\n",
        "    pour sélectionner les deux premières lignes\n",
        "\n",
        "Ici, nous avons utilisé `head` pour matérialiser l’expression. Le reste\n",
        "de l’expression (les transformations antérieures) sera exécuté\n",
        "lorsqu’une action comme `head` est à mettre en oeuvre.\n",
        "\n",
        "Les actions qui déclenchent des opérations sont les suivantes:\n",
        "\n",
        "-   l’aggrégation (`df.groupby(..).agg(..)`)\n",
        "-   l’affichage de valeurs (`df.head(...)`)\n",
        "-   l’appel explicite à une exécution (`df.collect()`)\n",
        "\n",
        "Alors que les transformations suivantes ne génèrent pas d’exécution\n",
        "immédiate :\n",
        "\n",
        "-   la sélection d’observations (`df.filter(..)`)\n",
        "-   la création de nouvelles variables (`df.with_columns(..)`) ou la\n",
        "    sélection de colonnes (`df.select(...)`)\n",
        "\n",
        "Au contraire, leur exécution est retardée à une exécution ultérieure.\n",
        "\n",
        "# Sélection de données\n",
        "\n",
        "Deux types de sélections sont possibles :\n",
        "\n",
        "1.  une **sélection de variables** (en colonne), avec `select`\n",
        "2.  une **sélection d’observations** (en ligne), avec `filter`\n",
        "\n",
        "La combinaison des deux se faisant en chaînant l’appel à ces deux\n",
        "fonctions.\n",
        "\n",
        "## Sélection de variables\n",
        "\n",
        "Commençons par sélectionner des variables en utilisant leurs noms :"
      ],
      "id": "34b17217-a28e-4bcc-8f98-ce20db89fdf8"
    },
    {
      "cell_type": "code",
      "execution_count": 13,
      "metadata": {},
      "outputs": [
        {
          "output_type": "display_data",
          "metadata": {},
          "data": {
            "text/html": [
              "</div>"
            ]
          }
        }
      ],
      "source": [
        "df_bpe.select(\n",
        "    [\"DEPCOM\", \"TYPEQU\", \"NB_EQUIP\"]\n",
        ").head(5)"
      ],
      "id": "f9b9ed08"
    },
    {
      "cell_type": "markdown",
      "metadata": {},
      "source": [
        "Bien que cette méthode ne soit pas conseillée, il est bon de noter qu’il\n",
        "est également possible de sélectionner via les positions des colonnes,\n",
        "comme le permet `Pandas` :"
      ],
      "id": "2558cbc7-8966-4714-bce8-f85539ea1999"
    },
    {
      "cell_type": "code",
      "execution_count": 14,
      "metadata": {},
      "outputs": [
        {
          "output_type": "display_data",
          "metadata": {},
          "data": {
            "text/html": [
              "</div>"
            ]
          }
        }
      ],
      "source": [
        "df_bpe[:, 1:5].head(5)"
      ],
      "id": "17a9a4fb"
    },
    {
      "cell_type": "markdown",
      "metadata": {},
      "source": [
        "On peut également s’appuyer sur des motifs de sélection des noms de\n",
        "colonnes mobilisant des expressions régulières (ici `^DEP.*$` signifiant\n",
        "*“débute par DEP”*):"
      ],
      "id": "b2820037-1580-458f-8596-e3cbd28b801c"
    },
    {
      "cell_type": "code",
      "execution_count": 15,
      "metadata": {},
      "outputs": [
        {
          "output_type": "display_data",
          "metadata": {},
          "data": {
            "text/html": [
              "</div>"
            ]
          }
        }
      ],
      "source": [
        "df_bpe.select(\n",
        "    pl.col(\"^DEP.*$\")\n",
        ").head(5)"
      ],
      "id": "b3f4fc6a"
    },
    {
      "cell_type": "markdown",
      "metadata": {},
      "source": [
        "La fonction `select` acceptant des `list` Python, on peut construire des\n",
        "sélecteurs assez puissants :"
      ],
      "id": "3a378db3-ce81-4ba0-9b33-a3df56e44cff"
    },
    {
      "cell_type": "code",
      "execution_count": 16,
      "metadata": {},
      "outputs": [
        {
          "output_type": "display_data",
          "metadata": {},
          "data": {
            "text/html": [
              "</div>"
            ]
          }
        }
      ],
      "source": [
        "dep_cols = [cols for cols in df_bpe.columns if cols.startswith(\"DEP\")] \n",
        "\n",
        "df_bpe.select(dep_cols).head(5)"
      ],
      "id": "5909f465"
    },
    {
      "cell_type": "markdown",
      "metadata": {},
      "source": [
        "## Sélection d’observations\n",
        "\n",
        "La sélection d’observations (de lignes) se fera grâce à la fonction\n",
        "`filter`."
      ],
      "id": "0965467e-8b32-476f-9d4e-9e1fa9f57870"
    },
    {
      "cell_type": "code",
      "execution_count": 17,
      "metadata": {},
      "outputs": [
        {
          "output_type": "display_data",
          "metadata": {},
          "data": {
            "text/html": [
              "</div>"
            ]
          }
        }
      ],
      "source": [
        "df_bpe.filter(\n",
        "    (pl.col(\"DEPCOM\") == \"75101\") &\n",
        "    (pl.col(\"TYPEQU\") == \"B304\")\n",
        ").head(5)"
      ],
      "id": "d004847d"
    },
    {
      "cell_type": "markdown",
      "metadata": {},
      "source": [
        "De nombreux opérateurs sont disponibles pour faciliter cette sélection\n",
        "d’observations. Ici, deux exemples :\n",
        "\n",
        "-   `is_in` qui permet de filtrer sur un ensemble de valeurs ;\n",
        "-   `is_null` pour trouver les données manquantes de la variable\n",
        "    *“EPCI”*.\n",
        "\n",
        "Par exemple, pour sélectionner les départements 75 et 92:"
      ],
      "id": "d97b7fe8-0cbd-47c2-9515-94fbd0e1c020"
    },
    {
      "cell_type": "code",
      "execution_count": 18,
      "metadata": {},
      "outputs": [
        {
          "output_type": "display_data",
          "metadata": {},
          "data": {
            "text/html": [
              "</div>"
            ]
          }
        }
      ],
      "source": [
        "# Départements 75 ou 92\n",
        "df_bpe.filter(\n",
        "    pl.col(\"DEP\").is_in([\"75\", \"92\"])\n",
        ").head(5)"
      ],
      "id": "bdb6d081"
    },
    {
      "cell_type": "markdown",
      "metadata": {},
      "source": [
        "Pour sélectionner les observations où la variable EPCI a une valeur\n",
        "manquante:"
      ],
      "id": "5184ed98-7097-4f76-82b5-2dd597dfc5da"
    },
    {
      "cell_type": "code",
      "execution_count": 19,
      "metadata": {},
      "outputs": [
        {
          "output_type": "display_data",
          "metadata": {},
          "data": {
            "text/html": [
              "</div>"
            ]
          }
        }
      ],
      "source": [
        "# Valeurs manquantes pour la variable EPCI\n",
        "df_bpe.filter(\n",
        "    pl.col(\"EPCI\").is_null()\n",
        ")"
      ],
      "id": "3bdb3719"
    },
    {
      "cell_type": "markdown",
      "metadata": {},
      "source": [
        "A l’inverse, si on désire ne sélectionner que les observations où la\n",
        "colonne *“EPCI”* n’est pas manquante :"
      ],
      "id": "e519fbda-fdc4-4410-a1eb-e491e8b9acf3"
    },
    {
      "cell_type": "code",
      "execution_count": 20,
      "metadata": {},
      "outputs": [
        {
          "output_type": "display_data",
          "metadata": {},
          "data": {
            "text/html": [
              "</div>"
            ]
          }
        }
      ],
      "source": [
        "df_bpe.filter(\n",
        "    pl.col(\"EPCI\").is_not_null()\n",
        ")"
      ],
      "id": "5795f97e"
    },
    {
      "cell_type": "markdown",
      "metadata": {},
      "source": [
        "Comme avec `Pandas`, il existe énormément de méthodes pratiques pour la\n",
        "manipulation de données\n",
        "\n",
        "## Renommage de variables\n",
        "\n",
        "La fonction `rename` permet de lister les colonnes à renommer via un\n",
        "dictionnaire Python :"
      ],
      "id": "b75b3876-c07b-462f-a4d5-6e346310cd70"
    },
    {
      "cell_type": "code",
      "execution_count": 21,
      "metadata": {
        "tags": []
      },
      "outputs": [
        {
          "output_type": "display_data",
          "metadata": {},
          "data": {
            "text/html": [
              "</div>"
            ]
          }
        }
      ],
      "source": [
        "df_bpe.rename({\n",
        "    \"DEPCOM\" : \"code_commune\"\n",
        "}).head(5)"
      ],
      "id": "9bab9af3"
    },
    {
      "cell_type": "markdown",
      "metadata": {},
      "source": [
        "<div class=\"alert alert-info\" role=\"alert\" style=\"color: rgba(0,0,0,.8); background-color: white; margin-top: 1em; margin-bottom: 1em; margin:1.5625emauto; padding:0 .6rem .8rem!important;overflow:hidden; page-break-inside:avoid; border-radius:.25rem; box-shadow:0 .2rem .5rem rgba(0,0,0,.05),0 0 .05rem rgba(0,0,0,.1); transition:color .25s,background-color .25s,border-color .25s ; border-right: 1px solid #dee2e6 ; border-top: 1px solid #dee2e6 ; border-bottom: 1px solid #dee2e6 ; border-left:.2rem solid #007bff80;\">\n",
        "<h3 class=\"alert-heading\"><i class=\"fa fa-comment\"></i> Note</h3>\n",
        "\n",
        "Petit piège, la logique est l’inverse de celle de `dplyr` : le\n",
        "dictionnaire est sous la forme\n",
        "`{\"ancienne_colonne\": \"nouvelle_colonne\"}`\n",
        "\n",
        "</div>"
      ],
      "id": "304074ae-e5d1-461b-8dd7-c6cac2861d25"
    },
    {
      "cell_type": "markdown",
      "metadata": {},
      "source": [
        "Comme vu plus haut, construire des expressions de renommage plus\n",
        "complexes pourra se faire en pur `Python` :"
      ],
      "id": "bb93677d-5070-42f0-b094-4c53a8903060"
    },
    {
      "cell_type": "code",
      "execution_count": 22,
      "metadata": {},
      "outputs": [
        {
          "output_type": "display_data",
          "metadata": {},
          "data": {
            "text/html": [
              "</div>"
            ]
          }
        }
      ],
      "source": [
        "cols_minuscules = {cols: cols.lower() for cols in df_bpe.columns}\n",
        "\n",
        "df_bpe.rename(cols_minuscules).head(5)"
      ],
      "id": "4744d4d6"
    },
    {
      "cell_type": "markdown",
      "metadata": {},
      "source": [
        "## Trier une table\n",
        "\n",
        "La fonction `sort` permet de trier la table sur une ou plusieurs\n",
        "variables."
      ],
      "id": "1f39520d-ed06-4eca-83b2-0e70668d151b"
    },
    {
      "cell_type": "code",
      "execution_count": 23,
      "metadata": {},
      "outputs": [
        {
          "output_type": "display_data",
          "metadata": {},
          "data": {
            "text/html": [
              "</div>"
            ]
          }
        }
      ],
      "source": [
        "df_bpe.lazy()\\\n",
        "    .sort(\"DEPCOM\", \"TYPEQU\")\\\n",
        "    .head(5).collect()"
      ],
      "id": "d7c0c50e"
    },
    {
      "cell_type": "markdown",
      "metadata": {},
      "source": [
        "L’ordre de tri - croissant par défaut - peut-être précisé pour chaque\n",
        "variable."
      ],
      "id": "f7c46c6d-c921-4d80-a859-9c7219ee44f6"
    },
    {
      "cell_type": "code",
      "execution_count": 24,
      "metadata": {},
      "outputs": [
        {
          "output_type": "display_data",
          "metadata": {},
          "data": {
            "text/html": [
              "</div>"
            ]
          }
        }
      ],
      "source": [
        "df_bpe.lazy()\\\n",
        "    .sort(\"DEPCOM\", \"TYPEQU\", descending=[True, False])\\\n",
        "    .head(5).collect()"
      ],
      "id": "289522fa"
    },
    {
      "cell_type": "markdown",
      "metadata": {},
      "source": [
        "## Création de nouvelles variables\n",
        "\n",
        "La création de nouvelles variables se fera via `with_columns`. Dans\n",
        "l’exemple qui suit :\n",
        "\n",
        "-   on convertit en entier numérique la variable `NB_EQUIP`\n",
        "-   on calcule la somme cumulée (avec `cumsum`)\n",
        "-   on nomme la nouvelle colonne `NB_EQUIP_SUM`"
      ],
      "id": "b5e38f52-0c17-41a8-afcc-7f7f3b136e1c"
    },
    {
      "cell_type": "code",
      "execution_count": 25,
      "metadata": {},
      "outputs": [
        {
          "output_type": "stream",
          "name": "stderr",
          "text": [
            "/tmp/ipykernel_84584/2362134496.py:4: DeprecationWarning:\n",
            "\n",
            "`cumsum` is deprecated. It has been renamed to `cum_sum`.\n"
          ]
        },
        {
          "output_type": "display_data",
          "metadata": {},
          "data": {
            "text/html": [
              "</div>"
            ]
          }
        }
      ],
      "source": [
        "df_bpe.lazy()\\\n",
        "    .with_columns(pl.col('NB_EQUIP').cast(pl.Int64, strict=False))\\\n",
        "    .with_columns(\n",
        "        pl.col(\"NB_EQUIP\").cumsum().alias(\"NB_EQUIP_SUM\"),\n",
        "        pl.when(pl.col(\"NB_EQUIP\") > 3).then(True).otherwise(False).alias(\"NB_EQUIP_3PLUS\")\n",
        "    ).head(5).collect()"
      ],
      "id": "632956ae"
    },
    {
      "cell_type": "markdown",
      "metadata": {},
      "source": [
        "## Production de synthèses et d’agrégats\n",
        "\n",
        "On peut produire des statistiques synthétiques sur notre jeu de données\n",
        "avec la fonction `select`."
      ],
      "id": "01faa85a-dcb2-44b9-9d66-ff5797dd015f"
    },
    {
      "cell_type": "code",
      "execution_count": 26,
      "metadata": {},
      "outputs": [
        {
          "output_type": "display_data",
          "metadata": {},
          "data": {
            "text/html": [
              "</div>"
            ]
          }
        }
      ],
      "source": [
        "df_bpe.lazy()\\\n",
        "    .with_columns(pl.col('NB_EQUIP').cast(pl.Int64, strict=False))\\\n",
        "    .select(\n",
        "        pl.col(\"NB_EQUIP\").sum().alias(\"NB_EQUIP_TOT\")\n",
        "    ).head(5).collect()"
      ],
      "id": "a90edcde"
    },
    {
      "cell_type": "markdown",
      "metadata": {},
      "source": [
        "Les fonctions `describe` et `glimpse` proposent un aperçu synthétique de\n",
        "la table:"
      ],
      "id": "a429d0c5-9b33-4d93-a9bd-a6c64d43fee2"
    },
    {
      "cell_type": "code",
      "execution_count": 27,
      "metadata": {},
      "outputs": [
        {
          "output_type": "display_data",
          "metadata": {},
          "data": {
            "text/html": [
              "</div>"
            ]
          }
        }
      ],
      "source": [
        "df_bpe.describe()"
      ],
      "id": "c84c90a1"
    },
    {
      "cell_type": "code",
      "execution_count": 28,
      "metadata": {},
      "outputs": [
        {
          "output_type": "stream",
          "name": "stdout",
          "text": [
            "Rows: 1056914\n",
            "Columns: 13\n",
            "$ AAV2020  <str> '524', '524', '524', '524', '524', '524', '524', '524', '524', '524'\n",
            "$ AN       <str> '2021', '2021', '2021', '2021', '2021', '2021', '2021', '2021', '2021', '2021'\n",
            "$ BV2012   <str> '01093', '01093', '01093', '01093', '01093', '01093', '01093', '01093', '01093', '01093'\n",
            "$ DEP      <str> '01', '01', '01', '01', '01', '01', '01', '01', '01', '01'\n",
            "$ DEPCOM   <str> '01001', '01001', '01001', '01001', '01001', '01001', '01001', '01001', '01001', '01001'\n",
            "$ DOM      <str> 'A', 'A', 'A', 'A', 'A', 'A', 'A', 'A', 'B', 'C'\n",
            "$ EPCI     <str> '200069193', '200069193', '200069193', '200069193', '200069193', '200069193', '200069193', '200069193', '200069193', '200069193'\n",
            "$ DCIRIS   <str> '010010000', '010010000', '010010000', '010010000', '010010000', '010010000', '010010000', '010010000', '010010000', '010010000'\n",
            "$ REG      <str> '84', '84', '84', '84', '84', '84', '84', '84', '84', '84'\n",
            "$ SDOM     <str> 'A1', 'A4', 'A4', 'A4', 'A4', 'A5', 'A5', 'A5', 'B2', 'C1'\n",
            "$ TYPEQU   <str> 'A129', 'A401', 'A402', 'A404', 'A405', 'A504', 'A505', 'A507', 'B203', 'C104'\n",
            "$ UU2020   <str> 'CSZ', 'CSZ', 'CSZ', 'CSZ', 'CSZ', 'CSZ', 'CSZ', 'CSZ', 'CSZ', 'CSZ'\n",
            "$ NB_EQUIP <str> '1', '2', '1', '2', '2', '1', '1', '2', '1', '1'\n"
          ]
        }
      ],
      "source": [
        "df_bpe.glimpse()"
      ],
      "id": "be2f60be"
    },
    {
      "cell_type": "markdown",
      "metadata": {},
      "source": [
        "Les fonctions `groupby` et `agg` sont mobilisées pour créer des\n",
        "aggrégats. Dans l’exemple ci-dessous :\n",
        "\n",
        "1.  On précise que l’on veut grouper au niveau départemental\n",
        "    (`groupby(\"DEP\")`) ;\n",
        "2.  On somme les occurences d’équipement de type boulangerie\n",
        "    (`pl.col(\"TYPEQU\") == \"B203\").sum()`) ;\n",
        "3.  On donne un nom à la colonne portant la somme\n",
        "    (`alias(\"NB_BOULANGERIES_TOT\")`)"
      ],
      "id": "b19d2ee3-44b7-487c-9731-b4ef021882a9"
    },
    {
      "cell_type": "code",
      "execution_count": 29,
      "metadata": {},
      "outputs": [
        {
          "output_type": "stream",
          "name": "stderr",
          "text": [
            "/tmp/ipykernel_84584/2211860743.py:1: DeprecationWarning:\n",
            "\n",
            "`groupby` is deprecated. It has been renamed to `group_by`.\n"
          ]
        },
        {
          "output_type": "display_data",
          "metadata": {},
          "data": {
            "text/html": [
              "</div>"
            ]
          }
        }
      ],
      "source": [
        "df_bpe.lazy().groupby(\"DEP\").agg(\n",
        "    (pl.col(\"TYPEQU\") == \"B203\").sum().alias(\"NB_BOULANGERIES_TOT\")\n",
        ").sort(\"NB_BOULANGERIES_TOT\", descending=True).head(5).collect()"
      ],
      "id": "5cec98bd"
    },
    {
      "cell_type": "markdown",
      "metadata": {},
      "source": [
        "# Explorer le plan d’exécution\n",
        "\n",
        "Il peut être utile pour comprendre les opérations effectuées par\n",
        "`Polars` de jeter un oeil au plan d’exécution.\n",
        "\n",
        "Pour cela, il suffit pour cela de ne pas effectuer d’action comme\n",
        "`collect` ou `head`."
      ],
      "id": "3926f8b5-0898-457d-b9a7-333d286e7eab"
    },
    {
      "cell_type": "code",
      "execution_count": 30,
      "metadata": {},
      "outputs": [
        {
          "output_type": "display_data",
          "metadata": {},
          "data": {
            "text/html": [
              "<i>naive plan: (run <b>LazyFrame.explain(optimized=True)</b> to see the optimized plan)</i>\n",
              "    <p></p>\n",
              "    <div> SELECT [col(\"NB_EQUIP\").sum().alias(\"NB_EQUIP_TOT\")] FROM<p></p>   WITH_COLUMNS:<p></p>   [col(\"NB_EQUIP\").cast(Int64)]<p></p>    DF [\"AAV2020\", \"AN\", \"BV2012\", \"DEP\"]; PROJECT */13 COLUMNS; SELECTION: \"None\"</div>"
            ]
          }
        }
      ],
      "source": [
        "df_bpe.lazy()\\\n",
        "    .with_columns(pl.col('NB_EQUIP').cast(pl.Int64, strict=False))\\\n",
        "    .select(\n",
        "        pl.col(\"NB_EQUIP\").sum().alias(\"NB_EQUIP_TOT\")\n",
        "    )"
      ],
      "id": "0a9c4c74"
    },
    {
      "cell_type": "markdown",
      "metadata": {},
      "source": [
        "<div class=\"alert alert-info\" role=\"alert\" style=\"color: rgba(0,0,0,.8); background-color: white; margin-top: 1em; margin-bottom: 1em; margin:1.5625emauto; padding:0 .6rem .8rem!important;overflow:hidden; page-break-inside:avoid; border-radius:.25rem; box-shadow:0 .2rem .5rem rgba(0,0,0,.05),0 0 .05rem rgba(0,0,0,.1); transition:color .25s,background-color .25s,border-color .25s ; border-right: 1px solid #dee2e6 ; border-top: 1px solid #dee2e6 ; border-bottom: 1px solid #dee2e6 ; border-left:.2rem solid #007bff80;\">\n",
        "<h3 class=\"alert-heading\"><i class=\"fa fa-comment\"></i> Note</h3>\n",
        "\n",
        "L’opération d’affichage du plan est ici instantanée puisqu’aucune action\n",
        "n’a été effectuée, seulement des transformations dont l’activation est\n",
        "retardée en attente d’une action n’ayant pas lieu.\n",
        "\n",
        "</div>"
      ],
      "id": "d07badf8-168a-4f1e-a3a0-d9bec01c73c9"
    },
    {
      "cell_type": "markdown",
      "metadata": {},
      "source": [
        "# Une interconnexion avec `DuckDB` pour faire des requêtes SQL\n",
        "\n",
        "`Polars` s’appuie sur [`Apache Arrow`](https://arrow.apache.org/), un\n",
        "écosystème pour lire des données (CSV ou Parquet) de manière très\n",
        "efficace et les stocker dans des objets peu volumineux pour gagner en\n",
        "performance. C’est également le cas d’une autre librairie intéressante\n",
        "pour le traitement de données: [`DuckDB`](https://duckdb.org/).\n",
        "\n",
        "Plutôt que concurrentes, ces deux librairies sont très complémentaires.\n",
        "Il est possible d’effectuer des requêtes SQL depuis un `DataFrame`\n",
        "`Polars` via `DuckDB` ou d’utiliser `DuckDB` pour lire les données et\n",
        "convertir celles-ci en `DataFrame Polars` à l’issue des requêtes. Ces\n",
        "deux approches sont intéressantes pour les personnes familières avec le\n",
        "langage SQL.\n",
        "\n",
        "Pour illustrer le premier cas, reprenons un exemple précédent qui\n",
        "illustrait la sélection d’observations en se restreignant au choix de\n",
        "deux départements:"
      ],
      "id": "419bf3de-278e-4208-946f-d12f3d5afadf"
    },
    {
      "cell_type": "code",
      "execution_count": 31,
      "metadata": {},
      "outputs": [
        {
          "output_type": "display_data",
          "metadata": {},
          "data": {
            "text/html": [
              "</div>"
            ]
          }
        }
      ],
      "source": [
        "df_bpe.filter(\n",
        "    pl.col(\"DEP\").is_in([\"75\", \"92\"])\n",
        ").head(5)"
      ],
      "id": "703fed73"
    },
    {
      "cell_type": "markdown",
      "metadata": {},
      "source": [
        "Avec `DuckDB`, pour effectuer la même opération, nommée *filtre* en SQL,\n",
        "une requête SQL s’écrira de la manière suivante:"
      ],
      "id": "f2264c67-1f8e-4bd1-adc8-84961f596128"
    },
    {
      "cell_type": "code",
      "execution_count": 32,
      "metadata": {},
      "outputs": [
        {
          "output_type": "display_data",
          "metadata": {},
          "data": {
            "text/plain": [
              "┌─────────┬─────────┬─────────┬─────────┬─────────┬───┬───────────┬─────────┬─────────┬─────────┬─────────┬──────────┐\n",
              "│ AAV2020 │   AN    │ BV2012  │   DEP   │ DEPCOM  │ … │  DCIRIS   │   REG   │  SDOM   │ TYPEQU  │ UU2020  │ NB_EQUIP │\n",
              "│ varchar │ varchar │ varchar │ varchar │ varchar │   │  varchar  │ varchar │ varchar │ varchar │ varchar │ varchar  │\n",
              "├─────────┼─────────┼─────────┼─────────┼─────────┼───┼───────────┼─────────┼─────────┼─────────┼─────────┼──────────┤\n",
              "│ 001     │ 2021    │ 75056   │ 75      │ 75101   │ … │ 751010201 │ 11      │ A1      │ A101    │ 00851   │ 1        │\n",
              "│ 001     │ 2021    │ 75056   │ 75      │ 75101   │ … │ 751010301 │ 11      │ A1      │ A101    │ 00851   │ 1        │\n",
              "│ 001     │ 2021    │ 75056   │ 75      │ 75101   │ … │ 751010402 │ 11      │ A1      │ A101    │ 00851   │ 1        │\n",
              "│ 001     │ 2021    │ 75056   │ 75      │ 75101   │ … │ 751010102 │ 11      │ A1      │ A105    │ 00851   │ 1        │\n",
              "│ 001     │ 2021    │ 75056   │ 75      │ 75101   │ … │ 751010402 │ 11      │ A1      │ A120    │ 00851   │ 1        │\n",
              "│ 001     │ 2021    │ 75056   │ 75      │ 75101   │ … │ 751010101 │ 11      │ A2      │ A203    │ 00851   │ 1        │\n",
              "│ 001     │ 2021    │ 75056   │ 75      │ 75101   │ … │ 751010102 │ 11      │ A2      │ A203    │ 00851   │ 1        │\n",
              "│ 001     │ 2021    │ 75056   │ 75      │ 75101   │ … │ 751010201 │ 11      │ A2      │ A203    │ 00851   │ 3        │\n",
              "│ 001     │ 2021    │ 75056   │ 75      │ 75101   │ … │ 751010202 │ 11      │ A2      │ A203    │ 00851   │ 3        │\n",
              "│ 001     │ 2021    │ 75056   │ 75      │ 75101   │ … │ 751010203 │ 11      │ A2      │ A203    │ 00851   │ 3        │\n",
              "│  ·      │  ·      │   ·     │ ·       │   ·     │ · │     ·     │ ·       │ ·       │  ·      │   ·     │ ·        │\n",
              "│  ·      │  ·      │   ·     │ ·       │   ·     │ · │     ·     │ ·       │ ·       │  ·      │   ·     │ ·        │\n",
              "│  ·      │  ·      │   ·     │ ·       │   ·     │ · │     ·     │ ·       │ ·       │  ·      │   ·     │ ·        │\n",
              "│ 001     │ 2021    │ 75056   │ 75      │ 75111   │ … │ 751114101 │ 11      │ A5      │ A501    │ 00851   │ 4        │\n",
              "│ 001     │ 2021    │ 75056   │ 75      │ 75111   │ … │ 751114102 │ 11      │ A5      │ A501    │ 00851   │ 2        │\n",
              "│ 001     │ 2021    │ 75056   │ 75      │ 75111   │ … │ 751114103 │ 11      │ A5      │ A501    │ 00851   │ 4        │\n",
              "│ 001     │ 2021    │ 75056   │ 75      │ 75111   │ … │ 751114104 │ 11      │ A5      │ A501    │ 00851   │ 2        │\n",
              "│ 001     │ 2021    │ 75056   │ 75      │ 75111   │ … │ 751114105 │ 11      │ A5      │ A501    │ 00851   │ 7        │\n",
              "│ 001     │ 2021    │ 75056   │ 75      │ 75111   │ … │ 751114106 │ 11      │ A5      │ A501    │ 00851   │ 9        │\n",
              "│ 001     │ 2021    │ 75056   │ 75      │ 75111   │ … │ 751114107 │ 11      │ A5      │ A501    │ 00851   │ 5        │\n",
              "│ 001     │ 2021    │ 75056   │ 75      │ 75111   │ … │ 751114108 │ 11      │ A5      │ A501    │ 00851   │ 1        │\n",
              "│ 001     │ 2021    │ 75056   │ 75      │ 75111   │ … │ 751114109 │ 11      │ A5      │ A501    │ 00851   │ 6        │\n",
              "│ 001     │ 2021    │ 75056   │ 75      │ 75111   │ … │ 751114110 │ 11      │ A5      │ A501    │ 00851   │ 2        │\n",
              "├─────────┴─────────┴─────────┴─────────┴─────────┴───┴───────────┴─────────┴─────────┴─────────┴─────────┴──────────┤\n",
              "│ ? rows (>9999 rows, 20 shown)                                                                13 columns (11 shown) │\n",
              "└────────────────────────────────────────────────────────────────────────────────────────────────────────────────────┘"
            ]
          }
        }
      ],
      "source": [
        "import duckdb \n",
        "\n",
        "df_duckdb = duckdb.sql(\"SELECT * FROM df_bpe WHERE CAST(DEP AS VARCHAR) in ('75', '92')\")\n",
        "df_duckdb"
      ],
      "id": "8bacfe89"
    },
    {
      "cell_type": "markdown",
      "metadata": {},
      "source": [
        "<div class=\"alert alert-info\" role=\"alert\" style=\"color: rgba(0,0,0,.8); background-color: white; margin-top: 1em; margin-bottom: 1em; margin:1.5625emauto; padding:0 .6rem .8rem!important;overflow:hidden; page-break-inside:avoid; border-radius:.25rem; box-shadow:0 .2rem .5rem rgba(0,0,0,.05),0 0 .05rem rgba(0,0,0,.1); transition:color .25s,background-color .25s,border-color .25s ; border-right: 1px solid #dee2e6 ; border-top: 1px solid #dee2e6 ; border-bottom: 1px solid #dee2e6 ; border-left:.2rem solid #007bff80;\">\n",
        "<h3 class=\"alert-heading\"><i class=\"fa fa-comment\"></i> Note</h3>\n",
        "\n",
        "`df_duckdb` n’est plus un objet `Polars`. Si vous désirez obtenir à\n",
        "nouveau un objet `Polars`, il faudra utiliser la méthode `pl`, comme\n",
        "montré dans le prochain exemple\n",
        "\n",
        "</div>"
      ],
      "id": "c2681d7f-12f6-40c2-92ba-77de68fe6e5f"
    },
    {
      "cell_type": "markdown",
      "metadata": {},
      "source": [
        "La seconde approche implique quant à elle d’utiliser `DuckDB` pour lire\n",
        "et traiter les données avant de transformer cela en objet `Polars` pour\n",
        "éventuellement des manipulations de données ultérieures. Cette approche\n",
        "fonctionne en deux temps:\n",
        "\n",
        "-   `DuckDB` sert à lire les données (ici au format `parquet`) et\n",
        "    effectuer le filtre\n",
        "-   Le résultat de cette requête est transformé en `DataFrame` `Polars`\n",
        "    avec la méthode `pl`:"
      ],
      "id": "c301b72f-5c8a-496f-a17e-367df8a639aa"
    },
    {
      "cell_type": "code",
      "execution_count": 33,
      "metadata": {},
      "outputs": [
        {
          "output_type": "display_data",
          "metadata": {},
          "data": {
            "text/html": [
              "</div>"
            ]
          }
        }
      ],
      "source": [
        "duckdb.sql(\"SELECT * FROM read_parquet(\\\"bpe.parquet\\\") WHERE CAST(DEP AS VARCHAR) in ('75', '92')\").pl()"
      ],
      "id": "f57a845c"
    },
    {
      "cell_type": "markdown",
      "metadata": {},
      "source": [
        "Cette approche est intéressante pour effectuer les opérations de\n",
        "sélection d’observations ou de variables le plus tôt possible afin de ne\n",
        "pas avoir en mémoire des données inutilisées."
      ],
      "id": "b3374e3c-2eae-41c8-b81c-7b5d8daaac3f"
    }
  ],
  "nbformat": 4,
  "nbformat_minor": 5,
  "metadata": {
    "kernelspec": {
      "name": "python3",
      "display_name": "Python 3 (ipykernel)",
      "language": "python"
    },
    "language_info": {
      "name": "python",
      "codemirror_mode": {
        "name": "ipython",
        "version": "3"
      },
      "file_extension": ".py",
      "mimetype": "text/x-python",
      "nbconvert_exporter": "python",
      "pygments_lexer": "ipython3",
      "version": "3.11.6"
    }
  }
}