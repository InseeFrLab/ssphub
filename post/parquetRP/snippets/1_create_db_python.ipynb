{
  "cells": [
    {
      "cell_type": "code",
      "metadata": {},
      "source": [
        "#| echo: true\n",
        "import duckdb\n",
        "\n",
        "renommage_documentation = \"SELECT \" +\\\n",
        "  \"COD_VAR AS nom_variable, \" +\\\n",
        "  \"LIB_VAR AS description_variable, \" +\\\n",
        "  \"TYPE_VAR AS type_variable, \"  +\\\n",
        "  \"COD_MOD AS code_modalite, \" +\\\n",
        "  \"LIB_MOD AS description_modalite\"\n",
        "    \n",
        "\n",
        "duckdb.sql(\n",
        "    'CREATE OR REPLACE VIEW table_individu ' +\\\n",
        "    f'AS SELECT * FROM read_parquet(\"{path_data}/FD_INDCVI_2020.parquet\")'\n",
        "    )\n",
        "duckdb.sql(\n",
        "    'CREATE OR REPLACE VIEW table_logement ' +\\\n",
        "    f'AS SELECT * FROM read_parquet(\"{path_data}/FD_LOGEMT_2020.parquet\")'\n",
        "    )\n",
        "duckdb.sql(\n",
        "    'CREATE OR REPLACE VIEW documentation ' +\\\n",
        "    f'AS {renommage_documentation} ' +\\\n",
        "    f'FROM read_csv_auto(\"{path_data}/dictionnaire_variables_2019.csv\", header=true)'\n",
        "    )"
      ],
      "id": "c516c49c",
      "execution_count": null,
      "outputs": []
    }
  ],
  "metadata": {
    "kernelspec": {
      "name": "python3",
      "language": "python",
      "display_name": "Python 3"
    }
  },
  "nbformat": 4,
  "nbformat_minor": 5
}